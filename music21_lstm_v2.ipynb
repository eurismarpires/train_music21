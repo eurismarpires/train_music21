{
 "cells": [
  {
   "cell_type": "code",
   "execution_count": 1,
   "metadata": {},
   "outputs": [
    {
     "name": "stderr",
     "output_type": "stream",
     "text": [
      "/home/eurismar/anaconda3/lib/python3.6/site-packages/h5py/__init__.py:36: FutureWarning: Conversion of the second argument of issubdtype from `float` to `np.floating` is deprecated. In future, it will be treated as `np.float64 == np.dtype(float).type`.\n",
      "  from ._conv import register_converters as _register_converters\n",
      "Using TensorFlow backend.\n",
      "/home/eurismar/anaconda3/lib/python3.6/importlib/_bootstrap.py:219: RuntimeWarning: compiletime version 3.5 of module 'tensorflow.python.framework.fast_tensor_util' does not match runtime version 3.6\n",
      "  return f(*args, **kwds)\n"
     ]
    }
   ],
   "source": [
    "from music21 import *\n",
    "import pandas as pd\n",
    "import glob\n",
    "from sklearn.preprocessing import MultiLabelBinarizer\n",
    "from sklearn.preprocessing import StandardScaler\n",
    "import matplotlib.pyplot as plt\n",
    "import numpy as np\n",
    "from keras.models import Sequential\n",
    "from keras.layers import Dense\n",
    "from keras.layers import Dropout\n",
    "from keras.layers import LSTM\n",
    "from keras.optimizers import Adam"
   ]
  },
  {
   "cell_type": "code",
   "execution_count": 2,
   "metadata": {
    "collapsed": true
   },
   "outputs": [],
   "source": [
    "%matplotlib inline"
   ]
  },
  {
   "cell_type": "code",
   "execution_count": 3,
   "metadata": {
    "collapsed": true
   },
   "outputs": [],
   "source": [
    "path = '/home/eurismar/notebooks/c-rnn-gan/datadir/classical/bach_teste'"
   ]
  },
  {
   "cell_type": "code",
   "execution_count": 4,
   "metadata": {
    "collapsed": true
   },
   "outputs": [],
   "source": [
    "files = glob.glob('{}/*.mid*'.format(path))"
   ]
  },
  {
   "cell_type": "code",
   "execution_count": 5,
   "metadata": {},
   "outputs": [
    {
     "data": {
      "text/plain": [
       "['/home/eurismar/notebooks/c-rnn-gan/datadir/classical/bach_teste/air.mid']"
      ]
     },
     "execution_count": 5,
     "metadata": {},
     "output_type": "execute_result"
    }
   ],
   "source": [
    "files"
   ]
  },
  {
   "cell_type": "code",
   "execution_count": 7,
   "metadata": {},
   "outputs": [
    {
     "name": "stderr",
     "output_type": "stream",
     "text": [
      "/home/eurismar/anaconda3/lib/python3.6/site-packages/ipykernel_launcher.py:8: Music21DeprecationWarning: Note._getMidi was deprecated on May 2014 and will disappear at or after September 2017, v.5. use pitch.midi instead\n",
      "  \n"
     ]
    }
   ],
   "source": [
    "coluna1 = []\n",
    "coluna2 = []\n",
    "midi = converter.parse(files[0])\n",
    "part0 = midi[1]\n",
    "melodia = part0.getElementsByClass(note.Note)\n",
    "notas = melodia.getElementsByClass(note.Note)\n",
    "for nota in notas:\n",
    "    coluna1.append(nota.midi)\n",
    "    coluna2.append(nota.duration.quarterLength)"
   ]
  },
  {
   "cell_type": "code",
   "execution_count": 8,
   "metadata": {
    "collapsed": true
   },
   "outputs": [],
   "source": [
    "df = pd.DataFrame({\"nota\":coluna1,\n",
    "                   \"duracao\":coluna2})"
   ]
  },
  {
   "cell_type": "code",
   "execution_count": 9,
   "metadata": {},
   "outputs": [
    {
     "data": {
      "text/html": [
       "<div>\n",
       "<style>\n",
       "    .dataframe thead tr:only-child th {\n",
       "        text-align: right;\n",
       "    }\n",
       "\n",
       "    .dataframe thead th {\n",
       "        text-align: left;\n",
       "    }\n",
       "\n",
       "    .dataframe tbody tr th {\n",
       "        vertical-align: top;\n",
       "    }\n",
       "</style>\n",
       "<table border=\"1\" class=\"dataframe\">\n",
       "  <thead>\n",
       "    <tr style=\"text-align: right;\">\n",
       "      <th></th>\n",
       "      <th>duracao</th>\n",
       "      <th>nota</th>\n",
       "    </tr>\n",
       "  </thead>\n",
       "  <tbody>\n",
       "    <tr>\n",
       "      <th>0</th>\n",
       "      <td>5</td>\n",
       "      <td>74</td>\n",
       "    </tr>\n",
       "    <tr>\n",
       "      <th>1</th>\n",
       "      <td>1</td>\n",
       "      <td>71</td>\n",
       "    </tr>\n",
       "    <tr>\n",
       "      <th>2</th>\n",
       "      <td>8/3</td>\n",
       "      <td>69</td>\n",
       "    </tr>\n",
       "    <tr>\n",
       "      <th>3</th>\n",
       "      <td>0.25</td>\n",
       "      <td>72</td>\n",
       "    </tr>\n",
       "    <tr>\n",
       "      <th>4</th>\n",
       "      <td>0.25</td>\n",
       "      <td>71</td>\n",
       "    </tr>\n",
       "  </tbody>\n",
       "</table>\n",
       "</div>"
      ],
      "text/plain": [
       "  duracao  nota\n",
       "0       5    74\n",
       "1       1    71\n",
       "2     8/3    69\n",
       "3    0.25    72\n",
       "4    0.25    71"
      ]
     },
     "execution_count": 9,
     "metadata": {},
     "output_type": "execute_result"
    }
   ],
   "source": [
    "df.head()"
   ]
  },
  {
   "cell_type": "code",
   "execution_count": 10,
   "metadata": {},
   "outputs": [
    {
     "data": {
      "text/html": [
       "<div>\n",
       "<style>\n",
       "    .dataframe thead tr:only-child th {\n",
       "        text-align: right;\n",
       "    }\n",
       "\n",
       "    .dataframe thead th {\n",
       "        text-align: left;\n",
       "    }\n",
       "\n",
       "    .dataframe tbody tr th {\n",
       "        vertical-align: top;\n",
       "    }\n",
       "</style>\n",
       "<table border=\"1\" class=\"dataframe\">\n",
       "  <thead>\n",
       "    <tr style=\"text-align: right;\">\n",
       "      <th></th>\n",
       "      <th>duracao</th>\n",
       "      <th>nota</th>\n",
       "    </tr>\n",
       "  </thead>\n",
       "  <tbody>\n",
       "    <tr>\n",
       "      <th>197</th>\n",
       "      <td>0</td>\n",
       "      <td>71</td>\n",
       "    </tr>\n",
       "    <tr>\n",
       "      <th>198</th>\n",
       "      <td>0.25</td>\n",
       "      <td>67</td>\n",
       "    </tr>\n",
       "    <tr>\n",
       "      <th>199</th>\n",
       "      <td>0.25</td>\n",
       "      <td>66</td>\n",
       "    </tr>\n",
       "    <tr>\n",
       "      <th>200</th>\n",
       "      <td>2/3</td>\n",
       "      <td>67</td>\n",
       "    </tr>\n",
       "    <tr>\n",
       "      <th>201</th>\n",
       "      <td>2</td>\n",
       "      <td>66</td>\n",
       "    </tr>\n",
       "  </tbody>\n",
       "</table>\n",
       "</div>"
      ],
      "text/plain": [
       "    duracao  nota\n",
       "197       0    71\n",
       "198    0.25    67\n",
       "199    0.25    66\n",
       "200     2/3    67\n",
       "201       2    66"
      ]
     },
     "execution_count": 10,
     "metadata": {},
     "output_type": "execute_result"
    }
   ],
   "source": [
    "df.tail()"
   ]
  },
  {
   "cell_type": "code",
   "execution_count": 11,
   "metadata": {},
   "outputs": [
    {
     "data": {
      "text/html": [
       "<div>\n",
       "<style>\n",
       "    .dataframe thead tr:only-child th {\n",
       "        text-align: right;\n",
       "    }\n",
       "\n",
       "    .dataframe thead th {\n",
       "        text-align: left;\n",
       "    }\n",
       "\n",
       "    .dataframe tbody tr th {\n",
       "        vertical-align: top;\n",
       "    }\n",
       "</style>\n",
       "<table border=\"1\" class=\"dataframe\">\n",
       "  <thead>\n",
       "    <tr style=\"text-align: right;\">\n",
       "      <th></th>\n",
       "      <th>nota</th>\n",
       "    </tr>\n",
       "  </thead>\n",
       "  <tbody>\n",
       "    <tr>\n",
       "      <th>count</th>\n",
       "      <td>202.000000</td>\n",
       "    </tr>\n",
       "    <tr>\n",
       "      <th>mean</th>\n",
       "      <td>70.633663</td>\n",
       "    </tr>\n",
       "    <tr>\n",
       "      <th>std</th>\n",
       "      <td>3.978106</td>\n",
       "    </tr>\n",
       "    <tr>\n",
       "      <th>min</th>\n",
       "      <td>59.000000</td>\n",
       "    </tr>\n",
       "    <tr>\n",
       "      <th>25%</th>\n",
       "      <td>69.000000</td>\n",
       "    </tr>\n",
       "    <tr>\n",
       "      <th>50%</th>\n",
       "      <td>71.000000</td>\n",
       "    </tr>\n",
       "    <tr>\n",
       "      <th>75%</th>\n",
       "      <td>73.000000</td>\n",
       "    </tr>\n",
       "    <tr>\n",
       "      <th>max</th>\n",
       "      <td>81.000000</td>\n",
       "    </tr>\n",
       "  </tbody>\n",
       "</table>\n",
       "</div>"
      ],
      "text/plain": [
       "             nota\n",
       "count  202.000000\n",
       "mean    70.633663\n",
       "std      3.978106\n",
       "min     59.000000\n",
       "25%     69.000000\n",
       "50%     71.000000\n",
       "75%     73.000000\n",
       "max     81.000000"
      ]
     },
     "execution_count": 11,
     "metadata": {},
     "output_type": "execute_result"
    }
   ],
   "source": [
    "df.describe()"
   ]
  },
  {
   "cell_type": "code",
   "execution_count": 12,
   "metadata": {},
   "outputs": [
    {
     "data": {
      "text/plain": [
       "array([74, 71, 69, 72, 81, 76, 78, 79, 68, 64, 73, 67, 66, 75, 70, 59, 61,\n",
       "       62])"
      ]
     },
     "execution_count": 12,
     "metadata": {},
     "output_type": "execute_result"
    }
   ],
   "source": [
    "df['nota'].unique()"
   ]
  },
  {
   "cell_type": "code",
   "execution_count": 13,
   "metadata": {},
   "outputs": [
    {
     "data": {
      "text/plain": [
       "array([5.0, 1.0, Fraction(8, 3), 0.25, 0.5, 2.5, Fraction(1, 3), 2.0,\n",
       "       4.75, Fraction(7, 3), 2.25, 0.75, Fraction(5, 3), 4.25, 1.25, 1.5,\n",
       "       0.0, Fraction(2, 3)], dtype=object)"
      ]
     },
     "execution_count": 13,
     "metadata": {},
     "output_type": "execute_result"
    }
   ],
   "source": [
    "df['duracao'].unique()"
   ]
  },
  {
   "cell_type": "code",
   "execution_count": 14,
   "metadata": {
    "collapsed": true
   },
   "outputs": [],
   "source": [
    "mlb = MultiLabelBinarizer()"
   ]
  },
  {
   "cell_type": "code",
   "execution_count": 15,
   "metadata": {},
   "outputs": [
    {
     "data": {
      "text/plain": [
       "MultiLabelBinarizer(classes=None, sparse_output=False)"
      ]
     },
     "execution_count": 15,
     "metadata": {},
     "output_type": "execute_result"
    }
   ],
   "source": [
    "mlb.fit(df.values)"
   ]
  },
  {
   "cell_type": "code",
   "execution_count": 16,
   "metadata": {
    "collapsed": true
   },
   "outputs": [],
   "source": [
    "classes = mlb.classes_"
   ]
  },
  {
   "cell_type": "code",
   "execution_count": 17,
   "metadata": {},
   "outputs": [
    {
     "data": {
      "text/plain": [
       "array([0.0, 0.25, Fraction(1, 3), 0.5, Fraction(2, 3), 0.75, 1.0, 1.25,\n",
       "       1.5, Fraction(5, 3), 2.0, 2.25, Fraction(7, 3), 2.5,\n",
       "       Fraction(8, 3), 4.25, 4.75, 5.0, 59, 61, 62, 64, 66, 67, 68, 69,\n",
       "       70, 71, 72, 73, 74, 75, 76, 78, 79, 81], dtype=object)"
      ]
     },
     "execution_count": 17,
     "metadata": {},
     "output_type": "execute_result"
    }
   ],
   "source": [
    "classes"
   ]
  },
  {
   "cell_type": "code",
   "execution_count": 18,
   "metadata": {},
   "outputs": [
    {
     "data": {
      "text/plain": [
       "(36,)"
      ]
     },
     "execution_count": 18,
     "metadata": {},
     "output_type": "execute_result"
    }
   ],
   "source": [
    "classes.shape"
   ]
  },
  {
   "cell_type": "code",
   "execution_count": 19,
   "metadata": {
    "collapsed": true
   },
   "outputs": [],
   "source": [
    "labels = mlb.transform(df.values)"
   ]
  },
  {
   "cell_type": "code",
   "execution_count": 20,
   "metadata": {},
   "outputs": [
    {
     "data": {
      "text/plain": [
       "array([[0, 0, 0, ..., 0, 0, 0],\n",
       "       [0, 0, 0, ..., 0, 0, 0],\n",
       "       [0, 0, 0, ..., 0, 0, 0],\n",
       "       ...,\n",
       "       [0, 1, 0, ..., 0, 0, 0],\n",
       "       [0, 0, 0, ..., 0, 0, 0],\n",
       "       [0, 0, 0, ..., 0, 0, 0]])"
      ]
     },
     "execution_count": 20,
     "metadata": {},
     "output_type": "execute_result"
    }
   ],
   "source": [
    "labels"
   ]
  },
  {
   "cell_type": "code",
   "execution_count": 21,
   "metadata": {},
   "outputs": [
    {
     "data": {
      "text/plain": [
       "(202, 36)"
      ]
     },
     "execution_count": 21,
     "metadata": {},
     "output_type": "execute_result"
    }
   ],
   "source": [
    "labels.shape"
   ]
  },
  {
   "cell_type": "code",
   "execution_count": 22,
   "metadata": {
    "collapsed": true
   },
   "outputs": [],
   "source": [
    "array_notas = df['nota'].values.astype(int)"
   ]
  },
  {
   "cell_type": "code",
   "execution_count": 23,
   "metadata": {},
   "outputs": [
    {
     "data": {
      "text/plain": [
       "(202,)"
      ]
     },
     "execution_count": 23,
     "metadata": {},
     "output_type": "execute_result"
    }
   ],
   "source": [
    "array_notas.shape"
   ]
  },
  {
   "cell_type": "code",
   "execution_count": 24,
   "metadata": {
    "collapsed": true
   },
   "outputs": [],
   "source": [
    "array_duracao = df['duracao'].values.astype(float)"
   ]
  },
  {
   "cell_type": "code",
   "execution_count": 25,
   "metadata": {},
   "outputs": [
    {
     "name": "stderr",
     "output_type": "stream",
     "text": [
      "/home/eurismar/anaconda3/lib/python3.6/site-packages/sklearn/utils/validation.py:475: DataConversionWarning: Data with input dtype object was converted to float64 by StandardScaler.\n",
      "  warnings.warn(msg, DataConversionWarning)\n"
     ]
    }
   ],
   "source": [
    "scaler = StandardScaler()\n",
    "rawX = scaler.fit_transform(df.values)"
   ]
  },
  {
   "cell_type": "code",
   "execution_count": 26,
   "metadata": {},
   "outputs": [
    {
     "data": {
      "text/plain": [
       "array([[ 5.34519105,  0.84831829],\n",
       "       [ 0.37711471,  0.09231699],\n",
       "       [ 2.44714651, -0.41168387],\n",
       "       [-0.55439961,  0.34431742],\n",
       "       [-0.55439961,  0.09231699],\n",
       "       [-0.24389484,  0.34431742],\n",
       "       [-0.55439961,  2.61232131],\n",
       "       [-0.55439961,  0.34431742],\n",
       "       [-0.24389484,  0.09231699],\n",
       "       [-0.24389484,  0.09231699],\n",
       "       [-0.55439961,  1.35231915],\n",
       "       [-0.55439961,  0.84831829],\n",
       "       [-0.55439961,  1.35231915],\n",
       "       [-0.55439961,  1.85632001],\n",
       "       [-0.55439961,  2.10832044],\n",
       "       [-0.55439961,  1.35231915],\n",
       "       [-0.24389484, -0.41168387],\n",
       "       [ 2.24014333, -0.41168387],\n",
       "       [-0.55439961, -0.66368431],\n",
       "       [-0.45089802, -0.41168387],\n",
       "       [-0.24389484,  0.09231699],\n",
       "       [-0.24389484, -0.66368431],\n",
       "       [-0.24389484, -0.41168387],\n",
       "       [ 0.37711471, -0.41168387],\n",
       "       [-0.24389484, -0.66368431],\n",
       "       [ 1.61913379, -1.67168603],\n",
       "       [ 5.03468627,  0.84831829],\n",
       "       [-0.55439961,  0.59631785],\n",
       "       [ 0.37711471,  0.09231699],\n",
       "       [ 2.03314015, -0.41168387],\n",
       "       [-0.55439961,  0.09231699],\n",
       "       [-0.55439961,  0.34431742],\n",
       "       [-0.55439961,  0.09231699],\n",
       "       [-0.24389484,  0.34431742],\n",
       "       [-0.55439961,  2.61232131],\n",
       "       [-0.55439961,  0.34431742],\n",
       "       [-0.24389484,  0.09231699],\n",
       "       [-0.24389484,  0.09231699],\n",
       "       [-0.55439961,  1.35231915],\n",
       "       [-0.55439961,  0.84831829],\n",
       "       [-0.55439961,  1.35231915],\n",
       "       [-0.55439961,  1.85632001],\n",
       "       [-0.55439961,  2.10832044],\n",
       "       [-0.55439961,  1.35231915],\n",
       "       [-0.24389484, -0.41168387],\n",
       "       [ 2.24014333, -0.41168387],\n",
       "       [-0.55439961, -0.66368431],\n",
       "       [-0.55439961, -0.41168387],\n",
       "       [-0.24389484,  0.09231699],\n",
       "       [-0.24389484, -0.66368431],\n",
       "       [-0.24389484, -0.41168387],\n",
       "       [ 0.37711471, -0.41168387],\n",
       "       [-0.24389484, -0.66368431],\n",
       "       [ 1.61913379, -1.67168603],\n",
       "       [ 1.92963856, -0.41168387],\n",
       "       [-0.55439961,  0.09231699],\n",
       "       [ 0.06660993,  0.34431742],\n",
       "       [-0.55439961,  0.09231699],\n",
       "       [-0.55439961, -0.41168387],\n",
       "       [-0.55439961, -0.91568474],\n",
       "       [ 1.20512743, -1.16768517],\n",
       "       [-0.24389484,  1.10031872],\n",
       "       [ 4.41367673,  1.35231915],\n",
       "       [-0.55439961,  0.84831829],\n",
       "       [-0.55439961,  0.59631785],\n",
       "       [-0.55439961,  0.09231699],\n",
       "       [-0.55439961, -0.15968344],\n",
       "       [-0.55439961,  0.09231699],\n",
       "       [-0.24389484,  0.59631785],\n",
       "       [-0.24389484,  0.09231699],\n",
       "       [-0.24389484,  0.09231699],\n",
       "       [-0.24389484,  0.09231699],\n",
       "       [-0.24389484, -0.15968344],\n",
       "       [ 1.61913379, -1.16768517],\n",
       "       [ 0.37711471, -1.67168603],\n",
       "       [ 0.37711471, -1.16768517],\n",
       "       [-0.24389484, -2.93168819],\n",
       "       [-0.55439961, -1.67168603],\n",
       "       [-0.24389484, -1.16768517],\n",
       "       [-0.55439961, -0.66368431],\n",
       "       [-0.55439961, -0.41168387],\n",
       "       [ 0.37711471,  0.09231699],\n",
       "       [ 0.37711471, -0.41168387],\n",
       "       [-0.24389484, -0.66368431],\n",
       "       [ 2.44714651, -0.41168387],\n",
       "       [-0.55439961,  0.09231699],\n",
       "       [-0.55439961,  0.34431742],\n",
       "       [-0.24389484,  0.09231699],\n",
       "       [-0.55439961,  0.59631785],\n",
       "       [ 0.37711471,  0.84831829],\n",
       "       [-0.55439961,  0.59631785],\n",
       "       [-0.55439961,  0.09231699],\n",
       "       [-0.55439961,  0.59631785],\n",
       "       [-0.55439961,  1.10031872],\n",
       "       [ 0.37711471,  1.35231915],\n",
       "       [-0.55439961,  1.10031872],\n",
       "       [-0.55439961,  0.59631785],\n",
       "       [-0.55439961,  1.10031872],\n",
       "       [-0.55439961,  1.35231915],\n",
       "       [ 0.06660993,  1.85632001],\n",
       "       [-0.55439961,  1.10031872],\n",
       "       [-0.45089802,  1.35231915],\n",
       "       [-0.55439961,  0.09231699],\n",
       "       [ 0.68761948, -1.67168603],\n",
       "       [-0.55439961, -2.42768733],\n",
       "       [-0.55439961, -1.67168603],\n",
       "       [-0.45089802, -0.41168387],\n",
       "       [-0.24389484,  0.59631785],\n",
       "       [ 0.37711471, -0.41168387],\n",
       "       [-0.55439961,  0.59631785],\n",
       "       [-0.55439961,  0.84831829],\n",
       "       [ 0.99812425, -2.1756869 ],\n",
       "       [-0.24389484, -1.67168603],\n",
       "       [ 0.37711471, -1.16768517],\n",
       "       [ 2.24014333, -0.91568474],\n",
       "       [-0.24389484,  0.09231699],\n",
       "       [ 0.68761948,  1.35231915],\n",
       "       [-0.55439961,  0.84831829],\n",
       "       [-0.55439961,  0.59631785],\n",
       "       [-0.55439961,  0.09231699],\n",
       "       [-0.24389484, -0.41168387],\n",
       "       [-0.24389484,  0.09231699],\n",
       "       [ 0.37711471, -0.41168387],\n",
       "       [-0.86490438,  0.09231699],\n",
       "       [-0.55439961, -0.91568474],\n",
       "       [-0.55439961, -1.16768517],\n",
       "       [-0.03689166, -0.91568474],\n",
       "       [ 1.61913379, -1.16768517],\n",
       "       [ 1.92963856, -0.41168387],\n",
       "       [-0.55439961,  0.09231699],\n",
       "       [ 0.06660993,  0.34431742],\n",
       "       [-0.55439961,  0.09231699],\n",
       "       [-0.55439961, -0.41168387],\n",
       "       [-0.55439961, -0.91568474],\n",
       "       [ 1.20512743, -1.16768517],\n",
       "       [-0.24389484,  1.10031872],\n",
       "       [ 4.41367673,  1.35231915],\n",
       "       [-0.55439961,  0.84831829],\n",
       "       [-0.55439961,  0.59631785],\n",
       "       [-0.55439961,  0.09231699],\n",
       "       [-0.55439961, -0.15968344],\n",
       "       [-0.55439961,  0.09231699],\n",
       "       [-0.24389484,  0.59631785],\n",
       "       [-0.24389484,  0.09231699],\n",
       "       [-0.24389484,  0.09231699],\n",
       "       [-0.24389484,  0.09231699],\n",
       "       [-0.24389484, -0.15968344],\n",
       "       [ 1.61913379, -1.16768517],\n",
       "       [ 0.37711471, -1.67168603],\n",
       "       [ 0.37711471, -1.16768517],\n",
       "       [-0.24389484, -2.93168819],\n",
       "       [-0.55439961, -1.67168603],\n",
       "       [-0.24389484, -1.16768517],\n",
       "       [-0.55439961, -0.66368431],\n",
       "       [-0.55439961, -0.41168387],\n",
       "       [ 0.37711471,  0.09231699],\n",
       "       [ 0.37711471, -0.41168387],\n",
       "       [-0.24389484, -0.66368431],\n",
       "       [ 2.44714651, -0.41168387],\n",
       "       [-0.55439961,  0.09231699],\n",
       "       [-0.55439961,  0.34431742],\n",
       "       [-0.24389484,  0.09231699],\n",
       "       [-0.55439961,  0.59631785],\n",
       "       [ 0.37711471,  0.84831829],\n",
       "       [-0.55439961,  0.59631785],\n",
       "       [-0.55439961,  0.09231699],\n",
       "       [-0.55439961,  0.59631785],\n",
       "       [-0.55439961,  1.10031872],\n",
       "       [ 0.37711471,  1.35231915],\n",
       "       [-0.55439961,  1.10031872],\n",
       "       [-0.55439961,  0.59631785],\n",
       "       [-0.55439961,  1.10031872],\n",
       "       [-0.55439961,  1.35231915],\n",
       "       [ 0.06660993,  1.85632001],\n",
       "       [-0.55439961,  1.10031872],\n",
       "       [-0.45089802,  1.35231915],\n",
       "       [-0.55439961,  0.09231699],\n",
       "       [ 0.68761948, -1.67168603],\n",
       "       [-0.55439961, -2.42768733],\n",
       "       [-0.55439961, -1.67168603],\n",
       "       [-0.45089802, -0.41168387],\n",
       "       [-0.24389484,  0.59631785],\n",
       "       [ 0.37711471, -0.41168387],\n",
       "       [-0.55439961,  0.59631785],\n",
       "       [-0.55439961,  0.84831829],\n",
       "       [ 0.99812425, -2.1756869 ],\n",
       "       [-0.24389484, -1.67168603],\n",
       "       [ 0.37711471, -1.16768517],\n",
       "       [ 2.24014333, -0.91568474],\n",
       "       [-0.24389484,  0.09231699],\n",
       "       [ 0.68761948,  1.35231915],\n",
       "       [-0.55439961,  0.84831829],\n",
       "       [-0.55439961,  0.59631785],\n",
       "       [-0.55439961,  0.09231699],\n",
       "       [-0.24389484, -0.41168387],\n",
       "       [-0.24389484,  0.09231699],\n",
       "       [ 0.37711471, -0.41168387],\n",
       "       [-0.86490438,  0.09231699],\n",
       "       [-0.55439961, -0.91568474],\n",
       "       [-0.55439961, -1.16768517],\n",
       "       [-0.03689166, -0.91568474],\n",
       "       [ 1.61913379, -1.16768517]])"
      ]
     },
     "execution_count": 26,
     "metadata": {},
     "output_type": "execute_result"
    }
   ],
   "source": [
    "rawX"
   ]
  },
  {
   "cell_type": "code",
   "execution_count": 27,
   "metadata": {},
   "outputs": [
    {
     "data": {
      "text/plain": [
       "array([ 5., 74.])"
      ]
     },
     "execution_count": 27,
     "metadata": {},
     "output_type": "execute_result"
    }
   ],
   "source": [
    "scaler.inverse_transform(rawX[0])"
   ]
  },
  {
   "cell_type": "code",
   "execution_count": 28,
   "metadata": {},
   "outputs": [
    {
     "name": "stdout",
     "output_type": "stream",
     "text": [
      "Total Patterns:  102\n"
     ]
    }
   ],
   "source": [
    "# prepare the dataset of input to output pairs encoded as integers\n",
    "seq_length = 100\n",
    "dataX = []\n",
    "dataY = []\n",
    "for i in range(0, rawX.shape[0] - seq_length, 1):\n",
    "\tseq_in = rawX[i:i + seq_length]\n",
    "\tseq_out = labels[i + seq_length]\n",
    "\tdataX.append(seq_in)\n",
    "\tdataY.append(seq_out)\n",
    "n_patterns = len(dataX)\n",
    "print(\"Total Patterns: \", n_patterns)"
   ]
  },
  {
   "cell_type": "code",
   "execution_count": 29,
   "metadata": {
    "collapsed": true
   },
   "outputs": [],
   "source": [
    "X = np.reshape(dataX, (len(dataX), seq_length, 2))\n",
    "y = np.asarray(dataY)"
   ]
  },
  {
   "cell_type": "code",
   "execution_count": 30,
   "metadata": {},
   "outputs": [
    {
     "data": {
      "text/plain": [
       "(102, 100, 2)"
      ]
     },
     "execution_count": 30,
     "metadata": {},
     "output_type": "execute_result"
    }
   ],
   "source": [
    "X.shape"
   ]
  },
  {
   "cell_type": "code",
   "execution_count": 31,
   "metadata": {},
   "outputs": [
    {
     "data": {
      "text/plain": [
       "(102, 36)"
      ]
     },
     "execution_count": 31,
     "metadata": {},
     "output_type": "execute_result"
    }
   ],
   "source": [
    "y.shape"
   ]
  },
  {
   "cell_type": "code",
   "execution_count": 32,
   "metadata": {},
   "outputs": [
    {
     "name": "stdout",
     "output_type": "stream",
     "text": [
      "_________________________________________________________________\n",
      "Layer (type)                 Output Shape              Param #   \n",
      "=================================================================\n",
      "lstm_1 (LSTM)                (None, 100, 256)          265216    \n",
      "_________________________________________________________________\n",
      "dropout_1 (Dropout)          (None, 100, 256)          0         \n",
      "_________________________________________________________________\n",
      "lstm_2 (LSTM)                (None, 256)               525312    \n",
      "_________________________________________________________________\n",
      "dropout_2 (Dropout)          (None, 256)               0         \n",
      "_________________________________________________________________\n",
      "dense_1 (Dense)              (None, 36)                9252      \n",
      "=================================================================\n",
      "Total params: 799,780\n",
      "Trainable params: 799,780\n",
      "Non-trainable params: 0\n",
      "_________________________________________________________________\n",
      "None\n"
     ]
    }
   ],
   "source": [
    "model = Sequential()\n",
    "model.add(LSTM(256, input_shape=(seq_length, 2),return_sequences=True))\n",
    "model.add(Dropout(0.2))\n",
    "model.add(LSTM(256))\n",
    "model.add(Dropout(0.2))\n",
    "model.add(Dense(y.shape[1], activation='sigmoid'))\n",
    "adam = Adam(lr=0.001)\n",
    "model.compile(loss='binary_crossentropy', optimizer=adam,metrics=['accuracy'])\n",
    "print(model.summary())"
   ]
  },
  {
   "cell_type": "code",
   "execution_count": 33,
   "metadata": {},
   "outputs": [
    {
     "name": "stdout",
     "output_type": "stream",
     "text": [
      "Epoch 1/10\n",
      "102/102 [==============================] - 3s - loss: 0.6901 - acc: 0.6021     \n",
      "Epoch 2/10\n",
      "102/102 [==============================] - 1s - loss: 0.6127 - acc: 0.9142     \n",
      "Epoch 3/10\n",
      "102/102 [==============================] - 1s - loss: 0.2479 - acc: 0.9412     \n",
      "Epoch 4/10\n",
      "102/102 [==============================] - 1s - loss: 0.2782 - acc: 0.8638     \n",
      "Epoch 5/10\n",
      "102/102 [==============================] - 1s - loss: 0.2640 - acc: 0.8660     \n",
      "Epoch 6/10\n",
      "102/102 [==============================] - 1s - loss: 0.2655 - acc: 0.8521     \n",
      "Epoch 7/10\n",
      "102/102 [==============================] - 1s - loss: 0.2521 - acc: 0.8753     \n",
      "Epoch 8/10\n",
      "102/102 [==============================] - 1s - loss: 0.2337 - acc: 0.9096     \n",
      "Epoch 9/10\n",
      "102/102 [==============================] - 1s - loss: 0.2300 - acc: 0.9213     \n",
      "Epoch 10/10\n",
      "102/102 [==============================] - 1s - loss: 0.2180 - acc: 0.9330     \n"
     ]
    }
   ],
   "source": [
    "history = model.fit(X, y, epochs=10,batch_size=32, verbose=1, shuffle=False)"
   ]
  },
  {
   "cell_type": "code",
   "execution_count": 34,
   "metadata": {},
   "outputs": [
    {
     "data": {
      "image/png": "[encoded data removed]",
      "text/plain": [
       "<matplotlib.figure.Figure at 0x7fbbabd86518>"
      ]
     },
     "metadata": {
      "image/png": {
       "height": 277,
       "width": 393
      }
     },
     "output_type": "display_data"
    },
    {
     "data": {
      "image/png": "[encoded data removed]",
      "text/plain": [
       "<matplotlib.figure.Figure at 0x7fbba853bb70>"
      ]
     },
     "metadata": {
      "image/png": {
       "height": 277,
       "width": 387
      }
     },
     "output_type": "display_data"
    }
   ],
   "source": [
    "\n",
    "# summarize history for accuracy\n",
    "plt.plot(history.history['acc'])\n",
    "plt.title('model accuracy')\n",
    "plt.ylabel('accuracy')\n",
    "plt.xlabel('epoch')\n",
    "plt.legend(['train', 'test'], loc='upper left')\n",
    "plt.show()\n",
    "# summarize history for loss\n",
    "plt.plot(history.history['loss'])\n",
    "plt.title('model loss')\n",
    "plt.ylabel('loss')\n",
    "plt.xlabel('epoch')\n",
    "plt.legend(['train', 'test'], loc='upper left')\n",
    "plt.show()"
   ]
  },
  {
   "cell_type": "markdown",
   "metadata": {},
   "source": [
    "## **Prevendo somente uma label**"
   ]
  },
  {
   "cell_type": "code",
   "execution_count": 35,
   "metadata": {},
   "outputs": [
    {
     "name": "stdout",
     "output_type": "stream",
     "text": [
      "idxs: [ 1 32]\n",
      "antes sort: [0.25, 76]\n",
      "depois sort: [0.25, 76]\n",
      "[[ 0.25 76.  ]]\n",
      "[[-0.55439961  1.35231915]]\n"
     ]
    }
   ],
   "source": [
    "start = np.random.randint(0, len(dataX)-1)\n",
    "pattern = dataX[start]\n",
    "p = np.reshape(pattern, (1, len(pattern), 2))\n",
    "prediction = model.predict(p, verbose=0)\n",
    "idxs = np.argsort(prediction[0])[::-1][:2]\n",
    "print('idxs:',idxs)\n",
    "new_pattern = [mlb.classes_[idxs[0]],mlb.classes_[idxs[1]]]\n",
    "print('antes sort:',new_pattern)\n",
    "new_pattern.sort()\n",
    "print('depois sort:',new_pattern)\n",
    "t = np.asarray(new_pattern)\n",
    "t1 = t.reshape(1,2)\n",
    "print(t1)\n",
    "pt = scaler.transform(t1)\n",
    "print(pt)"
   ]
  },
  {
   "cell_type": "markdown",
   "metadata": {},
   "source": [
    "## **Prevendo uma sequencia**"
   ]
  },
  {
   "cell_type": "code",
   "execution_count": 36,
   "metadata": {},
   "outputs": [
    {
     "data": {
      "text/plain": [
       "102"
      ]
     },
     "execution_count": 36,
     "metadata": {},
     "output_type": "execute_result"
    }
   ],
   "source": [
    "len(dataX)"
   ]
  },
  {
   "cell_type": "code",
   "execution_count": null,
   "metadata": {
    "collapsed": true
   },
   "outputs": [],
   "source": []
  },
  {
   "cell_type": "code",
   "execution_count": 69,
   "metadata": {},
   "outputs": [
    {
     "name": "stdout",
     "output_type": "stream",
     "text": [
      "23\n"
     ]
    }
   ],
   "source": [
    "start = np.random.randint(0, len(dataX)-1)\n",
    "print(start)\n",
    "pattern = dataX[start]\n",
    "for i in range(10):\n",
    "    p = np.reshape(pattern, (1, len(pattern), 2))\n",
    "    prediction = model.predict(p, verbose=0)\n",
    "    idxs = np.argsort(prediction[0])[::-1][:2]\n",
    "    new_pattern = [mlb.classes_[idxs[0]],mlb.classes_[idxs[1]]]\n",
    "    new_pattern.sort()\n",
    "    t = np.asarray(new_pattern).reshape(1,2)\n",
    "    pt = scaler.transform(t)\n",
    "    a = np.concatenate((pattern,pt))\n",
    "    b = a[1:len(a)]\n",
    "    pattern = b"
   ]
  },
  {
   "cell_type": "code",
   "execution_count": 70,
   "metadata": {
    "collapsed": true
   },
   "outputs": [],
   "source": [
    "inverso = scaler.inverse_transform(pattern)"
   ]
  },
  {
   "cell_type": "code",
   "execution_count": 71,
   "metadata": {
    "collapsed": true
   },
   "outputs": [],
   "source": [
    "sc = stream.Score()\n",
    "for i in inverso:\n",
    "    n = note.Note(midi=i[1], quarterLength=i[0])\n",
    "    sc.append(n)"
   ]
  },
  {
   "cell_type": "code",
   "execution_count": 72,
   "metadata": {},
   "outputs": [
    {
     "data": {
      "image/png": "[encoded data removed]",
      "text/plain": [
       "<IPython.core.display.Image object>"
      ]
     },
     "metadata": {
      "image/png": {
       "height": 447,
       "width": 753
      }
     },
     "output_type": "display_data"
    }
   ],
   "source": [
    "sc.show()"
   ]
  },
  {
   "cell_type": "code",
   "execution_count": 73,
   "metadata": {},
   "outputs": [],
   "source": [
    "from music21 import *\n",
    "from datetime import datetime\n",
    "filename = \"gerada_\" + datetime.now().strftime(\"%Y%m%d-%H%M%S\"+\".mid\")"
   ]
  },
  {
   "cell_type": "code",
   "execution_count": 74,
   "metadata": {
    "collapsed": true
   },
   "outputs": [],
   "source": [
    "mf = midi.translate.streamToMidiFile(sc)\n",
    "mf.open(filename, 'wb')\n",
    "mf.write()\n",
    "mf.close()"
   ]
  },
  {
   "cell_type": "code",
   "execution_count": 75,
   "metadata": {},
   "outputs": [
    {
     "data": {
      "text/plain": [
       "'gerada_20180609-030018.mid'"
      ]
     },
     "execution_count": 75,
     "metadata": {},
     "output_type": "execute_result"
    }
   ],
   "source": [
    "filename"
   ]
  },
  {
   "cell_type": "code",
   "execution_count": null,
   "metadata": {
    "collapsed": true
   },
   "outputs": [],
   "source": []
  }
 ],
 "metadata": {
  "kernelspec": {
   "display_name": "Python 3",
   "language": "python",
   "name": "python3"
  },
  "language_info": {
   "codemirror_mode": {
    "name": "ipython",
    "version": 3
   },
   "file_extension": ".py",
   "mimetype": "text/x-python",
   "name": "python",
   "nbconvert_exporter": "python",
   "pygments_lexer": "ipython3",
   "version": "3.6.3"
  }
 },
 "nbformat": 4,
 "nbformat_minor": 2
}
