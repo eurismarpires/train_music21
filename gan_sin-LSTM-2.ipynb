{
 "cells": [
  {
   "cell_type": "code",
   "execution_count": 56,
   "metadata": {},
   "outputs": [],
   "source": [
    "%matplotlib inline\n",
    "import os\n",
    "import random\n",
    "import numpy as np\n",
    "import pandas as pd\n",
    "import matplotlib.pyplot as plt\n",
    "import seaborn as sns\n",
    "from tqdm import tqdm_notebook as tqdm\n",
    "from keras.models import Model\n",
    "from keras.layers import Input, Reshape, TimeDistributed\n",
    "from keras.layers.core import Dense, Activation, Dropout, Flatten\n",
    "from keras.layers.normalization import BatchNormalization\n",
    "from keras.layers.convolutional import UpSampling1D, Conv1D\n",
    "from keras.layers.advanced_activations import LeakyReLU\n",
    "from keras.optimizers import Adam, SGD\n",
    "from keras.callbacks import TensorBoard\n",
    "from music21 import *\n",
    "import glob\n",
    "import numpy as np\n",
    "from keras.models import Sequential, load_model\n",
    "from keras.layers.core import Dense, Activation, Dropout\n",
    "from keras.layers.recurrent import LSTM\n",
    "from keras.callbacks import History, ModelCheckpoint\n",
    "from keras.optimizers import RMSprop\n",
    "from datetime import datetime"
   ]
  },
  {
   "cell_type": "code",
   "execution_count": 241,
   "metadata": {
    "collapsed": true
   },
   "outputs": [],
   "source": [
    "path = '/home/eurismar/notebooks/Music_Generator_Demo/Pop_Music_Midi/'"
   ]
  },
  {
   "cell_type": "code",
   "execution_count": 242,
   "metadata": {
    "collapsed": true
   },
   "outputs": [],
   "source": [
    "files = glob.glob('{}/*.mid*'.format(path))"
   ]
  },
  {
   "cell_type": "code",
   "execution_count": 243,
   "metadata": {},
   "outputs": [],
   "source": [
    "KEY_SIG_OFFSET = 0 \n",
    "melody_corpus = []\n",
    "for i, file in enumerate(files):\n",
    "    midi_stream = converter.parse(file)\n",
    "    \n",
    "    part0 = midi_stream[0]\n",
    "    key_sig = part0.keySignature\n",
    "    midi_stream.transpose(KEY_SIG_OFFSET - key_sig.tonic.pitchClass, inPlace=True)\n",
    "    for m in part0.measures(1, None):\n",
    "        if hasattr(m, 'flat'):\n",
    "            for nr in m.flat.notesAndRests:\n",
    "                pitch = nr.pitch.midi  if isinstance(nr, note.Note) else 0\n",
    "                duration = float(nr.quarterLength)\n",
    "                note_repr = (pitch, duration)\n",
    "                melody_corpus.append(note_repr)"
   ]
  },
  {
   "cell_type": "code",
   "execution_count": 244,
   "metadata": {
    "collapsed": true
   },
   "outputs": [],
   "source": [
    "melody_set = set(melody_corpus)"
   ]
  },
  {
   "cell_type": "code",
   "execution_count": 245,
   "metadata": {
    "collapsed": true
   },
   "outputs": [],
   "source": [
    "notes_indices = {note: i for i, note in enumerate(melody_set)}\n",
    "indices_notes = {i: note for i, note in enumerate(melody_set)}"
   ]
  },
  {
   "cell_type": "code",
   "execution_count": 246,
   "metadata": {},
   "outputs": [
    {
     "name": "stdout",
     "output_type": "stream",
     "text": [
      "231\n"
     ]
    }
   ],
   "source": [
    "corpus_size = len(melody_set)\n",
    "print(corpus_size)"
   ]
  },
  {
   "cell_type": "code",
   "execution_count": 247,
   "metadata": {},
   "outputs": [
    {
     "data": {
      "text/plain": [
       "6999"
      ]
     },
     "execution_count": 247,
     "metadata": {},
     "output_type": "execute_result"
    }
   ],
   "source": [
    "len(melody_corpus)"
   ]
  },
  {
   "cell_type": "code",
   "execution_count": 248,
   "metadata": {
    "collapsed": true
   },
   "outputs": [],
   "source": [
    "phrase_len = 40\n",
    "step_size = 3"
   ]
  },
  {
   "cell_type": "code",
   "execution_count": 249,
   "metadata": {
    "collapsed": true
   },
   "outputs": [],
   "source": [
    "phrases = []\n",
    "next_notes = []"
   ]
  },
  {
   "cell_type": "code",
   "execution_count": 250,
   "metadata": {},
   "outputs": [
    {
     "name": "stdout",
     "output_type": "stream",
     "text": [
      "nb sequences: 2320\n"
     ]
    }
   ],
   "source": [
    "for i in range(0, len(melody_corpus) - phrase_len, step_size):\n",
    "    phrases.append(melody_corpus[i: i + phrase_len])\n",
    "    next_notes.append(melody_corpus[i + phrase_len])\n",
    "print('nb sequences:', len(phrases))"
   ]
  },
  {
   "cell_type": "code",
   "execution_count": 251,
   "metadata": {},
   "outputs": [
    {
     "name": "stdout",
     "output_type": "stream",
     "text": [
      "(2320, 40, 231)\n",
      "(2320, 231)\n"
     ]
    }
   ],
   "source": [
    "# transform data into binary matrices\n",
    "X = np.zeros((len(phrases), phrase_len, corpus_size), dtype=np.bool)\n",
    "y = np.zeros((len(phrases), corpus_size), dtype=np.bool)\n",
    "print(X.shape)\n",
    "print(y.shape)"
   ]
  },
  {
   "cell_type": "code",
   "execution_count": 252,
   "metadata": {
    "collapsed": true
   },
   "outputs": [],
   "source": [
    "for i, phrase in enumerate(phrases):\n",
    "    for j, note in enumerate(phrase):\n",
    "        X[i, j, notes_indices[note]] = 1\n",
    "    y[i, notes_indices[next_notes[i]]] = 1"
   ]
  },
  {
   "cell_type": "code",
   "execution_count": 253,
   "metadata": {
    "collapsed": true
   },
   "outputs": [],
   "source": [
    "layer_size=128\n",
    "batch_size = 128\n",
    "nb_epoch = 400"
   ]
  },
  {
   "cell_type": "code",
   "execution_count": 254,
   "metadata": {},
   "outputs": [
    {
     "data": {
      "text/plain": [
       "231"
      ]
     },
     "execution_count": 254,
     "metadata": {},
     "output_type": "execute_result"
    }
   ],
   "source": [
    "corpus_size"
   ]
  },
  {
   "cell_type": "code",
   "execution_count": 255,
   "metadata": {},
   "outputs": [
    {
     "data": {
      "text/plain": [
       "40"
      ]
     },
     "execution_count": 255,
     "metadata": {},
     "output_type": "execute_result"
    }
   ],
   "source": [
    "phrase_len"
   ]
  },
  {
   "cell_type": "code",
   "execution_count": 256,
   "metadata": {},
   "outputs": [
    {
     "name": "stdout",
     "output_type": "stream",
     "text": [
      "_________________________________________________________________\n",
      "Layer (type)                 Output Shape              Param #   \n",
      "=================================================================\n",
      "input_15 (InputLayer)        (None, 40, 231)           0         \n",
      "_________________________________________________________________\n",
      "lstm_19 (LSTM)               (None, 40, 128)           184320    \n",
      "_________________________________________________________________\n",
      "dropout_19 (Dropout)         (None, 40, 128)           0         \n",
      "_________________________________________________________________\n",
      "lstm_20 (LSTM)               (None, 40, 128)           131584    \n",
      "_________________________________________________________________\n",
      "dropout_20 (Dropout)         (None, 40, 128)           0         \n",
      "_________________________________________________________________\n",
      "time_distributed_5 (TimeDist (None, 40, 231)           29799     \n",
      "_________________________________________________________________\n",
      "activation_14 (Activation)   (None, 40, 231)           0         \n",
      "=================================================================\n",
      "Total params: 345,703\n",
      "Trainable params: 345,703\n",
      "Non-trainable params: 0\n",
      "_________________________________________________________________\n"
     ]
    }
   ],
   "source": [
    "def get_gen(G_in, phrase_len=phrase_len, corpus_size=corpus_size):\n",
    "    #G_in = Input(shape=(phrase_len, corpus_size))\n",
    "    layer = LSTM(layer_size, return_sequences=True)(G_in)\n",
    "    layer = Dropout(0.2)(layer)\n",
    "    layer = LSTM(layer_size, return_sequences=True)(layer)\n",
    "    layer = Dropout(0.2)(layer)\n",
    "    layer = TimeDistributed(Dense(corpus_size))(layer)\n",
    "    G_out = Activation('softmax')(layer)\n",
    "    LSTM_out = Activation('softmax')(layer)\n",
    "    G = Model(G_in, G_out)\n",
    "    G.compile(loss='categorical_crossentropy', optimizer=RMSprop())\n",
    "    return G, G_out\n",
    "G_in = Input(shape=(phrase_len, corpus_size))\n",
    "G, G_out = get_gen(G_in)\n",
    "G.summary()"
   ]
  },
  {
   "cell_type": "code",
   "execution_count": 257,
   "metadata": {
    "collapsed": true
   },
   "outputs": [],
   "source": [
    "def get_dis(D_in, phrase_len=phrase_len, corpus_size=corpus_size):\n",
    "    layer = LSTM(layer_size, return_sequences=True)(D_in)\n",
    "    layer = Dropout(0.2)(layer)\n",
    "    layer = LSTM(layer_size)(layer)\n",
    "    layer = Dropout(0.2)(layer)\n",
    "    layer = Dense(2)(layer)\n",
    "    D_out = Activation('sigmoid')(layer)\n",
    "    D = Model(D_in, D_out)\n",
    "    D.compile(loss='binary_crossentropy', optimizer=RMSprop())\n",
    "    return D, D_out    "
   ]
  },
  {
   "cell_type": "code",
   "execution_count": 258,
   "metadata": {
    "collapsed": true
   },
   "outputs": [],
   "source": [
    "D_in = Input(shape=(phrase_len, corpus_size))"
   ]
  },
  {
   "cell_type": "code",
   "execution_count": 259,
   "metadata": {},
   "outputs": [
    {
     "name": "stdout",
     "output_type": "stream",
     "text": [
      "_________________________________________________________________\n",
      "Layer (type)                 Output Shape              Param #   \n",
      "=================================================================\n",
      "input_16 (InputLayer)        (None, 40, 231)           0         \n",
      "_________________________________________________________________\n",
      "lstm_21 (LSTM)               (None, 40, 128)           184320    \n",
      "_________________________________________________________________\n",
      "dropout_21 (Dropout)         (None, 40, 128)           0         \n",
      "_________________________________________________________________\n",
      "lstm_22 (LSTM)               (None, 128)               131584    \n",
      "_________________________________________________________________\n",
      "dropout_22 (Dropout)         (None, 128)               0         \n",
      "_________________________________________________________________\n",
      "dense_11 (Dense)             (None, 2)                 258       \n",
      "_________________________________________________________________\n",
      "activation_16 (Activation)   (None, 2)                 0         \n",
      "=================================================================\n",
      "Total params: 316,162\n",
      "Trainable params: 316,162\n",
      "Non-trainable params: 0\n",
      "_________________________________________________________________\n"
     ]
    }
   ],
   "source": [
    "D, D_out = get_dis(D_in)\n",
    "D.summary()"
   ]
  },
  {
   "cell_type": "code",
   "execution_count": 260,
   "metadata": {
    "collapsed": true
   },
   "outputs": [],
   "source": [
    "def set_trainability(model, trainable=False):\n",
    "    model.trainable = trainable\n",
    "    for layer in model.layers:\n",
    "        layer.trainable = trainable"
   ]
  },
  {
   "cell_type": "code",
   "execution_count": 261,
   "metadata": {
    "collapsed": true
   },
   "outputs": [],
   "source": [
    "def make_gan(GAN_in, G, D):\n",
    "    set_trainability(D, False)\n",
    "    x = G(GAN_in) # ENTRADA DA GAN\n",
    "    GAN_out = D(x)\n",
    "    GAN = Model(GAN_in, GAN_out)\n",
    "    GAN.compile(loss='binary_crossentropy', optimizer=G.optimizer)\n",
    "    return GAN, GAN_out"
   ]
  },
  {
   "cell_type": "code",
   "execution_count": 262,
   "metadata": {},
   "outputs": [
    {
     "name": "stdout",
     "output_type": "stream",
     "text": [
      "_________________________________________________________________\n",
      "Layer (type)                 Output Shape              Param #   \n",
      "=================================================================\n",
      "input_17 (InputLayer)        (None, 40, 231)           0         \n",
      "_________________________________________________________________\n",
      "model_15 (Model)             (None, 40, 231)           345703    \n",
      "_________________________________________________________________\n",
      "model_16 (Model)             (None, 2)                 316162    \n",
      "=================================================================\n",
      "Total params: 661,865\n",
      "Trainable params: 345,703\n",
      "Non-trainable params: 316,162\n",
      "_________________________________________________________________\n"
     ]
    }
   ],
   "source": [
    "GAN_in = Input(shape=(phrase_len, corpus_size))\n",
    "GAN, GAN_out = make_gan(GAN_in, G, D)\n",
    "GAN.summary()"
   ]
  },
  {
   "cell_type": "code",
   "execution_count": 263,
   "metadata": {
    "collapsed": true
   },
   "outputs": [],
   "source": [
    "n_samples = 100\n",
    "noise_dim = X.shape[2]"
   ]
  },
  {
   "cell_type": "code",
   "execution_count": 264,
   "metadata": {},
   "outputs": [
    {
     "data": {
      "text/plain": [
       "231"
      ]
     },
     "execution_count": 264,
     "metadata": {},
     "output_type": "execute_result"
    }
   ],
   "source": [
    "noise_dim"
   ]
  },
  {
   "cell_type": "code",
   "execution_count": 265,
   "metadata": {},
   "outputs": [
    {
     "data": {
      "text/plain": [
       "(2320, 40, 231)"
      ]
     },
     "execution_count": 265,
     "metadata": {},
     "output_type": "execute_result"
    }
   ],
   "source": [
    "X.shape"
   ]
  },
  {
   "cell_type": "code",
   "execution_count": 266,
   "metadata": {},
   "outputs": [
    {
     "data": {
      "text/plain": [
       "(2320, 231)"
      ]
     },
     "execution_count": 266,
     "metadata": {},
     "output_type": "execute_result"
    }
   ],
   "source": [
    "y.shape"
   ]
  },
  {
   "cell_type": "code",
   "execution_count": 267,
   "metadata": {
    "collapsed": true
   },
   "outputs": [],
   "source": [
    "def sample_data_and_gen(G,n_samples=n_samples,noise_dim=noise_dim):\n",
    "    XT = X[:n_samples]\n",
    "    XN_noise = np.random.uniform(0, 1, size=[n_samples,phrase_len,noise_dim])\n",
    "    XN = G.predict(XN_noise)\n",
    "    print(XT.shape,XN.shape)\n",
    "    XX = np.concatenate((XT, XN))\n",
    "    yy = np.zeros((2*n_samples, 2))\n",
    "    yy[:n_samples, 1] = 1\n",
    "    yy[n_samples:, 0] = 1\n",
    "    return XX, yy"
   ]
  },
  {
   "cell_type": "code",
   "execution_count": 268,
   "metadata": {
    "collapsed": true
   },
   "outputs": [],
   "source": [
    "def pretrain(G, D, noise_dim=10, n_samples=10000, batch_size=32):\n",
    "    X, y = sample_data_and_gen(G, n_samples=n_samples, noise_dim=noise_dim)\n",
    "    set_trainability(D, True)\n",
    "    D.fit(X, y, epochs=1, batch_size=batch_size)"
   ]
  },
  {
   "cell_type": "code",
   "execution_count": 269,
   "metadata": {},
   "outputs": [
    {
     "name": "stdout",
     "output_type": "stream",
     "text": [
      "(100, 40, 231) (100, 40, 231)\n",
      "Epoch 1/1\n",
      "200/200 [==============================] - 27s - loss: 0.0712    \n"
     ]
    }
   ],
   "source": [
    "pretrain(G, D,noise_dim = noise_dim, n_samples=n_samples,batch_size=1)"
   ]
  },
  {
   "cell_type": "code",
   "execution_count": 270,
   "metadata": {
    "collapsed": true
   },
   "outputs": [],
   "source": [
    "def sample_noise(G, noise_dim=10, n_samples=10000):\n",
    "    X = np.random.uniform(0, 1, size=[n_samples,phrase_len, noise_dim])\n",
    "    y = np.zeros((n_samples, 2))\n",
    "    y[:, 1] = 1\n",
    "    return X, y"
   ]
  },
  {
   "cell_type": "code",
   "execution_count": 271,
   "metadata": {
    "collapsed": true
   },
   "outputs": [],
   "source": [
    "d_loss = []\n",
    "g_loss = []"
   ]
  },
  {
   "cell_type": "code",
   "execution_count": 272,
   "metadata": {},
   "outputs": [],
   "source": [
    "def train(GAN, G, D, epochs=100, n_samples=10, noise_dim=10, batch_size=32, verbose=False, v_freq=50):\n",
    "  e_range = range(epochs)\n",
    "  for epoch in e_range:\n",
    "    X, y = sample_data_and_gen(G, n_samples=10, noise_dim=noise_dim)\n",
    "    set_trainability(D, True)\n",
    "    a = D.train_on_batch(X, y)\n",
    "    d_loss.append(D.train_on_batch(X, y))\n",
    "    X, y = sample_noise(G, n_samples=n_samples, noise_dim=noise_dim)\n",
    "    set_trainability(D, False)\n",
    "    g_loss.append(GAN.train_on_batch(X, y))\n",
    "    print(\"Epoch #{}: Generative Loss: {}, Discriminative Loss: {}\".format(epoch + 1, g_loss[-1], d_loss[-1]))\n",
    "  return d_loss, g_loss"
   ]
  },
  {
   "cell_type": "code",
   "execution_count": 273,
   "metadata": {},
   "outputs": [
    {
     "name": "stdout",
     "output_type": "stream",
     "text": [
      "(10, 40, 231) (10, 40, 231)\n",
      "Epoch #1: Generative Loss: 12.455467224121094, Discriminative Loss: 7.231376912386622e-06\n",
      "(10, 40, 231) (10, 40, 231)\n",
      "Epoch #2: Generative Loss: 12.422520637512207, Discriminative Loss: 5.762132332165493e-06\n",
      "(10, 40, 231) (10, 40, 231)\n",
      "Epoch #3: Generative Loss: 12.57838249206543, Discriminative Loss: 5.539181529456982e-06\n",
      "(10, 40, 231) (10, 40, 231)\n",
      "Epoch #4: Generative Loss: 12.835405349731445, Discriminative Loss: 4.944770807924215e-06\n",
      "(10, 40, 231) (10, 40, 231)\n",
      "Epoch #5: Generative Loss: 13.435175895690918, Discriminative Loss: 5.397677796281641e-06\n",
      "(10, 40, 231) (10, 40, 231)\n",
      "Epoch #6: Generative Loss: 13.282879829406738, Discriminative Loss: 7.439819455612451e-06\n",
      "(10, 40, 231) (10, 40, 231)\n",
      "Epoch #7: Generative Loss: 13.275609970092773, Discriminative Loss: 5.08611265104264e-06\n",
      "(10, 40, 231) (10, 40, 231)\n",
      "Epoch #8: Generative Loss: 12.975847244262695, Discriminative Loss: 4.8272158892359585e-06\n",
      "(10, 40, 231) (10, 40, 231)\n",
      "Epoch #9: Generative Loss: 13.623659133911133, Discriminative Loss: 4.0007425923249684e-06\n",
      "(10, 40, 231) (10, 40, 231)\n",
      "Epoch #10: Generative Loss: 13.305791854858398, Discriminative Loss: 3.7041168070572894e-06\n",
      "(10, 40, 231) (10, 40, 231)\n",
      "Epoch #11: Generative Loss: 13.4769926071167, Discriminative Loss: 2.3807936031516874e-06\n",
      "(10, 40, 231) (10, 40, 231)\n",
      "Epoch #12: Generative Loss: 13.177868843078613, Discriminative Loss: 3.7848178635613294e-06\n",
      "(10, 40, 231) (10, 40, 231)\n",
      "Epoch #13: Generative Loss: 13.4411039352417, Discriminative Loss: 2.358280198677676e-06\n",
      "(10, 40, 231) (10, 40, 231)\n",
      "Epoch #14: Generative Loss: 13.634289741516113, Discriminative Loss: 3.301764081697911e-06\n",
      "(10, 40, 231) (10, 40, 231)\n",
      "Epoch #15: Generative Loss: 13.833462715148926, Discriminative Loss: 3.3930984955077292e-06\n",
      "(10, 40, 231) (10, 40, 231)\n",
      "Epoch #16: Generative Loss: 13.505149841308594, Discriminative Loss: 2.488729023752967e-06\n",
      "(10, 40, 231) (10, 40, 231)\n",
      "Epoch #17: Generative Loss: 13.602676391601562, Discriminative Loss: 1.7783735302145942e-06\n",
      "(10, 40, 231) (10, 40, 231)\n",
      "Epoch #18: Generative Loss: 13.912809371948242, Discriminative Loss: 2.6930333660857286e-06\n",
      "(10, 40, 231) (10, 40, 231)\n",
      "Epoch #19: Generative Loss: 13.398368835449219, Discriminative Loss: 2.3750937998556765e-06\n",
      "(10, 40, 231) (10, 40, 231)\n",
      "Epoch #20: Generative Loss: 13.887451171875, Discriminative Loss: 2.158740016966476e-06\n",
      "(10, 40, 231) (10, 40, 231)\n",
      "Epoch #21: Generative Loss: 14.020683288574219, Discriminative Loss: 2.001489974645665e-06\n",
      "(10, 40, 231) (10, 40, 231)\n",
      "Epoch #22: Generative Loss: 13.820340156555176, Discriminative Loss: 2.243440803795238e-06\n",
      "(10, 40, 231) (10, 40, 231)\n",
      "Epoch #23: Generative Loss: 13.507217407226562, Discriminative Loss: 2.5799668037507217e-06\n",
      "(10, 40, 231) (10, 40, 231)\n",
      "Epoch #24: Generative Loss: 13.571517944335938, Discriminative Loss: 2.848020130841178e-06\n",
      "(10, 40, 231) (10, 40, 231)\n",
      "Epoch #25: Generative Loss: 13.8837251663208, Discriminative Loss: 1.441039557903423e-06\n",
      "(10, 40, 231) (10, 40, 231)\n",
      "Epoch #26: Generative Loss: 14.027410507202148, Discriminative Loss: 1.3827529983245768e-06\n",
      "(10, 40, 231) (10, 40, 231)\n",
      "Epoch #27: Generative Loss: 13.89769172668457, Discriminative Loss: 1.6899994079722092e-06\n",
      "(10, 40, 231) (10, 40, 231)\n",
      "Epoch #28: Generative Loss: 13.883036613464355, Discriminative Loss: 1.2005003782178392e-06\n",
      "(10, 40, 231) (10, 40, 231)\n",
      "Epoch #29: Generative Loss: 14.313403129577637, Discriminative Loss: 1.3864722632206394e-06\n",
      "(10, 40, 231) (10, 40, 231)\n",
      "Epoch #30: Generative Loss: 14.333993911743164, Discriminative Loss: 1.1333579550409922e-06\n",
      "(10, 40, 231) (10, 40, 231)\n",
      "Epoch #31: Generative Loss: 14.095964431762695, Discriminative Loss: 1.6521174757144763e-06\n",
      "(10, 40, 231) (10, 40, 231)\n",
      "Epoch #32: Generative Loss: 14.704309463500977, Discriminative Loss: 1.3985411442263285e-06\n",
      "(10, 40, 231) (10, 40, 231)\n",
      "Epoch #33: Generative Loss: 14.710334777832031, Discriminative Loss: 8.102022661660158e-07\n",
      "(10, 40, 231) (10, 40, 231)\n",
      "Epoch #34: Generative Loss: 14.319554328918457, Discriminative Loss: 8.712069643479481e-07\n",
      "(10, 40, 231) (10, 40, 231)\n",
      "Epoch #35: Generative Loss: 14.482847213745117, Discriminative Loss: 9.557568318996346e-07\n",
      "(10, 40, 231) (10, 40, 231)\n",
      "Epoch #36: Generative Loss: 14.675005912780762, Discriminative Loss: 8.250391942965507e-07\n",
      "(10, 40, 231) (10, 40, 231)\n",
      "Epoch #37: Generative Loss: 14.88807201385498, Discriminative Loss: 7.034803388705768e-07\n",
      "(10, 40, 231) (10, 40, 231)\n",
      "Epoch #38: Generative Loss: 14.597880363464355, Discriminative Loss: 6.851138323327177e-07\n",
      "(10, 40, 231) (10, 40, 231)\n",
      "Epoch #39: Generative Loss: 14.770378112792969, Discriminative Loss: 6.898643505337532e-07\n",
      "(10, 40, 231) (10, 40, 231)\n",
      "Epoch #40: Generative Loss: 14.861681938171387, Discriminative Loss: 5.693622142644017e-07\n",
      "(10, 40, 231) (10, 40, 231)\n",
      "Epoch #41: Generative Loss: 14.981664657592773, Discriminative Loss: 5.574034958044649e-07\n",
      "(10, 40, 231) (10, 40, 231)\n",
      "Epoch #42: Generative Loss: 15.141283988952637, Discriminative Loss: 3.941698594189802e-07\n",
      "(10, 40, 231) (10, 40, 231)\n",
      "Epoch #43: Generative Loss: 14.703140258789062, Discriminative Loss: 3.7578487876999134e-07\n",
      "(10, 40, 231) (10, 40, 231)\n",
      "Epoch #44: Generative Loss: 15.236833572387695, Discriminative Loss: 4.6845940460116253e-07\n",
      "(10, 40, 231) (10, 40, 231)\n",
      "Epoch #45: Generative Loss: 15.012438774108887, Discriminative Loss: 3.8159168980200775e-07\n",
      "(10, 40, 231) (10, 40, 231)\n",
      "Epoch #46: Generative Loss: 15.218462944030762, Discriminative Loss: 6.08768459642306e-07\n",
      "(10, 40, 231) (10, 40, 231)\n",
      "Epoch #47: Generative Loss: 14.99121379852295, Discriminative Loss: 2.992154293224303e-07\n",
      "(10, 40, 231) (10, 40, 231)\n",
      "Epoch #48: Generative Loss: 14.964604377746582, Discriminative Loss: 4.3921826886617055e-07\n",
      "(10, 40, 231) (10, 40, 231)\n",
      "Epoch #49: Generative Loss: 15.438064575195312, Discriminative Loss: 2.6461262336852087e-07\n",
      "(10, 40, 231) (10, 40, 231)\n",
      "Epoch #50: Generative Loss: 15.088623046875, Discriminative Loss: 4.123542680645187e-07\n",
      "(10, 40, 231) (10, 40, 231)\n",
      "Epoch #51: Generative Loss: 15.72111988067627, Discriminative Loss: 3.448550671691919e-07\n",
      "(10, 40, 231) (10, 40, 231)\n",
      "Epoch #52: Generative Loss: 15.5551176071167, Discriminative Loss: 2.116270678698129e-07\n",
      "(10, 40, 231) (10, 40, 231)\n",
      "Epoch #53: Generative Loss: 15.71790885925293, Discriminative Loss: 2.422297598059231e-07\n",
      "(10, 40, 231) (10, 40, 231)\n",
      "Epoch #54: Generative Loss: 15.55601692199707, Discriminative Loss: 2.9694447789552214e-07\n",
      "(10, 40, 231) (10, 40, 231)\n",
      "Epoch #55: Generative Loss: 15.613781929016113, Discriminative Loss: 1.627640671131303e-07\n",
      "(10, 40, 231) (10, 40, 231)\n",
      "Epoch #56: Generative Loss: 15.44647216796875, Discriminative Loss: 1.613734497141195e-07\n",
      "(10, 40, 231) (10, 40, 231)\n",
      "Epoch #57: Generative Loss: 15.66644287109375, Discriminative Loss: 1.6573690686527698e-07\n",
      "(10, 40, 231) (10, 40, 231)\n",
      "Epoch #58: Generative Loss: 15.822538375854492, Discriminative Loss: 1.8669614121336053e-07\n",
      "(10, 40, 231) (10, 40, 231)\n",
      "Epoch #59: Generative Loss: 15.857762336730957, Discriminative Loss: 1.5505671058235748e-07\n",
      "(10, 40, 231) (10, 40, 231)\n",
      "Epoch #60: Generative Loss: 15.738232612609863, Discriminative Loss: 1.94641728512579e-07\n",
      "(10, 40, 231) (10, 40, 231)\n",
      "Epoch #61: Generative Loss: 15.897209167480469, Discriminative Loss: 1.970052778688114e-07\n",
      "(10, 40, 231) (10, 40, 231)\n",
      "Epoch #62: Generative Loss: 15.830294609069824, Discriminative Loss: 1.376829743549024e-07\n",
      "(10, 40, 231) (10, 40, 231)\n",
      "Epoch #63: Generative Loss: 15.664250373840332, Discriminative Loss: 1.4623348931763758e-07\n",
      "(10, 40, 231) (10, 40, 231)\n",
      "Epoch #64: Generative Loss: 15.82202434539795, Discriminative Loss: 1.2888146727618732e-07\n",
      "(10, 40, 231) (10, 40, 231)\n",
      "Epoch #65: Generative Loss: 15.917617797851562, Discriminative Loss: 1.4934418857137643e-07\n",
      "(10, 40, 231) (10, 40, 231)\n",
      "Epoch #66: Generative Loss: 15.935315132141113, Discriminative Loss: 1.5176162548868888e-07\n",
      "(10, 40, 231) (10, 40, 231)\n",
      "Epoch #67: Generative Loss: 15.981155395507812, Discriminative Loss: 1.1742319117047373e-07\n",
      "(10, 40, 231) (10, 40, 231)\n",
      "Epoch #68: Generative Loss: 15.998446464538574, Discriminative Loss: 1.193712506619704e-07\n",
      "(10, 40, 231) (10, 40, 231)\n",
      "Epoch #69: Generative Loss: 15.94951057434082, Discriminative Loss: 1.224949670586284e-07\n",
      "(10, 40, 231) (10, 40, 231)\n"
     ]
    },
    {
     "name": "stdout",
     "output_type": "stream",
     "text": [
      "Epoch #70: Generative Loss: 15.925872802734375, Discriminative Loss: 1.3334940263121098e-07\n",
      "(10, 40, 231) (10, 40, 231)\n",
      "Epoch #71: Generative Loss: 15.953167915344238, Discriminative Loss: 1.4774141732232238e-07\n",
      "(10, 40, 231) (10, 40, 231)\n",
      "Epoch #72: Generative Loss: 15.969156265258789, Discriminative Loss: 1.1041072411899222e-07\n",
      "(10, 40, 231) (10, 40, 231)\n",
      "Epoch #73: Generative Loss: 16.03023910522461, Discriminative Loss: 1.162576950264338e-07\n",
      "(10, 40, 231) (10, 40, 231)\n",
      "Epoch #74: Generative Loss: 15.94488525390625, Discriminative Loss: 1.2756622425058595e-07\n",
      "(10, 40, 231) (10, 40, 231)\n",
      "Epoch #75: Generative Loss: 15.988433837890625, Discriminative Loss: 1.3518111074972694e-07\n",
      "(10, 40, 231) (10, 40, 231)\n",
      "Epoch #76: Generative Loss: 16.01241683959961, Discriminative Loss: 1.161410878580682e-07\n",
      "(10, 40, 231) (10, 40, 231)\n",
      "Epoch #77: Generative Loss: 15.97754192352295, Discriminative Loss: 1.1357595752770067e-07\n",
      "(10, 40, 231) (10, 40, 231)\n",
      "Epoch #78: Generative Loss: 15.995248794555664, Discriminative Loss: 1.1033874613985972e-07\n",
      "(10, 40, 231) (10, 40, 231)\n",
      "Epoch #79: Generative Loss: 16.017242431640625, Discriminative Loss: 1.1264110355568846e-07\n",
      "(10, 40, 231) (10, 40, 231)\n",
      "Epoch #80: Generative Loss: 15.995122909545898, Discriminative Loss: 1.131394782305506e-07\n",
      "(10, 40, 231) (10, 40, 231)\n",
      "Epoch #81: Generative Loss: 16.03023910522461, Discriminative Loss: 1.0960467022869125e-07\n",
      "(10, 40, 231) (10, 40, 231)\n",
      "Epoch #82: Generative Loss: 15.979204177856445, Discriminative Loss: 1.302118590729151e-07\n",
      "(10, 40, 231) (10, 40, 231)\n",
      "Epoch #83: Generative Loss: 16.01848793029785, Discriminative Loss: 1.0960467022869125e-07\n",
      "(10, 40, 231) (10, 40, 231)\n",
      "Epoch #84: Generative Loss: 16.00551414489746, Discriminative Loss: 1.0960467022869125e-07\n",
      "(10, 40, 231) (10, 40, 231)\n",
      "Epoch #85: Generative Loss: 16.03023910522461, Discriminative Loss: 1.0960467022869125e-07\n",
      "(10, 40, 231) (10, 40, 231)\n",
      "Epoch #86: Generative Loss: 15.98052978515625, Discriminative Loss: 1.1313752423802725e-07\n",
      "(10, 40, 231) (10, 40, 231)\n",
      "Epoch #87: Generative Loss: 16.00090217590332, Discriminative Loss: 1.1659155774168539e-07\n",
      "(10, 40, 231) (10, 40, 231)\n",
      "Epoch #88: Generative Loss: 16.03023910522461, Discriminative Loss: 1.125849067307172e-07\n",
      "(10, 40, 231) (10, 40, 231)\n",
      "Epoch #89: Generative Loss: 16.03023910522461, Discriminative Loss: 1.0960467022869125e-07\n",
      "(10, 40, 231) (10, 40, 231)\n",
      "Epoch #90: Generative Loss: 16.027385711669922, Discriminative Loss: 1.1534648081124033e-07\n",
      "(10, 40, 231) (10, 40, 231)\n",
      "Epoch #91: Generative Loss: 16.03023910522461, Discriminative Loss: 1.1051547232909797e-07\n",
      "(10, 40, 231) (10, 40, 231)\n",
      "Epoch #92: Generative Loss: 16.03023910522461, Discriminative Loss: 1.0960467022869125e-07\n",
      "(10, 40, 231) (10, 40, 231)\n",
      "Epoch #93: Generative Loss: 16.03023910522461, Discriminative Loss: 1.0996804178375896e-07\n",
      "(10, 40, 231) (10, 40, 231)\n",
      "Epoch #94: Generative Loss: 15.94976806640625, Discriminative Loss: 1.0960467022869125e-07\n",
      "(10, 40, 231) (10, 40, 231)\n",
      "Epoch #95: Generative Loss: 16.03023910522461, Discriminative Loss: 1.1638221764087575e-07\n",
      "(10, 40, 231) (10, 40, 231)\n",
      "Epoch #96: Generative Loss: 15.995580673217773, Discriminative Loss: 1.1115110964965425e-07\n",
      "(10, 40, 231) (10, 40, 231)\n",
      "Epoch #97: Generative Loss: 16.03023910522461, Discriminative Loss: 1.0960467022869125e-07\n",
      "(10, 40, 231) (10, 40, 231)\n",
      "Epoch #98: Generative Loss: 15.995580673217773, Discriminative Loss: 1.1419166412451887e-07\n",
      "(10, 40, 231) (10, 40, 231)\n",
      "Epoch #99: Generative Loss: 16.03023910522461, Discriminative Loss: 1.0960467022869125e-07\n",
      "(10, 40, 231) (10, 40, 231)\n",
      "Epoch #100: Generative Loss: 16.002765655517578, Discriminative Loss: 1.0960467022869125e-07\n"
     ]
    }
   ],
   "source": [
    "d_loss, g_loss = train(GAN, G, D,noise_dim=noise_dim, verbose=True)"
   ]
  },
  {
   "cell_type": "code",
   "execution_count": 286,
   "metadata": {},
   "outputs": [
    {
     "data": {
      "text/plain": [
       "Text(0,0.5,'Loss')"
      ]
     },
     "execution_count": 286,
     "metadata": {},
     "output_type": "execute_result"
    },
    {
     "data": {
      "image/png": "[encoded data removed]",
      "text/plain": [
       "<matplotlib.figure.Figure at 0x7f60a07dc2b0>"
      ]
     },
     "metadata": {
      "image/png": {
       "height": 277,
       "width": 395
      }
     },
     "output_type": "display_data"
    }
   ],
   "source": [
    "ax = pd.DataFrame(\n",
    "    {\n",
    "        'Generative Loss': g_loss,\n",
    "        'Discriminative Loss': d_loss,\n",
    "    }\n",
    ").plot(title='Training loss', logy=True)\n",
    "ax.set_xlabel(\"Epochs\")\n",
    "ax.set_ylabel(\"Loss\")"
   ]
  },
  {
   "cell_type": "code",
   "execution_count": 287,
   "metadata": {},
   "outputs": [
    {
     "name": "stdout",
     "output_type": "stream",
     "text": [
      "(10, 40, 231) (10, 40, 231)\n"
     ]
    }
   ],
   "source": [
    "N_VIEWED_SAMPLES = 10\n",
    "data_and_gen, _ = sample_data_and_gen(G, n_samples=N_VIEWED_SAMPLES)\n",
    "#pd.DataFrame(np.transpose(data_and_gen[N_VIEWED_SAMPLES:])).plot()"
   ]
  },
  {
   "cell_type": "code",
   "execution_count": 288,
   "metadata": {},
   "outputs": [
    {
     "data": {
      "text/plain": [
       "(20, 40, 231)"
      ]
     },
     "execution_count": 288,
     "metadata": {},
     "output_type": "execute_result"
    }
   ],
   "source": [
    "data_and_gen.shape"
   ]
  },
  {
   "cell_type": "code",
   "execution_count": 289,
   "metadata": {},
   "outputs": [
    {
     "data": {
      "text/plain": [
       "(40, 231)"
      ]
     },
     "execution_count": 289,
     "metadata": {},
     "output_type": "execute_result"
    }
   ],
   "source": [
    "data_and_gen[0].shape"
   ]
  },
  {
   "cell_type": "code",
   "execution_count": 290,
   "metadata": {},
   "outputs": [
    {
     "data": {
      "text/plain": [
       "38"
      ]
     },
     "execution_count": 290,
     "metadata": {},
     "output_type": "execute_result"
    }
   ],
   "source": [
    "np.argmax(data_and_gen[0][0]) "
   ]
  },
  {
   "cell_type": "code",
   "execution_count": 291,
   "metadata": {},
   "outputs": [
    {
     "data": {
      "text/plain": [
       "(0, 1.0)"
      ]
     },
     "execution_count": 291,
     "metadata": {},
     "output_type": "execute_result"
    }
   ],
   "source": [
    "indices_notes[38]"
   ]
  },
  {
   "cell_type": "code",
   "execution_count": 292,
   "metadata": {},
   "outputs": [
    {
     "name": "stdout",
     "output_type": "stream",
     "text": [
      "sample:0\n",
      "(0, 1.0)\n",
      "(60, 0.25)\n",
      "(60, 0.25)\n",
      "(0, 0.5)\n",
      "(60, 0.25)\n",
      "(60, 0.25)\n",
      "(0, 0.5)\n",
      "(60, 0.25)\n",
      "(60, 0.25)\n",
      "(0, 0.5)\n",
      "(60, 1.0)\n",
      "(64, 0.25)\n",
      "(64, 0.5)\n",
      "(64, 0.5)\n",
      "(62, 0.5)\n",
      "(60, 0.25)\n",
      "(62, 0.25)\n",
      "(60, 0.25)\n",
      "(62, 0.5)\n",
      "(57, 0.5)\n",
      "(0, 0.5)\n",
      "(60, 0.25)\n",
      "(60, 0.25)\n",
      "(0, 0.5)\n",
      "(60, 0.25)\n",
      "(60, 0.25)\n",
      "(0, 0.5)\n",
      "(60, 0.25)\n",
      "(60, 0.25)\n",
      "(0, 0.5)\n",
      "(60, 1.0)\n",
      "(64, 0.25)\n",
      "(64, 0.5)\n",
      "(64, 0.75)\n",
      "(64, 0.25)\n",
      "(62, 0.5)\n",
      "(60, 0.5)\n",
      "(0, 0.25)\n",
      "(53, 0.5)\n",
      "(60, 0.5)\n",
      "sample:1\n",
      "(0, 0.5)\n",
      "(60, 0.25)\n",
      "(60, 0.25)\n",
      "(0, 0.5)\n",
      "(60, 0.25)\n",
      "(60, 0.25)\n",
      "(0, 0.5)\n",
      "(60, 1.0)\n",
      "(64, 0.25)\n",
      "(64, 0.5)\n",
      "(64, 0.5)\n",
      "(62, 0.5)\n",
      "(60, 0.25)\n",
      "(62, 0.25)\n",
      "(60, 0.25)\n",
      "(62, 0.5)\n",
      "(57, 0.5)\n",
      "(0, 0.5)\n",
      "(60, 0.25)\n",
      "(60, 0.25)\n",
      "(0, 0.5)\n",
      "(60, 0.25)\n",
      "(60, 0.25)\n",
      "(0, 0.5)\n",
      "(60, 0.25)\n",
      "(60, 0.25)\n",
      "(0, 0.5)\n",
      "(60, 1.0)\n",
      "(64, 0.25)\n",
      "(64, 0.5)\n",
      "(64, 0.75)\n",
      "(64, 0.25)\n",
      "(62, 0.5)\n",
      "(60, 0.5)\n",
      "(0, 0.25)\n",
      "(53, 0.5)\n",
      "(60, 0.5)\n",
      "(60, 0.5)\n",
      "(0, 0.5)\n",
      "(53, 0.25)\n",
      "sample:2\n",
      "(0, 0.5)\n",
      "(60, 0.25)\n",
      "(60, 0.25)\n",
      "(0, 0.5)\n",
      "(60, 1.0)\n",
      "(64, 0.25)\n",
      "(64, 0.5)\n",
      "(64, 0.5)\n",
      "(62, 0.5)\n",
      "(60, 0.25)\n",
      "(62, 0.25)\n",
      "(60, 0.25)\n",
      "(62, 0.5)\n",
      "(57, 0.5)\n",
      "(0, 0.5)\n",
      "(60, 0.25)\n",
      "(60, 0.25)\n",
      "(0, 0.5)\n",
      "(60, 0.25)\n",
      "(60, 0.25)\n",
      "(0, 0.5)\n",
      "(60, 0.25)\n",
      "(60, 0.25)\n",
      "(0, 0.5)\n",
      "(60, 1.0)\n",
      "(64, 0.25)\n",
      "(64, 0.5)\n",
      "(64, 0.75)\n",
      "(64, 0.25)\n",
      "(62, 0.5)\n",
      "(60, 0.5)\n",
      "(0, 0.25)\n",
      "(53, 0.5)\n",
      "(60, 0.5)\n",
      "(60, 0.5)\n",
      "(0, 0.5)\n",
      "(53, 0.25)\n",
      "(64, 0.25)\n",
      "(64, 0.25)\n",
      "(64, 1.0)\n",
      "sample:3\n",
      "(0, 0.5)\n",
      "(60, 1.0)\n",
      "(64, 0.25)\n",
      "(64, 0.5)\n",
      "(64, 0.5)\n",
      "(62, 0.5)\n",
      "(60, 0.25)\n",
      "(62, 0.25)\n",
      "(60, 0.25)\n",
      "(62, 0.5)\n",
      "(57, 0.5)\n",
      "(0, 0.5)\n",
      "(60, 0.25)\n",
      "(60, 0.25)\n",
      "(0, 0.5)\n",
      "(60, 0.25)\n",
      "(60, 0.25)\n",
      "(0, 0.5)\n",
      "(60, 0.25)\n",
      "(60, 0.25)\n",
      "(0, 0.5)\n",
      "(60, 1.0)\n",
      "(64, 0.25)\n",
      "(64, 0.5)\n",
      "(64, 0.75)\n",
      "(64, 0.25)\n",
      "(62, 0.5)\n",
      "(60, 0.5)\n",
      "(0, 0.25)\n",
      "(53, 0.5)\n",
      "(60, 0.5)\n",
      "(60, 0.5)\n",
      "(0, 0.5)\n",
      "(53, 0.25)\n",
      "(64, 0.25)\n",
      "(64, 0.25)\n",
      "(64, 1.0)\n",
      "(0, 0.25)\n",
      "(53, 0.5)\n",
      "(60, 0.5)\n",
      "sample:4\n",
      "(64, 0.5)\n",
      "(64, 0.5)\n",
      "(62, 0.5)\n",
      "(60, 0.25)\n",
      "(62, 0.25)\n",
      "(60, 0.25)\n",
      "(62, 0.5)\n",
      "(57, 0.5)\n",
      "(0, 0.5)\n",
      "(60, 0.25)\n",
      "(60, 0.25)\n",
      "(0, 0.5)\n",
      "(60, 0.25)\n",
      "(60, 0.25)\n",
      "(0, 0.5)\n",
      "(60, 0.25)\n",
      "(60, 0.25)\n",
      "(0, 0.5)\n",
      "(60, 1.0)\n",
      "(64, 0.25)\n",
      "(64, 0.5)\n",
      "(64, 0.75)\n",
      "(64, 0.25)\n",
      "(62, 0.5)\n",
      "(60, 0.5)\n",
      "(0, 0.25)\n",
      "(53, 0.5)\n",
      "(60, 0.5)\n",
      "(60, 0.5)\n",
      "(0, 0.5)\n",
      "(53, 0.25)\n",
      "(64, 0.25)\n",
      "(64, 0.25)\n",
      "(64, 1.0)\n",
      "(0, 0.25)\n",
      "(53, 0.5)\n",
      "(60, 0.5)\n",
      "(60, 0.5)\n",
      "(0, 0.25)\n",
      "(53, 0.25)\n",
      "sample:5\n",
      "(60, 0.25)\n",
      "(62, 0.25)\n",
      "(60, 0.25)\n",
      "(62, 0.5)\n",
      "(57, 0.5)\n",
      "(0, 0.5)\n",
      "(60, 0.25)\n",
      "(60, 0.25)\n",
      "(0, 0.5)\n",
      "(60, 0.25)\n",
      "(60, 0.25)\n",
      "(0, 0.5)\n",
      "(60, 0.25)\n",
      "(60, 0.25)\n",
      "(0, 0.5)\n",
      "(60, 1.0)\n",
      "(64, 0.25)\n",
      "(64, 0.5)\n",
      "(64, 0.75)\n",
      "(64, 0.25)\n",
      "(62, 0.5)\n",
      "(60, 0.5)\n",
      "(0, 0.25)\n",
      "(53, 0.5)\n",
      "(60, 0.5)\n",
      "(60, 0.5)\n",
      "(0, 0.5)\n",
      "(53, 0.25)\n",
      "(64, 0.25)\n",
      "(64, 0.25)\n",
      "(64, 1.0)\n",
      "(0, 0.25)\n",
      "(53, 0.5)\n",
      "(60, 0.5)\n",
      "(60, 0.5)\n",
      "(0, 0.25)\n",
      "(53, 0.25)\n",
      "(53, 0.25)\n",
      "(64, 0.25)\n",
      "(64, 0.25)\n",
      "sample:6\n",
      "(62, 0.5)\n",
      "(57, 0.5)\n",
      "(0, 0.5)\n",
      "(60, 0.25)\n",
      "(60, 0.25)\n",
      "(0, 0.5)\n",
      "(60, 0.25)\n",
      "(60, 0.25)\n",
      "(0, 0.5)\n",
      "(60, 0.25)\n",
      "(60, 0.25)\n",
      "(0, 0.5)\n",
      "(60, 1.0)\n",
      "(64, 0.25)\n",
      "(64, 0.5)\n",
      "(64, 0.75)\n",
      "(64, 0.25)\n",
      "(62, 0.5)\n",
      "(60, 0.5)\n",
      "(0, 0.25)\n",
      "(53, 0.5)\n",
      "(60, 0.5)\n",
      "(60, 0.5)\n",
      "(0, 0.5)\n",
      "(53, 0.25)\n",
      "(64, 0.25)\n",
      "(64, 0.25)\n",
      "(64, 1.0)\n",
      "(0, 0.25)\n",
      "(53, 0.5)\n",
      "(60, 0.5)\n",
      "(60, 0.5)\n",
      "(0, 0.25)\n",
      "(53, 0.25)\n",
      "(53, 0.25)\n",
      "(64, 0.25)\n",
      "(64, 0.25)\n",
      "(64, 1.0)\n",
      "(0, 0.25)\n",
      "(55, 0.5)\n",
      "sample:7\n",
      "(60, 0.25)\n",
      "(60, 0.25)\n",
      "(0, 0.5)\n",
      "(60, 0.25)\n",
      "(60, 0.25)\n",
      "(0, 0.5)\n",
      "(60, 0.25)\n",
      "(60, 0.25)\n",
      "(0, 0.5)\n",
      "(60, 1.0)\n",
      "(64, 0.25)\n",
      "(64, 0.5)\n",
      "(64, 0.75)\n",
      "(64, 0.25)\n",
      "(62, 0.5)\n",
      "(60, 0.5)\n",
      "(0, 0.25)\n",
      "(53, 0.5)\n",
      "(60, 0.5)\n",
      "(60, 0.5)\n",
      "(0, 0.5)\n",
      "(53, 0.25)\n",
      "(64, 0.25)\n",
      "(64, 0.25)\n",
      "(64, 1.0)\n",
      "(0, 0.25)\n",
      "(53, 0.5)\n",
      "(60, 0.5)\n",
      "(60, 0.5)\n",
      "(0, 0.25)\n",
      "(53, 0.25)\n",
      "(53, 0.25)\n",
      "(64, 0.25)\n",
      "(64, 0.25)\n",
      "(64, 1.0)\n",
      "(0, 0.25)\n",
      "(55, 0.5)\n",
      "(60, 0.5)\n",
      "(60, 0.5)\n",
      "(0, 0.5)\n",
      "sample:8\n",
      "(60, 0.25)\n",
      "(60, 0.25)\n",
      "(0, 0.5)\n",
      "(60, 0.25)\n",
      "(60, 0.25)\n",
      "(0, 0.5)\n",
      "(60, 1.0)\n",
      "(64, 0.25)\n",
      "(64, 0.5)\n",
      "(64, 0.75)\n",
      "(64, 0.25)\n",
      "(62, 0.5)\n",
      "(60, 0.5)\n",
      "(0, 0.25)\n",
      "(53, 0.5)\n",
      "(60, 0.5)\n",
      "(60, 0.5)\n",
      "(0, 0.5)\n",
      "(53, 0.25)\n",
      "(64, 0.25)\n",
      "(64, 0.25)\n",
      "(64, 1.0)\n",
      "(0, 0.25)\n",
      "(53, 0.5)\n",
      "(60, 0.5)\n",
      "(60, 0.5)\n",
      "(0, 0.25)\n",
      "(53, 0.25)\n",
      "(53, 0.25)\n",
      "(64, 0.25)\n",
      "(64, 0.25)\n",
      "(64, 1.0)\n",
      "(0, 0.25)\n",
      "(55, 0.5)\n",
      "(60, 0.5)\n",
      "(60, 0.5)\n",
      "(0, 0.5)\n",
      "(55, 0.25)\n",
      "(60, 0.25)\n",
      "(64, 1.0)\n",
      "sample:9\n",
      "(60, 0.25)\n",
      "(60, 0.25)\n",
      "(0, 0.5)\n",
      "(60, 1.0)\n",
      "(64, 0.25)\n",
      "(64, 0.5)\n",
      "(64, 0.75)\n",
      "(64, 0.25)\n",
      "(62, 0.5)\n",
      "(60, 0.5)\n",
      "(0, 0.25)\n",
      "(53, 0.5)\n",
      "(60, 0.5)\n",
      "(60, 0.5)\n",
      "(0, 0.5)\n",
      "(53, 0.25)\n",
      "(64, 0.25)\n",
      "(64, 0.25)\n",
      "(64, 1.0)\n",
      "(0, 0.25)\n",
      "(53, 0.5)\n",
      "(60, 0.5)\n",
      "(60, 0.5)\n",
      "(0, 0.25)\n",
      "(53, 0.25)\n",
      "(53, 0.25)\n",
      "(64, 0.25)\n",
      "(64, 0.25)\n",
      "(64, 1.0)\n",
      "(0, 0.25)\n",
      "(55, 0.5)\n",
      "(60, 0.5)\n",
      "(60, 0.5)\n",
      "(0, 0.5)\n",
      "(55, 0.25)\n",
      "(60, 0.25)\n",
      "(64, 1.0)\n",
      "(65, 0.25)\n",
      "(64, 0.25)\n",
      "(62, 2.0)\n",
      "sample:10\n",
      "(79, 2.0)\n",
      "(79, 2.0)\n",
      "(79, 2.0)\n",
      "(79, 2.0)\n",
      "(79, 2.0)\n",
      "(79, 2.0)\n",
      "(79, 2.0)\n",
      "(79, 2.0)\n",
      "(79, 2.0)\n",
      "(79, 2.0)\n",
      "(79, 2.0)\n",
      "(79, 2.0)\n",
      "(79, 2.0)\n",
      "(79, 2.0)\n",
      "(79, 2.0)\n",
      "(79, 2.0)\n",
      "(79, 2.0)\n",
      "(79, 2.0)\n",
      "(79, 2.0)\n",
      "(79, 2.0)\n",
      "(79, 2.0)\n",
      "(79, 2.0)\n",
      "(79, 2.0)\n",
      "(79, 2.0)\n",
      "(79, 2.0)\n",
      "(79, 2.0)\n",
      "(79, 2.0)\n",
      "(79, 2.0)\n",
      "(79, 2.0)\n",
      "(79, 2.0)\n",
      "(79, 2.0)\n",
      "(79, 2.0)\n",
      "(79, 2.0)\n",
      "(79, 2.0)\n",
      "(79, 2.0)\n",
      "(79, 2.0)\n",
      "(79, 2.0)\n",
      "(79, 2.0)\n",
      "(79, 2.0)\n",
      "(79, 2.0)\n",
      "sample:11\n",
      "(79, 2.0)\n",
      "(79, 2.0)\n",
      "(79, 2.0)\n",
      "(79, 2.0)\n",
      "(79, 2.0)\n",
      "(79, 2.0)\n",
      "(79, 2.0)\n",
      "(79, 2.0)\n",
      "(79, 2.0)\n",
      "(79, 2.0)\n",
      "(79, 2.0)\n",
      "(79, 2.0)\n",
      "(79, 2.0)\n",
      "(79, 2.0)\n",
      "(79, 2.0)\n",
      "(79, 2.0)\n",
      "(79, 2.0)\n",
      "(79, 2.0)\n",
      "(79, 2.0)\n",
      "(79, 2.0)\n",
      "(79, 2.0)\n",
      "(79, 2.0)\n",
      "(79, 2.0)\n",
      "(79, 2.0)\n",
      "(79, 2.0)\n",
      "(79, 2.0)\n",
      "(79, 2.0)\n",
      "(79, 2.0)\n",
      "(79, 2.0)\n",
      "(79, 2.0)\n",
      "(79, 2.0)\n",
      "(79, 2.0)\n",
      "(79, 2.0)\n",
      "(79, 2.0)\n",
      "(79, 2.0)\n",
      "(79, 2.0)\n",
      "(79, 2.0)\n",
      "(79, 2.0)\n",
      "(79, 2.0)\n",
      "(79, 2.0)\n",
      "sample:12\n",
      "(79, 2.0)\n",
      "(79, 2.0)\n",
      "(79, 2.0)\n",
      "(79, 2.0)\n",
      "(79, 2.0)\n",
      "(79, 2.0)\n",
      "(79, 2.0)\n",
      "(79, 2.0)\n",
      "(79, 2.0)\n",
      "(79, 2.0)\n",
      "(79, 2.0)\n",
      "(79, 2.0)\n",
      "(79, 2.0)\n",
      "(79, 2.0)\n",
      "(79, 2.0)\n",
      "(79, 2.0)\n",
      "(79, 2.0)\n",
      "(79, 2.0)\n",
      "(79, 2.0)\n",
      "(79, 2.0)\n",
      "(79, 2.0)\n",
      "(79, 2.0)\n",
      "(79, 2.0)\n",
      "(79, 2.0)\n",
      "(79, 2.0)\n",
      "(79, 2.0)\n",
      "(79, 2.0)\n",
      "(79, 2.0)\n",
      "(79, 2.0)\n",
      "(79, 2.0)\n",
      "(79, 2.0)\n",
      "(79, 2.0)\n",
      "(79, 2.0)\n",
      "(79, 2.0)\n",
      "(79, 2.0)\n",
      "(79, 2.0)\n",
      "(79, 2.0)\n",
      "(79, 2.0)\n",
      "(79, 2.0)\n",
      "(79, 2.0)\n",
      "sample:13\n",
      "(79, 2.0)\n",
      "(79, 2.0)\n",
      "(79, 2.0)\n",
      "(79, 2.0)\n",
      "(79, 2.0)\n",
      "(79, 2.0)\n",
      "(79, 2.0)\n",
      "(79, 2.0)\n",
      "(79, 2.0)\n",
      "(79, 2.0)\n",
      "(79, 2.0)\n",
      "(79, 2.0)\n",
      "(79, 2.0)\n",
      "(79, 2.0)\n",
      "(79, 2.0)\n",
      "(79, 2.0)\n",
      "(79, 2.0)\n",
      "(79, 2.0)\n",
      "(79, 2.0)\n",
      "(79, 2.0)\n",
      "(79, 2.0)\n",
      "(79, 2.0)\n",
      "(79, 2.0)\n",
      "(79, 2.0)\n",
      "(79, 2.0)\n",
      "(79, 2.0)\n",
      "(79, 2.0)\n",
      "(79, 2.0)\n",
      "(79, 2.0)\n",
      "(79, 2.0)\n",
      "(79, 2.0)\n",
      "(79, 2.0)\n",
      "(79, 2.0)\n",
      "(79, 2.0)\n",
      "(79, 2.0)\n",
      "(79, 2.0)\n",
      "(79, 2.0)\n",
      "(79, 2.0)\n",
      "(79, 2.0)\n",
      "(79, 2.0)\n",
      "sample:14\n",
      "(79, 2.0)\n",
      "(79, 2.0)\n",
      "(79, 2.0)\n",
      "(79, 2.0)\n",
      "(79, 2.0)\n",
      "(79, 2.0)\n",
      "(79, 2.0)\n",
      "(79, 2.0)\n",
      "(79, 2.0)\n",
      "(79, 2.0)\n",
      "(79, 2.0)\n",
      "(79, 2.0)\n",
      "(79, 2.0)\n",
      "(79, 2.0)\n",
      "(79, 2.0)\n",
      "(79, 2.0)\n",
      "(79, 2.0)\n",
      "(79, 2.0)\n",
      "(79, 2.0)\n",
      "(79, 2.0)\n",
      "(79, 2.0)\n",
      "(79, 2.0)\n",
      "(79, 2.0)\n",
      "(79, 2.0)\n",
      "(79, 2.0)\n",
      "(79, 2.0)\n",
      "(79, 2.0)\n",
      "(79, 2.0)\n",
      "(79, 2.0)\n",
      "(79, 2.0)\n",
      "(79, 2.0)\n",
      "(79, 2.0)\n",
      "(79, 2.0)\n",
      "(79, 2.0)\n",
      "(79, 2.0)\n",
      "(79, 2.0)\n",
      "(79, 2.0)\n",
      "(79, 2.0)\n",
      "(79, 2.0)\n",
      "(79, 2.0)\n",
      "sample:15\n",
      "(79, 2.0)\n",
      "(79, 2.0)\n",
      "(79, 2.0)\n",
      "(79, 2.0)\n",
      "(79, 2.0)\n",
      "(79, 2.0)\n",
      "(79, 2.0)\n",
      "(79, 2.0)\n",
      "(79, 2.0)\n",
      "(79, 2.0)\n",
      "(79, 2.0)\n",
      "(79, 2.0)\n",
      "(79, 2.0)\n",
      "(79, 2.0)\n",
      "(79, 2.0)\n",
      "(79, 2.0)\n",
      "(79, 2.0)\n",
      "(79, 2.0)\n",
      "(79, 2.0)\n",
      "(79, 2.0)\n",
      "(79, 2.0)\n",
      "(79, 2.0)\n",
      "(79, 2.0)\n",
      "(79, 2.0)\n",
      "(79, 2.0)\n",
      "(79, 2.0)\n",
      "(79, 2.0)\n",
      "(79, 2.0)\n",
      "(79, 2.0)\n",
      "(79, 2.0)\n",
      "(79, 2.0)\n",
      "(79, 2.0)\n",
      "(79, 2.0)\n",
      "(79, 2.0)\n",
      "(79, 2.0)\n",
      "(79, 2.0)\n",
      "(79, 2.0)\n",
      "(79, 2.0)\n",
      "(79, 2.0)\n",
      "(79, 2.0)\n",
      "sample:16\n",
      "(79, 2.0)\n",
      "(79, 2.0)\n",
      "(79, 2.0)\n",
      "(79, 2.0)\n",
      "(79, 2.0)\n",
      "(79, 2.0)\n",
      "(79, 2.0)\n",
      "(79, 2.0)\n",
      "(79, 2.0)\n",
      "(79, 2.0)\n",
      "(79, 2.0)\n",
      "(79, 2.0)\n",
      "(79, 2.0)\n",
      "(79, 2.0)\n",
      "(79, 2.0)\n",
      "(79, 2.0)\n",
      "(79, 2.0)\n",
      "(79, 2.0)\n",
      "(79, 2.0)\n",
      "(79, 2.0)\n",
      "(79, 2.0)\n",
      "(79, 2.0)\n",
      "(79, 2.0)\n",
      "(79, 2.0)\n",
      "(79, 2.0)\n",
      "(79, 2.0)\n",
      "(79, 2.0)\n",
      "(79, 2.0)\n",
      "(79, 2.0)\n",
      "(79, 2.0)\n",
      "(79, 2.0)\n",
      "(79, 2.0)\n",
      "(79, 2.0)\n",
      "(79, 2.0)\n",
      "(79, 2.0)\n",
      "(79, 2.0)\n",
      "(79, 2.0)\n",
      "(79, 2.0)\n",
      "(79, 2.0)\n",
      "(79, 2.0)\n",
      "sample:17\n",
      "(79, 2.0)\n",
      "(79, 2.0)\n",
      "(79, 2.0)\n",
      "(79, 2.0)\n",
      "(79, 2.0)\n",
      "(79, 2.0)\n",
      "(79, 2.0)\n",
      "(79, 2.0)\n",
      "(79, 2.0)\n",
      "(79, 2.0)\n",
      "(79, 2.0)\n",
      "(79, 2.0)\n",
      "(79, 2.0)\n",
      "(79, 2.0)\n",
      "(79, 2.0)\n",
      "(79, 2.0)\n",
      "(79, 2.0)\n",
      "(79, 2.0)\n",
      "(79, 2.0)\n",
      "(79, 2.0)\n",
      "(79, 2.0)\n",
      "(79, 2.0)\n",
      "(79, 2.0)\n",
      "(79, 2.0)\n",
      "(79, 2.0)\n",
      "(79, 2.0)\n",
      "(79, 2.0)\n",
      "(79, 2.0)\n",
      "(79, 2.0)\n",
      "(79, 2.0)\n",
      "(79, 2.0)\n",
      "(79, 2.0)\n",
      "(79, 2.0)\n",
      "(79, 2.0)\n",
      "(79, 2.0)\n",
      "(79, 2.0)\n",
      "(79, 2.0)\n",
      "(79, 2.0)\n",
      "(79, 2.0)\n",
      "(79, 2.0)\n",
      "sample:18\n",
      "(79, 2.0)\n",
      "(79, 2.0)\n",
      "(79, 2.0)\n",
      "(79, 2.0)\n",
      "(79, 2.0)\n",
      "(79, 2.0)\n",
      "(79, 2.0)\n",
      "(79, 2.0)\n",
      "(79, 2.0)\n",
      "(79, 2.0)\n",
      "(79, 2.0)\n",
      "(79, 2.0)\n",
      "(79, 2.0)\n",
      "(79, 2.0)\n",
      "(79, 2.0)\n",
      "(79, 2.0)\n",
      "(79, 2.0)\n",
      "(79, 2.0)\n",
      "(79, 2.0)\n",
      "(79, 2.0)\n",
      "(79, 2.0)\n",
      "(79, 2.0)\n",
      "(79, 2.0)\n",
      "(79, 2.0)\n",
      "(79, 2.0)\n",
      "(79, 2.0)\n",
      "(79, 2.0)\n",
      "(79, 2.0)\n",
      "(79, 2.0)\n",
      "(79, 2.0)\n",
      "(79, 2.0)\n",
      "(79, 2.0)\n",
      "(79, 2.0)\n",
      "(79, 2.0)\n",
      "(79, 2.0)\n",
      "(79, 2.0)\n",
      "(79, 2.0)\n",
      "(79, 2.0)\n",
      "(79, 2.0)\n",
      "(79, 2.0)\n",
      "sample:19\n",
      "(79, 2.0)\n",
      "(79, 2.0)\n",
      "(79, 2.0)\n",
      "(79, 2.0)\n",
      "(79, 2.0)\n",
      "(79, 2.0)\n",
      "(79, 2.0)\n",
      "(79, 2.0)\n",
      "(79, 2.0)\n",
      "(79, 2.0)\n",
      "(79, 2.0)\n",
      "(79, 2.0)\n",
      "(79, 2.0)\n",
      "(79, 2.0)\n",
      "(79, 2.0)\n",
      "(79, 2.0)\n",
      "(79, 2.0)\n",
      "(79, 2.0)\n",
      "(79, 2.0)\n",
      "(79, 2.0)\n",
      "(79, 2.0)\n",
      "(79, 2.0)\n",
      "(79, 2.0)\n",
      "(79, 2.0)\n",
      "(79, 2.0)\n",
      "(79, 2.0)\n",
      "(79, 2.0)\n",
      "(79, 2.0)\n",
      "(79, 2.0)\n",
      "(79, 2.0)\n",
      "(79, 2.0)\n",
      "(79, 2.0)\n",
      "(79, 2.0)\n",
      "(79, 2.0)\n",
      "(79, 2.0)\n",
      "(79, 2.0)\n",
      "(79, 2.0)\n",
      "(79, 2.0)\n",
      "(79, 2.0)\n",
      "(79, 2.0)\n"
     ]
    }
   ],
   "source": [
    "nova_sequencia = []\n",
    "for i,data in enumerate(data_and_gen):\n",
    "    print('sample:{}'.format(i))\n",
    "    for d in data:\n",
    "        j = np.argmax(d)\n",
    "        n = indices_notes[j]\n",
    "        nova_sequencia.append(n)\n",
    "        print(n)"
   ]
  },
  {
   "cell_type": "code",
   "execution_count": 293,
   "metadata": {},
   "outputs": [
    {
     "data": {
      "image/png": "[encoded data removed]",
      "text/plain": [
       "<IPython.core.display.Image object>"
      ]
     },
     "metadata": {
      "image/png": {
       "height": 921,
       "width": 753
      }
     },
     "output_type": "display_data"
    }
   ],
   "source": [
    "from music21 import *\n",
    "sc = stream.Score()\n",
    "for t in nova_sequencia:\n",
    "    if t[0] == 0.0:\n",
    "        r = note.Rest(quarterLength = 0.25)\n",
    "        sc.append(r)\n",
    "    else:\n",
    "        n = note.Note(midi=t[0], quarterLength=t[1])\n",
    "        sc.append(n)\n",
    "sc.show()"
   ]
  },
  {
   "cell_type": "code",
   "execution_count": 294,
   "metadata": {
    "collapsed": true
   },
   "outputs": [],
   "source": [
    "filename = \"gerada_\" + datetime.now().strftime(\"%Y%m%d-%H%M%S\"+\".mid\")"
   ]
  },
  {
   "cell_type": "code",
   "execution_count": 295,
   "metadata": {},
   "outputs": [
    {
     "name": "stdout",
     "output_type": "stream",
     "text": [
      "gerada_20180707-225603.mid\n"
     ]
    }
   ],
   "source": [
    "print(filename)"
   ]
  },
  {
   "cell_type": "code",
   "execution_count": 296,
   "metadata": {
    "collapsed": true
   },
   "outputs": [],
   "source": [
    "from music21 import *\n",
    "mf = midi.translate.streamToMidiFile(sc)\n",
    "mf.open(filename, 'wb')\n",
    "mf.write()\n",
    "mf.close()"
   ]
  },
  {
   "cell_type": "code",
   "execution_count": 297,
   "metadata": {},
   "outputs": [
    {
     "name": "stdout",
     "output_type": "stream",
     "text": [
      "/home/eurismar/notebooks/JohaNN\r\n"
     ]
    }
   ],
   "source": [
    "!pwd"
   ]
  },
  {
   "cell_type": "code",
   "execution_count": null,
   "metadata": {
    "collapsed": true
   },
   "outputs": [],
   "source": []
  },
  {
   "cell_type": "code",
   "execution_count": null,
   "metadata": {
    "collapsed": true
   },
   "outputs": [],
   "source": []
  }
 ],
 "metadata": {
  "kernelspec": {
   "display_name": "Python 3",
   "language": "python",
   "name": "python3"
  },
  "language_info": {
   "codemirror_mode": {
    "name": "ipython",
    "version": 3
   },
   "file_extension": ".py",
   "mimetype": "text/x-python",
   "name": "python",
   "nbconvert_exporter": "python",
   "pygments_lexer": "ipython3",
   "version": "3.6.3"
  }
 },
 "nbformat": 4,
 "nbformat_minor": 2
}
