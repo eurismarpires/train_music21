{
  "nbformat": 4,
  "nbformat_minor": 0,
  "metadata": {
    "colab": {
      "name": "lstm_music21_corpus_2.ipynb",
      "version": "0.3.2",
      "provenance": [],
      "collapsed_sections": [],
      "include_colab_link": true
    },
    "kernelspec": {
      "display_name": "Python 3",
      "language": "python",
      "name": "python3"
    }
  },
  "cells": [
    {
      "cell_type": "markdown",
      "metadata": {
        "id": "view-in-github",
        "colab_type": "text"
      },
      "source": [
        "[View in Colaboratory](https://colab.research.google.com/github/eurismarpires/train_music21/blob/master/lstm_music21_corpus_2.ipynb)"
      ]
    },
    {
      "metadata": {
        "id": "9DVi6sZOdL63",
        "colab_type": "code",
        "colab": {}
      },
      "cell_type": "code",
      "source": [
        "from music21 import *\n",
        "import glob\n",
        "import numpy as np\n",
        "from keras.models import Sequential, load_model\n",
        "from keras.layers.core import Dense, Activation, Dropout\n",
        "from keras.layers.recurrent import LSTM\n",
        "from keras.callbacks import History, ModelCheckpoint\n",
        "from keras.optimizers import RMSprop\n",
        "from datetime import datetime"
      ],
      "execution_count": 0,
      "outputs": []
    },
    {
      "metadata": {
        "id": "b0gHfW9KdL67",
        "colab_type": "code",
        "colab": {}
      },
      "cell_type": "code",
      "source": [
        "path = '/home/eurismar/notebooks/Music_Generator_Demo/Pop_Music_Midi/'\n",
        "#path = '/home/eurismar/notebooks/c-rnn-gan/datadir/classical/chopin'"
      ],
      "execution_count": 0,
      "outputs": []
    },
    {
      "metadata": {
        "id": "JmaHH3JhdL6_",
        "colab_type": "code",
        "colab": {}
      },
      "cell_type": "code",
      "source": [
        "files = glob.glob('{}/*.mid*'.format(path))"
      ],
      "execution_count": 0,
      "outputs": []
    },
    {
      "metadata": {
        "id": "bZT9W6WYdL7B",
        "colab_type": "code",
        "colab": {}
      },
      "cell_type": "code",
      "source": [
        "melody_corpus = []\n",
        "#for file in files[:1]:\n",
        "for file in files:\n",
        "    midi_stream = converter.parse(file)\n",
        "    part0 = midi_stream[0]\n",
        "    key_sig = part0.keySignature\n",
        "    for m in part0.measures(1, None):\n",
        "        for nr in m.flat.notesAndRests:\n",
        "            pitch = nr.pitch.midi  if isinstance(nr, note.Note) else 0\n",
        "            duration = float(nr.quarterLength)\n",
        "            note_repr = (pitch, duration)\n",
        "            melody_corpus.append(note_repr)"
      ],
      "execution_count": 0,
      "outputs": []
    },
    {
      "metadata": {
        "id": "vjy-_svedL7E",
        "colab_type": "code",
        "colab": {}
      },
      "cell_type": "code",
      "source": [
        "melody_set = set(melody_corpus)"
      ],
      "execution_count": 0,
      "outputs": []
    },
    {
      "metadata": {
        "id": "vbuQ1dW5dL7H",
        "colab_type": "code",
        "colab": {}
      },
      "cell_type": "code",
      "source": [
        "notes_indices = {note: i for i, note in enumerate(melody_set)}\n",
        "indices_notes = {i: note for i, note in enumerate(melody_set)}"
      ],
      "execution_count": 0,
      "outputs": []
    },
    {
      "metadata": {
        "id": "fxN1uPS4dL7N",
        "colab_type": "code",
        "colab": {},
        "outputId": "ce575db4-a7bd-4ab5-824a-6a668663ab71"
      },
      "cell_type": "code",
      "source": [
        "corpus_size = len(melody_set)\n",
        "print(corpus_size)"
      ],
      "execution_count": 0,
      "outputs": [
        {
          "output_type": "stream",
          "text": [
            "231\n"
          ],
          "name": "stdout"
        }
      ]
    },
    {
      "metadata": {
        "id": "OX4J_SlGdL7T",
        "colab_type": "code",
        "colab": {}
      },
      "cell_type": "code",
      "source": [
        "phrase_len = 20\n",
        "step_size = 3"
      ],
      "execution_count": 0,
      "outputs": []
    },
    {
      "metadata": {
        "id": "aWwkSunWdL7W",
        "colab_type": "code",
        "colab": {}
      },
      "cell_type": "code",
      "source": [
        "phrases = []\n",
        "next_notes = []"
      ],
      "execution_count": 0,
      "outputs": []
    },
    {
      "metadata": {
        "id": "jHwi4uUAdL7Y",
        "colab_type": "code",
        "colab": {},
        "outputId": "3a1ae8f1-8b0a-42d4-eb5a-70f13de78177"
      },
      "cell_type": "code",
      "source": [
        "for i in range(0, len(melody_corpus) - phrase_len, step_size):\n",
        "    phrases.append(melody_corpus[i: i + phrase_len])\n",
        "    next_notes.append(melody_corpus[i + phrase_len])\n",
        "print('nb sequences:', len(phrases))"
      ],
      "execution_count": 0,
      "outputs": [
        {
          "output_type": "stream",
          "text": [
            "nb sequences: 2327\n"
          ],
          "name": "stdout"
        }
      ]
    },
    {
      "metadata": {
        "id": "KjogvI7ddL7c",
        "colab_type": "code",
        "colab": {},
        "outputId": "4ee74fcf-3a8a-45c7-f15c-590c6452dad9"
      },
      "cell_type": "code",
      "source": [
        "# transform data into binary matrices\n",
        "X = np.zeros((len(phrases), phrase_len, corpus_size), dtype=np.bool)\n",
        "y = np.zeros((len(phrases), corpus_size), dtype=np.bool)\n",
        "print(X.shape)\n",
        "print(y.shape)"
      ],
      "execution_count": 0,
      "outputs": [
        {
          "output_type": "stream",
          "text": [
            "(2327, 20, 231)\n",
            "(2327, 231)\n"
          ],
          "name": "stdout"
        }
      ]
    },
    {
      "metadata": {
        "id": "BdU-qcIEdL7f",
        "colab_type": "code",
        "colab": {}
      },
      "cell_type": "code",
      "source": [
        "for i, phrase in enumerate(phrases):\n",
        "    for j, note in enumerate(phrase):\n",
        "        X[i, j, notes_indices[note]] = 1\n",
        "    y[i, notes_indices[next_notes[i]]] = 1"
      ],
      "execution_count": 0,
      "outputs": []
    },
    {
      "metadata": {
        "id": "MWgvRXIDdL7h",
        "colab_type": "code",
        "colab": {}
      },
      "cell_type": "code",
      "source": [
        "layer_size=128\n",
        "batch_size = 128\n",
        "nb_epoch = 200"
      ],
      "execution_count": 0,
      "outputs": []
    },
    {
      "metadata": {
        "id": "X0HH6tuudL7j",
        "colab_type": "code",
        "colab": {}
      },
      "cell_type": "code",
      "source": [
        "model = Sequential()\n",
        "model.add(LSTM(layer_size, return_sequences=True, input_shape=(phrase_len, corpus_size)))\n",
        "model.add(Dropout(0.2))\n",
        "model.add(LSTM(layer_size, return_sequences=False))\n",
        "model.add(Dropout(0.2))\n",
        "model.add(Dense(corpus_size))\n",
        "model.add(Activation('softmax'))\n",
        "\n",
        "model.compile(loss='categorical_crossentropy', optimizer=RMSprop(), metrics=['accuracy'])"
      ],
      "execution_count": 0,
      "outputs": []
    },
    {
      "metadata": {
        "id": "yIk5IuvydL7m",
        "colab_type": "code",
        "colab": {},
        "outputId": "cfeb09ff-b2bc-483f-8bcb-714637d4adb4"
      },
      "cell_type": "code",
      "source": [
        "model.summary()"
      ],
      "execution_count": 0,
      "outputs": [
        {
          "output_type": "stream",
          "text": [
            "_________________________________________________________________\n",
            "Layer (type)                 Output Shape              Param #   \n",
            "=================================================================\n",
            "lstm_3 (LSTM)                (None, 20, 128)           184320    \n",
            "_________________________________________________________________\n",
            "dropout_3 (Dropout)          (None, 20, 128)           0         \n",
            "_________________________________________________________________\n",
            "lstm_4 (LSTM)                (None, 128)               131584    \n",
            "_________________________________________________________________\n",
            "dropout_4 (Dropout)          (None, 128)               0         \n",
            "_________________________________________________________________\n",
            "dense_2 (Dense)              (None, 231)               29799     \n",
            "_________________________________________________________________\n",
            "activation_2 (Activation)    (None, 231)               0         \n",
            "=================================================================\n",
            "Total params: 345,703\n",
            "Trainable params: 345,703\n",
            "Non-trainable params: 0\n",
            "_________________________________________________________________\n"
          ],
          "name": "stdout"
        }
      ]
    },
    {
      "metadata": {
        "id": "LP_Rp9z4dL7r",
        "colab_type": "code",
        "colab": {}
      },
      "cell_type": "code",
      "source": [
        "history = History()"
      ],
      "execution_count": 0,
      "outputs": []
    },
    {
      "metadata": {
        "id": "mDLwl9XbdL7v",
        "colab_type": "code",
        "colab": {},
        "outputId": "f0a6ade4-d971-43a1-e988-58d6e972fb82"
      },
      "cell_type": "code",
      "source": [
        "model.fit(X, y, batch_size=batch_size, epochs=nb_epoch, callbacks=[history])"
      ],
      "execution_count": 0,
      "outputs": [
        {
          "output_type": "stream",
          "text": [
            "Epoch 1/200\n",
            "2327/2327 [==============================] - 1s - loss: 4.6327 - acc: 0.0507     \n",
            "Epoch 2/200\n",
            "2327/2327 [==============================] - 1s - loss: 4.2018 - acc: 0.0675     \n",
            "Epoch 3/200\n",
            "2327/2327 [==============================] - 1s - loss: 4.0976 - acc: 0.0791     \n",
            "Epoch 4/200\n",
            "2327/2327 [==============================] - 1s - loss: 4.0063 - acc: 0.0804     \n",
            "Epoch 5/200\n",
            "2327/2327 [==============================] - 1s - loss: 3.9497 - acc: 0.0847     \n",
            "Epoch 6/200\n",
            "2327/2327 [==============================] - 1s - loss: 3.8838 - acc: 0.0945     \n",
            "Epoch 7/200\n",
            "2327/2327 [==============================] - 1s - loss: 3.8273 - acc: 0.0881     \n",
            "Epoch 8/200\n",
            "2327/2327 [==============================] - 1s - loss: 3.7851 - acc: 0.1053     \n",
            "Epoch 9/200\n",
            "2327/2327 [==============================] - 1s - loss: 3.7622 - acc: 0.1057     \n",
            "Epoch 10/200\n",
            "2327/2327 [==============================] - 1s - loss: 3.7316 - acc: 0.0976     \n",
            "Epoch 11/200\n",
            "2327/2327 [==============================] - 1s - loss: 3.7125 - acc: 0.1049     \n",
            "Epoch 12/200\n",
            "2327/2327 [==============================] - 1s - loss: 3.6693 - acc: 0.1031     \n",
            "Epoch 13/200\n",
            "2327/2327 [==============================] - 1s - loss: 3.6412 - acc: 0.1096     \n",
            "Epoch 14/200\n",
            "2327/2327 [==============================] - 1s - loss: 3.6087 - acc: 0.1156     \n",
            "Epoch 15/200\n",
            "2327/2327 [==============================] - 1s - loss: 3.5704 - acc: 0.1285     \n",
            "Epoch 16/200\n",
            "2327/2327 [==============================] - 1s - loss: 3.5408 - acc: 0.1367     \n",
            "Epoch 17/200\n",
            "2327/2327 [==============================] - 1s - loss: 3.4989 - acc: 0.1362     \n",
            "Epoch 18/200\n",
            "2327/2327 [==============================] - 1s - loss: 3.4747 - acc: 0.1367     \n",
            "Epoch 19/200\n",
            "2327/2327 [==============================] - 1s - loss: 3.4508 - acc: 0.1392     \n",
            "Epoch 20/200\n",
            "2327/2327 [==============================] - 1s - loss: 3.4157 - acc: 0.1573     \n",
            "Epoch 21/200\n",
            "2327/2327 [==============================] - 1s - loss: 3.3804 - acc: 0.1538     \n",
            "Epoch 22/200\n",
            "2327/2327 [==============================] - 1s - loss: 3.3672 - acc: 0.1624     \n",
            "Epoch 23/200\n",
            "2327/2327 [==============================] - 1s - loss: 3.3379 - acc: 0.1607     \n",
            "Epoch 24/200\n",
            "2327/2327 [==============================] - 1s - loss: 3.2855 - acc: 0.1629     \n",
            "Epoch 25/200\n",
            "2327/2327 [==============================] - 1s - loss: 3.2602 - acc: 0.1654     \n",
            "Epoch 26/200\n",
            "2327/2327 [==============================] - 1s - loss: 3.2236 - acc: 0.1745     \n",
            "Epoch 27/200\n",
            "2327/2327 [==============================] - 1s - loss: 3.2033 - acc: 0.1728     \n",
            "Epoch 28/200\n",
            "2327/2327 [==============================] - 1s - loss: 3.1391 - acc: 0.1788     \n",
            "Epoch 29/200\n",
            "2327/2327 [==============================] - 1s - loss: 3.1253 - acc: 0.1934     \n",
            "Epoch 30/200\n",
            "2327/2327 [==============================] - 1s - loss: 3.0787 - acc: 0.1869     \n",
            "Epoch 31/200\n",
            "2327/2327 [==============================] - 1s - loss: 3.0708 - acc: 0.1951     \n",
            "Epoch 32/200\n",
            "2327/2327 [==============================] - 1s - loss: 3.0343 - acc: 0.1930     \n",
            "Epoch 33/200\n",
            "2327/2327 [==============================] - 1s - loss: 3.0003 - acc: 0.1938     \n",
            "Epoch 34/200\n",
            "2327/2327 [==============================] - 1s - loss: 2.9660 - acc: 0.2136     \n",
            "Epoch 35/200\n",
            "2327/2327 [==============================] - 1s - loss: 2.9514 - acc: 0.2179     \n",
            "Epoch 36/200\n",
            "2327/2327 [==============================] - 1s - loss: 2.9170 - acc: 0.2123     \n",
            "Epoch 37/200\n",
            "2327/2327 [==============================] - 1s - loss: 2.8727 - acc: 0.2299     \n",
            "Epoch 38/200\n",
            "2327/2327 [==============================] - 1s - loss: 2.8556 - acc: 0.2144     \n",
            "Epoch 39/200\n",
            "2327/2327 [==============================] - 1s - loss: 2.8334 - acc: 0.2295     \n",
            "Epoch 40/200\n",
            "2327/2327 [==============================] - 1s - loss: 2.7886 - acc: 0.2312     \n",
            "Epoch 41/200\n",
            "2327/2327 [==============================] - 1s - loss: 2.7672 - acc: 0.2364     \n",
            "Epoch 42/200\n",
            "2327/2327 [==============================] - 1s - loss: 2.7461 - acc: 0.2467     \n",
            "Epoch 43/200\n",
            "2327/2327 [==============================] - 1s - loss: 2.6915 - acc: 0.2604     \n",
            "Epoch 44/200\n",
            "2327/2327 [==============================] - 1s - loss: 2.6690 - acc: 0.2621     - ETA: 0s - loss: 2.6266 - acc:\n",
            "Epoch 45/200\n",
            "2327/2327 [==============================] - 1s - loss: 2.6367 - acc: 0.2647     \n",
            "Epoch 46/200\n",
            "2327/2327 [==============================] - 1s - loss: 2.6148 - acc: 0.2617     \n",
            "Epoch 47/200\n",
            "2327/2327 [==============================] - 1s - loss: 2.5835 - acc: 0.2733     \n",
            "Epoch 48/200\n",
            "2327/2327 [==============================] - 1s - loss: 2.5502 - acc: 0.2858     \n",
            "Epoch 49/200\n",
            "2327/2327 [==============================] - 1s - loss: 2.5291 - acc: 0.2871     \n",
            "Epoch 50/200\n",
            "2327/2327 [==============================] - 1s - loss: 2.4803 - acc: 0.3047     \n",
            "Epoch 51/200\n",
            "2327/2327 [==============================] - 1s - loss: 2.4455 - acc: 0.3111     \n",
            "Epoch 52/200\n",
            "2327/2327 [==============================] - 1s - loss: 2.4332 - acc: 0.3197     \n",
            "Epoch 53/200\n",
            "2327/2327 [==============================] - 1s - loss: 2.3814 - acc: 0.3197     \n",
            "Epoch 54/200\n",
            "2327/2327 [==============================] - 1s - loss: 2.3816 - acc: 0.3154     \n",
            "Epoch 55/200\n",
            "2327/2327 [==============================] - 1s - loss: 2.3331 - acc: 0.3292     \n",
            "Epoch 56/200\n",
            "2327/2327 [==============================] - 1s - loss: 2.3062 - acc: 0.3446     \n",
            "Epoch 57/200\n",
            "2327/2327 [==============================] - 1s - loss: 2.2696 - acc: 0.3408     \n",
            "Epoch 58/200\n",
            "2327/2327 [==============================] - 1s - loss: 2.2457 - acc: 0.3481     \n",
            "Epoch 59/200\n",
            "2327/2327 [==============================] - 1s - loss: 2.2325 - acc: 0.3606     - ETA: 0s - loss: 2.2654 - a\n",
            "Epoch 60/200\n",
            "2327/2327 [==============================] - 1s - loss: 2.1824 - acc: 0.3713     \n",
            "Epoch 61/200\n",
            "2327/2327 [==============================] - 1s - loss: 2.1451 - acc: 0.3889     \n",
            "Epoch 62/200\n",
            "2327/2327 [==============================] - 1s - loss: 2.1391 - acc: 0.3765     \n",
            "Epoch 63/200\n",
            "2327/2327 [==============================] - 1s - loss: 2.0897 - acc: 0.4117     \n",
            "Epoch 64/200\n",
            "2327/2327 [==============================] - 1s - loss: 2.0763 - acc: 0.3958     \n",
            "Epoch 65/200\n",
            "2327/2327 [==============================] - 1s - loss: 2.0428 - acc: 0.4130     \n",
            "Epoch 66/200\n",
            "2327/2327 [==============================] - 1s - loss: 2.0318 - acc: 0.4100     \n",
            "Epoch 67/200\n",
            "2327/2327 [==============================] - 1s - loss: 1.9864 - acc: 0.4211     \n",
            "Epoch 68/200\n",
            "2327/2327 [==============================] - 1s - loss: 1.9748 - acc: 0.4276     \n",
            "Epoch 69/200\n",
            "2327/2327 [==============================] - 1s - loss: 1.9299 - acc: 0.4370     \n",
            "Epoch 70/200\n",
            "2327/2327 [==============================] - 1s - loss: 1.8800 - acc: 0.4521     \n",
            "Epoch 71/200\n",
            "2327/2327 [==============================] - 1s - loss: 1.8756 - acc: 0.4585     \n",
            "Epoch 72/200\n",
            "2327/2327 [==============================] - 1s - loss: 1.8404 - acc: 0.4620     \n",
            "Epoch 73/200\n",
            "2327/2327 [==============================] - 1s - loss: 1.8297 - acc: 0.4538     \n",
            "Epoch 74/200\n",
            "2327/2327 [==============================] - 1s - loss: 1.8025 - acc: 0.4706     \n",
            "Epoch 75/200\n",
            "2327/2327 [==============================] - 1s - loss: 1.7512 - acc: 0.4882     - ETA: 1s - loss: 1.73\n",
            "Epoch 76/200\n",
            "2327/2327 [==============================] - 1s - loss: 1.7242 - acc: 0.5019     \n",
            "Epoch 77/200\n",
            "2327/2327 [==============================] - 1s - loss: 1.7039 - acc: 0.5049     \n",
            "Epoch 78/200\n",
            "2327/2327 [==============================] - 1s - loss: 1.6898 - acc: 0.5071     \n",
            "Epoch 79/200\n",
            "2327/2327 [==============================] - 1s - loss: 1.6463 - acc: 0.5191     \n",
            "Epoch 80/200\n",
            "2327/2327 [==============================] - 1s - loss: 1.6514 - acc: 0.5273     \n",
            "Epoch 81/200\n",
            "2327/2327 [==============================] - 1s - loss: 1.6095 - acc: 0.5264     \n",
            "Epoch 82/200\n",
            "2327/2327 [==============================] - 1s - loss: 1.5464 - acc: 0.5505     \n",
            "Epoch 83/200\n",
            "2327/2327 [==============================] - 1s - loss: 1.5563 - acc: 0.5355     \n",
            "Epoch 84/200\n",
            "2327/2327 [==============================] - 1s - loss: 1.5504 - acc: 0.5449     \n",
            "Epoch 85/200\n",
            "2327/2327 [==============================] - 1s - loss: 1.5121 - acc: 0.5685     \n",
            "Epoch 86/200\n"
          ],
          "name": "stdout"
        },
        {
          "output_type": "stream",
          "text": [
            "2327/2327 [==============================] - 1s - loss: 1.4694 - acc: 0.5784     \n",
            "Epoch 87/200\n",
            "2327/2327 [==============================] - 1s - loss: 1.4282 - acc: 0.5784     \n",
            "Epoch 88/200\n",
            "2327/2327 [==============================] - 1s - loss: 1.4305 - acc: 0.5844     \n",
            "Epoch 89/200\n",
            "2327/2327 [==============================] - 1s - loss: 1.3977 - acc: 0.6016     \n",
            "Epoch 90/200\n",
            "2327/2327 [==============================] - 1s - loss: 1.4091 - acc: 0.5948     \n",
            "Epoch 91/200\n",
            "2327/2327 [==============================] - 1s - loss: 1.3422 - acc: 0.6154     \n",
            "Epoch 92/200\n",
            "2327/2327 [==============================] - 1s - loss: 1.3481 - acc: 0.6016     \n",
            "Epoch 93/200\n",
            "2327/2327 [==============================] - 1s - loss: 1.2867 - acc: 0.6420     \n",
            "Epoch 94/200\n",
            "2327/2327 [==============================] - 1s - loss: 1.2678 - acc: 0.6343     \n",
            "Epoch 95/200\n",
            "2327/2327 [==============================] - 1s - loss: 1.2687 - acc: 0.6437     \n",
            "Epoch 96/200\n",
            "2327/2327 [==============================] - 1s - loss: 1.2413 - acc: 0.6455     \n",
            "Epoch 97/200\n",
            "2327/2327 [==============================] - 1s - loss: 1.2091 - acc: 0.6493     \n",
            "Epoch 98/200\n",
            "2327/2327 [==============================] - 1s - loss: 1.2044 - acc: 0.6523     \n",
            "Epoch 99/200\n",
            "2327/2327 [==============================] - 1s - loss: 1.1599 - acc: 0.6678     \n",
            "Epoch 100/200\n",
            "2327/2327 [==============================] - 1s - loss: 1.1432 - acc: 0.6841     \n",
            "Epoch 101/200\n",
            "2327/2327 [==============================] - 1s - loss: 1.1299 - acc: 0.6919     \n",
            "Epoch 102/200\n",
            "2327/2327 [==============================] - 1s - loss: 1.1046 - acc: 0.6975     \n",
            "Epoch 103/200\n",
            "2327/2327 [==============================] - 1s - loss: 1.0988 - acc: 0.6910     \n",
            "Epoch 104/200\n",
            "2327/2327 [==============================] - 1s - loss: 1.0452 - acc: 0.7005     \n",
            "Epoch 105/200\n",
            "2327/2327 [==============================] - 1s - loss: 1.0285 - acc: 0.7190     \n",
            "Epoch 106/200\n",
            "2327/2327 [==============================] - 1s - loss: 1.0088 - acc: 0.7138     \n",
            "Epoch 107/200\n",
            "2327/2327 [==============================] - 1s - loss: 0.9883 - acc: 0.7263     \n",
            "Epoch 108/200\n",
            "2327/2327 [==============================] - 1s - loss: 0.9830 - acc: 0.7267     \n",
            "Epoch 109/200\n",
            "2327/2327 [==============================] - 1s - loss: 0.9383 - acc: 0.7516     \n",
            "Epoch 110/200\n",
            "2327/2327 [==============================] - 1s - loss: 0.9833 - acc: 0.7284     \n",
            "Epoch 111/200\n",
            "2327/2327 [==============================] - 1s - loss: 0.9017 - acc: 0.7473     \n",
            "Epoch 112/200\n",
            "2327/2327 [==============================] - 1s - loss: 0.9255 - acc: 0.7370     \n",
            "Epoch 113/200\n",
            "2327/2327 [==============================] - 1s - loss: 0.8751 - acc: 0.7589     \n",
            "Epoch 114/200\n",
            "2327/2327 [==============================] - 1s - loss: 0.8661 - acc: 0.7684     \n",
            "Epoch 115/200\n",
            "2327/2327 [==============================] - 1s - loss: 0.8631 - acc: 0.7636     \n",
            "Epoch 116/200\n",
            "2327/2327 [==============================] - 1s - loss: 0.8257 - acc: 0.7877     \n",
            "Epoch 117/200\n",
            "2327/2327 [==============================] - 1s - loss: 0.8102 - acc: 0.7808     \n",
            "Epoch 118/200\n",
            "2327/2327 [==============================] - 1s - loss: 0.7754 - acc: 0.7933     \n",
            "Epoch 119/200\n",
            "2327/2327 [==============================] - 1s - loss: 0.8151 - acc: 0.7804     \n",
            "Epoch 120/200\n",
            "2327/2327 [==============================] - 1s - loss: 0.7780 - acc: 0.7946     \n",
            "Epoch 121/200\n",
            "2327/2327 [==============================] - 1s - loss: 0.7405 - acc: 0.8049     \n",
            "Epoch 122/200\n",
            "2327/2327 [==============================] - 1s - loss: 0.7548 - acc: 0.7972     \n",
            "Epoch 123/200\n",
            "2327/2327 [==============================] - 1s - loss: 0.7224 - acc: 0.8152     \n",
            "Epoch 124/200\n",
            "2327/2327 [==============================] - 1s - loss: 0.7211 - acc: 0.8066     \n",
            "Epoch 125/200\n",
            "2327/2327 [==============================] - 1s - loss: 0.7004 - acc: 0.8126     \n",
            "Epoch 126/200\n",
            "2327/2327 [==============================] - 1s - loss: 0.6642 - acc: 0.8251     \n",
            "Epoch 127/200\n",
            "2327/2327 [==============================] - 1s - loss: 0.6664 - acc: 0.8290     \n",
            "Epoch 128/200\n",
            "2327/2327 [==============================] - 1s - loss: 0.6267 - acc: 0.8337     \n",
            "Epoch 129/200\n",
            "2327/2327 [==============================] - 1s - loss: 0.6428 - acc: 0.8363     \n",
            "Epoch 130/200\n",
            "2327/2327 [==============================] - 1s - loss: 0.6771 - acc: 0.8212     \n",
            "Epoch 131/200\n",
            "2327/2327 [==============================] - 1s - loss: 0.6020 - acc: 0.8466     \n",
            "Epoch 132/200\n",
            "2327/2327 [==============================] - 1s - loss: 0.5867 - acc: 0.8457     \n",
            "Epoch 133/200\n",
            "2327/2327 [==============================] - 1s - loss: 0.5974 - acc: 0.8414     \n",
            "Epoch 134/200\n",
            "2327/2327 [==============================] - 1s - loss: 0.5835 - acc: 0.8509     \n",
            "Epoch 135/200\n",
            "2327/2327 [==============================] - 1s - loss: 0.5728 - acc: 0.8483     \n",
            "Epoch 136/200\n",
            "2327/2327 [==============================] - 1s - loss: 0.5843 - acc: 0.8522     \n",
            "Epoch 137/200\n",
            "2327/2327 [==============================] - 1s - loss: 0.5325 - acc: 0.8625     \n",
            "Epoch 138/200\n",
            "2327/2327 [==============================] - 1s - loss: 0.5550 - acc: 0.8608     \n",
            "Epoch 139/200\n",
            "2327/2327 [==============================] - 1s - loss: 0.5410 - acc: 0.8565     \n",
            "Epoch 140/200\n",
            "2327/2327 [==============================] - 1s - loss: 0.5024 - acc: 0.8784     \n",
            "Epoch 141/200\n",
            "2327/2327 [==============================] - 1s - loss: 0.5138 - acc: 0.8741     \n",
            "Epoch 142/200\n",
            "2327/2327 [==============================] - 1s - loss: 0.5186 - acc: 0.8655     \n",
            "Epoch 143/200\n",
            "2327/2327 [==============================] - 1s - loss: 0.4959 - acc: 0.8758     \n",
            "Epoch 144/200\n",
            "2327/2327 [==============================] - 1s - loss: 0.5001 - acc: 0.8694     \n",
            "Epoch 145/200\n",
            "2327/2327 [==============================] - 1s - loss: 0.4831 - acc: 0.8767     \n",
            "Epoch 146/200\n",
            "2327/2327 [==============================] - 1s - loss: 0.4436 - acc: 0.8917     \n",
            "Epoch 147/200\n",
            "2327/2327 [==============================] - 1s - loss: 0.4412 - acc: 0.8943     \n",
            "Epoch 148/200\n",
            "2327/2327 [==============================] - 1s - loss: 0.4672 - acc: 0.8848     \n",
            "Epoch 149/200\n",
            "2327/2327 [==============================] - 1s - loss: 0.4533 - acc: 0.8870     \n",
            "Epoch 150/200\n",
            "2327/2327 [==============================] - 1s - loss: 0.4229 - acc: 0.9024     \n",
            "Epoch 151/200\n",
            "2327/2327 [==============================] - 1s - loss: 0.4177 - acc: 0.8982     \n",
            "Epoch 152/200\n",
            "2327/2327 [==============================] - 1s - loss: 0.4630 - acc: 0.8861     \n",
            "Epoch 153/200\n",
            "2327/2327 [==============================] - 1s - loss: 0.3957 - acc: 0.9033     \n",
            "Epoch 154/200\n",
            "2327/2327 [==============================] - 1s - loss: 0.4414 - acc: 0.8792     \n",
            "Epoch 155/200\n",
            "2327/2327 [==============================] - 1s - loss: 0.3775 - acc: 0.9093     \n",
            "Epoch 156/200\n",
            "2327/2327 [==============================] - 1s - loss: 0.3744 - acc: 0.9102     \n",
            "Epoch 157/200\n",
            "2327/2327 [==============================] - 1s - loss: 0.3752 - acc: 0.9128     \n",
            "Epoch 158/200\n",
            "2327/2327 [==============================] - 1s - loss: 0.3612 - acc: 0.9136     \n",
            "Epoch 159/200\n",
            "2327/2327 [==============================] - 1s - loss: 0.3844 - acc: 0.9007     \n",
            "Epoch 160/200\n",
            "2327/2327 [==============================] - 1s - loss: 0.3533 - acc: 0.9158     \n",
            "Epoch 161/200\n",
            "2327/2327 [==============================] - 1s - loss: 0.3596 - acc: 0.9080     \n",
            "Epoch 162/200\n",
            "2327/2327 [==============================] - 1s - loss: 0.3900 - acc: 0.9046     \n",
            "Epoch 163/200\n",
            "2327/2327 [==============================] - 1s - loss: 0.3412 - acc: 0.9153     \n",
            "Epoch 164/200\n",
            "2327/2327 [==============================] - 1s - loss: 0.3322 - acc: 0.9175     \n",
            "Epoch 165/200\n",
            "2327/2327 [==============================] - 1s - loss: 0.3305 - acc: 0.9205     \n",
            "Epoch 166/200\n",
            "2327/2327 [==============================] - 1s - loss: 0.3385 - acc: 0.9145     \n",
            "Epoch 167/200\n",
            "2327/2327 [==============================] - 1s - loss: 0.3276 - acc: 0.9166     - ETA: 0s - loss: 0.3357\n",
            "Epoch 168/200\n",
            "2327/2327 [==============================] - 1s - loss: 0.3391 - acc: 0.9132     \n",
            "Epoch 169/200\n",
            "2327/2327 [==============================] - 1s - loss: 0.3281 - acc: 0.9192     \n",
            "Epoch 170/200\n",
            "2327/2327 [==============================] - 1s - loss: 0.3013 - acc: 0.9205     \n",
            "Epoch 171/200\n"
          ],
          "name": "stdout"
        },
        {
          "output_type": "stream",
          "text": [
            "2327/2327 [==============================] - 1s - loss: 0.3261 - acc: 0.9188     \n",
            "Epoch 172/200\n",
            "2327/2327 [==============================] - 1s - loss: 0.3074 - acc: 0.9244     \n",
            "Epoch 173/200\n",
            "2327/2327 [==============================] - 1s - loss: 0.3181 - acc: 0.9257     \n",
            "Epoch 174/200\n",
            "2327/2327 [==============================] - 1s - loss: 0.2700 - acc: 0.9351     \n",
            "Epoch 175/200\n",
            "2327/2327 [==============================] - 1s - loss: 0.3027 - acc: 0.9257     \n",
            "Epoch 176/200\n",
            "2327/2327 [==============================] - 1s - loss: 0.2861 - acc: 0.9300     \n",
            "Epoch 177/200\n",
            "2327/2327 [==============================] - 1s - loss: 0.2964 - acc: 0.9205     \n",
            "Epoch 178/200\n",
            "2327/2327 [==============================] - 1s - loss: 0.2691 - acc: 0.9390     \n",
            "Epoch 179/200\n",
            "2327/2327 [==============================] - 1s - loss: 0.2953 - acc: 0.9218     \n",
            "Epoch 180/200\n",
            "2327/2327 [==============================] - 1s - loss: 0.2512 - acc: 0.9325     \n",
            "Epoch 181/200\n",
            "2327/2327 [==============================] - 1s - loss: 0.2693 - acc: 0.9312     \n",
            "Epoch 182/200\n",
            "2327/2327 [==============================] - 1s - loss: 0.2944 - acc: 0.9278     \n",
            "Epoch 183/200\n",
            "2327/2327 [==============================] - 1s - loss: 0.2461 - acc: 0.9377     \n",
            "Epoch 184/200\n",
            "2327/2327 [==============================] - 1s - loss: 0.2545 - acc: 0.9416     \n",
            "Epoch 185/200\n",
            "2327/2327 [==============================] - 1s - loss: 0.2546 - acc: 0.9351     \n",
            "Epoch 186/200\n",
            "2327/2327 [==============================] - 1s - loss: 0.2505 - acc: 0.9355     \n",
            "Epoch 187/200\n",
            "2327/2327 [==============================] - 1s - loss: 0.2391 - acc: 0.9360     \n",
            "Epoch 188/200\n",
            "2327/2327 [==============================] - 1s - loss: 0.2504 - acc: 0.9377     \n",
            "Epoch 189/200\n",
            "2327/2327 [==============================] - 1s - loss: 0.2388 - acc: 0.9368     \n",
            "Epoch 190/200\n",
            "2327/2327 [==============================] - 1s - loss: 0.2451 - acc: 0.9390     \n",
            "Epoch 191/200\n",
            "2327/2327 [==============================] - 1s - loss: 0.2297 - acc: 0.9450     \n",
            "Epoch 192/200\n",
            "2327/2327 [==============================] - 1s - loss: 0.2110 - acc: 0.9519     \n",
            "Epoch 193/200\n",
            "2327/2327 [==============================] - 1s - loss: 0.2254 - acc: 0.9407     \n",
            "Epoch 194/200\n",
            "2327/2327 [==============================] - 1s - loss: 0.2139 - acc: 0.9471     \n",
            "Epoch 195/200\n",
            "2327/2327 [==============================] - 1s - loss: 0.2241 - acc: 0.9489     \n",
            "Epoch 196/200\n",
            "2327/2327 [==============================] - 1s - loss: 0.2018 - acc: 0.9510     \n",
            "Epoch 197/200\n",
            "2327/2327 [==============================] - 1s - loss: 0.2101 - acc: 0.9489     \n",
            "Epoch 198/200\n",
            "2327/2327 [==============================] - 1s - loss: 0.2216 - acc: 0.9471     \n",
            "Epoch 199/200\n",
            "2327/2327 [==============================] - 1s - loss: 0.2253 - acc: 0.9428     \n",
            "Epoch 200/200\n",
            "2327/2327 [==============================] - 1s - loss: 0.1769 - acc: 0.9596     \n"
          ],
          "name": "stdout"
        },
        {
          "output_type": "execute_result",
          "data": {
            "text/plain": [
              "<keras.callbacks.History at 0x7fc4945a8400>"
            ]
          },
          "metadata": {
            "tags": []
          },
          "execution_count": 164
        }
      ]
    },
    {
      "metadata": {
        "id": "ypVrZrIwdL7z",
        "colab_type": "code",
        "colab": {}
      },
      "cell_type": "code",
      "source": [
        "import matplotlib.pyplot as plt"
      ],
      "execution_count": 0,
      "outputs": []
    },
    {
      "metadata": {
        "id": "bCEWqXX8dL73",
        "colab_type": "code",
        "colab": {},
        "outputId": "3ac99eab-00fc-470a-e34e-829ded239057"
      },
      "cell_type": "code",
      "source": [
        "\n",
        "# list all data in history\n",
        "print(history.history.keys())\n",
        "# summarize history for accuracy\n",
        "plt.plot(history.history['acc'])\n",
        "plt.title('model accuracy')\n",
        "plt.ylabel('accuracy')\n",
        "plt.xlabel('epoch')\n",
        "plt.legend(['train', 'test'], loc='upper left')\n",
        "plt.show()\n",
        "# summarize history for loss\n",
        "plt.plot(history.history['loss'])\n",
        "plt.title('model loss')\n",
        "plt.ylabel('loss')\n",
        "plt.xlabel('epoch')\n",
        "plt.legend(['train', 'test'], loc='upper left')\n",
        "\n",
        "\n",
        "# summarize history for loss\n",
        "plt.plot(history.history['loss'])\n",
        "plt.title('model loss')\n",
        "plt.ylabel('loss')\n",
        "plt.xlabel('epoch')\n",
        "plt.legend(['train', 'test'], loc='upper left')"
      ],
      "execution_count": 0,
      "outputs": [
        {
          "output_type": "stream",
          "text": [
            "dict_keys(['loss', 'acc'])\n"
          ],
          "name": "stdout"
        },
        {
          "output_type": "display_data",
          "data": {
            "image/png": "[encoded data removed]",
            "text/plain": [
              "<matplotlib.figure.Figure at 0x7fc465ae4438>"
            ]
          },
          "metadata": {
            "tags": [],
            "image/png": {
              "height": 277,
              "width": 387
            }
          }
        },
        {
          "output_type": "execute_result",
          "data": {
            "text/plain": [
              "<matplotlib.legend.Legend at 0x7fc465a55cc0>"
            ]
          },
          "metadata": {
            "tags": []
          },
          "execution_count": 166
        },
        {
          "output_type": "display_data",
          "data": {
            "image/png": "[encoded data removed]",
            "text/plain": [
              "<matplotlib.figure.Figure at 0x7fc4946c91d0>"
            ]
          },
          "metadata": {
            "tags": [],
            "image/png": {
              "height": 277,
              "width": 377
            }
          }
        }
      ]
    },
    {
      "metadata": {
        "id": "PVHzbwITdL78",
        "colab_type": "code",
        "colab": {},
        "outputId": "db403512-5bfd-4cca-d215-3b2fa844dce2"
      },
      "cell_type": "code",
      "source": [
        "gen_melody_indices = np.zeros((1, phrase_len, len(melody_set)))\n",
        "print(gen_melody_indices.shape)"
      ],
      "execution_count": 0,
      "outputs": [
        {
          "output_type": "stream",
          "text": [
            "(1, 20, 231)\n"
          ],
          "name": "stdout"
        }
      ]
    },
    {
      "metadata": {
        "id": "In3I6F3ydL8B",
        "colab_type": "code",
        "colab": {}
      },
      "cell_type": "code",
      "source": [
        "start_pos = np.random.randint(0, len(melody_corpus) - phrase_len)"
      ],
      "execution_count": 0,
      "outputs": []
    },
    {
      "metadata": {
        "id": "4J3wohbQdL8G",
        "colab_type": "code",
        "colab": {}
      },
      "cell_type": "code",
      "source": [
        "seed_phrase = melody_corpus[start_pos : start_pos + phrase_len]"
      ],
      "execution_count": 0,
      "outputs": []
    },
    {
      "metadata": {
        "id": "kBlkckMKdL8J",
        "colab_type": "code",
        "colab": {}
      },
      "cell_type": "code",
      "source": [
        "gen_melody = seed_phrase"
      ],
      "execution_count": 0,
      "outputs": []
    },
    {
      "metadata": {
        "id": "C55rEssZdL8O",
        "colab_type": "code",
        "colab": {}
      },
      "cell_type": "code",
      "source": [
        "seq_len = 20"
      ],
      "execution_count": 0,
      "outputs": []
    },
    {
      "metadata": {
        "id": "e-LZBPu-dL8U",
        "colab_type": "code",
        "colab": {},
        "outputId": "d53165d7-7fa1-49f9-b85d-57a4de624acf"
      },
      "cell_type": "code",
      "source": [
        "start = np.random.randint(0, len(phrases)-1)\n",
        "pattern = phrases[start]\n",
        "print('pattern original:')\n",
        "print(pattern)\n",
        "nova_sequencia = []\n",
        "for i in range(seq_len):\n",
        "    gen_melody_indices = np.zeros((1, phrase_len, len(melody_set)))\n",
        "    for j, note in enumerate(pattern):\n",
        "        gen_melody_indices[0, j, notes_indices[note]] = 1\n",
        "    x = gen_melody_indices\n",
        "    prediction = model.predict(x, verbose=0)[0]\n",
        "    index = np.argmax(prediction)\n",
        "    result = indices_notes[index]\n",
        "    print('result:',result)\n",
        "    nova_sequencia.append(result)\n",
        "    pattern.append(result)\n",
        "    pattern = pattern[1:len(pattern)]\n",
        "    print('pattern {}:'.format(i))\n",
        "    print(pattern)"
      ],
      "execution_count": 0,
      "outputs": [
        {
          "output_type": "stream",
          "text": [
            "pattern original:\n",
            "[(0, 1.5), (0, 4.0), (0, 0.5), (57, 0.5), (64, 0.5), (64, 0.5), (64, 0.5), (64, 0.5), (65, 0.5), (64, 0.5), (64, 0.5), (60, 1.0), (60, 1.0), (64, 1.0), (62, 0.5), (62, 0.5), (64, 0.5), (62, 0.5), (64, 0.5), (62, 1.5)]\n",
            "result: (64, 0.5)\n",
            "pattern 0:\n",
            "[(0, 4.0), (0, 0.5), (57, 0.5), (64, 0.5), (64, 0.5), (64, 0.5), (64, 0.5), (65, 0.5), (64, 0.5), (64, 0.5), (60, 1.0), (60, 1.0), (64, 1.0), (62, 0.5), (62, 0.5), (64, 0.5), (62, 0.5), (64, 0.5), (62, 1.5), (64, 0.5)]\n",
            "result: (62, 1.0)\n",
            "pattern 1:\n",
            "[(0, 0.5), (57, 0.5), (64, 0.5), (64, 0.5), (64, 0.5), (64, 0.5), (65, 0.5), (64, 0.5), (64, 0.5), (60, 1.0), (60, 1.0), (64, 1.0), (62, 0.5), (62, 0.5), (64, 0.5), (62, 0.5), (64, 0.5), (62, 1.5), (64, 0.5), (62, 1.0)]\n",
            "result: (64, 0.5)\n",
            "pattern 2:\n",
            "[(57, 0.5), (64, 0.5), (64, 0.5), (64, 0.5), (64, 0.5), (65, 0.5), (64, 0.5), (64, 0.5), (60, 1.0), (60, 1.0), (64, 1.0), (62, 0.5), (62, 0.5), (64, 0.5), (62, 0.5), (64, 0.5), (62, 1.5), (64, 0.5), (62, 1.0), (64, 0.5)]\n",
            "result: (62, 1.0)\n",
            "pattern 3:\n",
            "[(64, 0.5), (64, 0.5), (64, 0.5), (64, 0.5), (65, 0.5), (64, 0.5), (64, 0.5), (60, 1.0), (60, 1.0), (64, 1.0), (62, 0.5), (62, 0.5), (64, 0.5), (62, 0.5), (64, 0.5), (62, 1.5), (64, 0.5), (62, 1.0), (64, 0.5), (62, 1.0)]\n",
            "result: (60, 1.0)\n",
            "pattern 4:\n",
            "[(64, 0.5), (64, 0.5), (64, 0.5), (65, 0.5), (64, 0.5), (64, 0.5), (60, 1.0), (60, 1.0), (64, 1.0), (62, 0.5), (62, 0.5), (64, 0.5), (62, 0.5), (64, 0.5), (62, 1.5), (64, 0.5), (62, 1.0), (64, 0.5), (62, 1.0), (60, 1.0)]\n",
            "result: (76, 0.5)\n",
            "pattern 5:\n",
            "[(64, 0.5), (64, 0.5), (65, 0.5), (64, 0.5), (64, 0.5), (60, 1.0), (60, 1.0), (64, 1.0), (62, 0.5), (62, 0.5), (64, 0.5), (62, 0.5), (64, 0.5), (62, 1.5), (64, 0.5), (62, 1.0), (64, 0.5), (62, 1.0), (60, 1.0), (76, 0.5)]\n",
            "result: (76, 0.5)\n",
            "pattern 6:\n",
            "[(64, 0.5), (65, 0.5), (64, 0.5), (64, 0.5), (60, 1.0), (60, 1.0), (64, 1.0), (62, 0.5), (62, 0.5), (64, 0.5), (62, 0.5), (64, 0.5), (62, 1.5), (64, 0.5), (62, 1.0), (64, 0.5), (62, 1.0), (60, 1.0), (76, 0.5), (76, 0.5)]\n",
            "result: (76, 0.5)\n",
            "pattern 7:\n",
            "[(65, 0.5), (64, 0.5), (64, 0.5), (60, 1.0), (60, 1.0), (64, 1.0), (62, 0.5), (62, 0.5), (64, 0.5), (62, 0.5), (64, 0.5), (62, 1.5), (64, 0.5), (62, 1.0), (64, 0.5), (62, 1.0), (60, 1.0), (76, 0.5), (76, 0.5), (76, 0.5)]\n",
            "result: (76, 0.5)\n",
            "pattern 8:\n",
            "[(64, 0.5), (64, 0.5), (60, 1.0), (60, 1.0), (64, 1.0), (62, 0.5), (62, 0.5), (64, 0.5), (62, 0.5), (64, 0.5), (62, 1.5), (64, 0.5), (62, 1.0), (64, 0.5), (62, 1.0), (60, 1.0), (76, 0.5), (76, 0.5), (76, 0.5), (76, 0.5)]\n",
            "result: (69, 0.5)\n",
            "pattern 9:\n",
            "[(64, 0.5), (60, 1.0), (60, 1.0), (64, 1.0), (62, 0.5), (62, 0.5), (64, 0.5), (62, 0.5), (64, 0.5), (62, 1.5), (64, 0.5), (62, 1.0), (64, 0.5), (62, 1.0), (60, 1.0), (76, 0.5), (76, 0.5), (76, 0.5), (76, 0.5), (69, 0.5)]\n",
            "result: (69, 0.5)\n",
            "pattern 10:\n",
            "[(60, 1.0), (60, 1.0), (64, 1.0), (62, 0.5), (62, 0.5), (64, 0.5), (62, 0.5), (64, 0.5), (62, 1.5), (64, 0.5), (62, 1.0), (64, 0.5), (62, 1.0), (60, 1.0), (76, 0.5), (76, 0.5), (76, 0.5), (76, 0.5), (69, 0.5), (69, 0.5)]\n",
            "result: (69, 0.5)\n",
            "pattern 11:\n",
            "[(60, 1.0), (64, 1.0), (62, 0.5), (62, 0.5), (64, 0.5), (62, 0.5), (64, 0.5), (62, 1.5), (64, 0.5), (62, 1.0), (64, 0.5), (62, 1.0), (60, 1.0), (76, 0.5), (76, 0.5), (76, 0.5), (76, 0.5), (69, 0.5), (69, 0.5), (69, 0.5)]\n",
            "result: (76, 0.5)\n",
            "pattern 12:\n",
            "[(64, 1.0), (62, 0.5), (62, 0.5), (64, 0.5), (62, 0.5), (64, 0.5), (62, 1.5), (64, 0.5), (62, 1.0), (64, 0.5), (62, 1.0), (60, 1.0), (76, 0.5), (76, 0.5), (76, 0.5), (76, 0.5), (69, 0.5), (69, 0.5), (69, 0.5), (76, 0.5)]\n",
            "result: (76, 0.5)\n",
            "pattern 13:\n",
            "[(62, 0.5), (62, 0.5), (64, 0.5), (62, 0.5), (64, 0.5), (62, 1.5), (64, 0.5), (62, 1.0), (64, 0.5), (62, 1.0), (60, 1.0), (76, 0.5), (76, 0.5), (76, 0.5), (76, 0.5), (69, 0.5), (69, 0.5), (69, 0.5), (76, 0.5), (76, 0.5)]\n",
            "result: (76, 1.0)\n",
            "pattern 14:\n",
            "[(62, 0.5), (64, 0.5), (62, 0.5), (64, 0.5), (62, 1.5), (64, 0.5), (62, 1.0), (64, 0.5), (62, 1.0), (60, 1.0), (76, 0.5), (76, 0.5), (76, 0.5), (76, 0.5), (69, 0.5), (69, 0.5), (69, 0.5), (76, 0.5), (76, 0.5), (76, 1.0)]\n",
            "result: (76, 1.0)\n",
            "pattern 15:\n",
            "[(64, 0.5), (62, 0.5), (64, 0.5), (62, 1.5), (64, 0.5), (62, 1.0), (64, 0.5), (62, 1.0), (60, 1.0), (76, 0.5), (76, 0.5), (76, 0.5), (76, 0.5), (69, 0.5), (69, 0.5), (69, 0.5), (76, 0.5), (76, 0.5), (76, 1.0), (76, 1.0)]\n",
            "result: (74, 1.0)\n",
            "pattern 16:\n",
            "[(62, 0.5), (64, 0.5), (62, 1.5), (64, 0.5), (62, 1.0), (64, 0.5), (62, 1.0), (60, 1.0), (76, 0.5), (76, 0.5), (76, 0.5), (76, 0.5), (69, 0.5), (69, 0.5), (69, 0.5), (76, 0.5), (76, 0.5), (76, 1.0), (76, 1.0), (74, 1.0)]\n",
            "result: (76, 1.0)\n",
            "pattern 17:\n",
            "[(64, 0.5), (62, 1.5), (64, 0.5), (62, 1.0), (64, 0.5), (62, 1.0), (60, 1.0), (76, 0.5), (76, 0.5), (76, 0.5), (76, 0.5), (69, 0.5), (69, 0.5), (69, 0.5), (76, 0.5), (76, 0.5), (76, 1.0), (76, 1.0), (74, 1.0), (76, 1.0)]\n",
            "result: (74, 1.0)\n",
            "pattern 18:\n",
            "[(62, 1.5), (64, 0.5), (62, 1.0), (64, 0.5), (62, 1.0), (60, 1.0), (76, 0.5), (76, 0.5), (76, 0.5), (76, 0.5), (69, 0.5), (69, 0.5), (69, 0.5), (76, 0.5), (76, 0.5), (76, 1.0), (76, 1.0), (74, 1.0), (76, 1.0), (74, 1.0)]\n",
            "result: (76, 0.5)\n",
            "pattern 19:\n",
            "[(64, 0.5), (62, 1.0), (64, 0.5), (62, 1.0), (60, 1.0), (76, 0.5), (76, 0.5), (76, 0.5), (76, 0.5), (69, 0.5), (69, 0.5), (69, 0.5), (76, 0.5), (76, 0.5), (76, 1.0), (76, 1.0), (74, 1.0), (76, 1.0), (74, 1.0), (76, 0.5)]\n"
          ],
          "name": "stdout"
        }
      ]
    },
    {
      "metadata": {
        "id": "D377ZHvVdL8Y",
        "colab_type": "code",
        "colab": {},
        "outputId": "2e38d61c-a3d1-45e4-a1f1-06c303848bea"
      },
      "cell_type": "code",
      "source": [
        "nova_sequencia"
      ],
      "execution_count": 0,
      "outputs": [
        {
          "output_type": "execute_result",
          "data": {
            "text/plain": [
              "[(64, 0.5),\n",
              " (62, 1.0),\n",
              " (64, 0.5),\n",
              " (62, 1.0),\n",
              " (60, 1.0),\n",
              " (76, 0.5),\n",
              " (76, 0.5),\n",
              " (76, 0.5),\n",
              " (76, 0.5),\n",
              " (69, 0.5),\n",
              " (69, 0.5),\n",
              " (69, 0.5),\n",
              " (76, 0.5),\n",
              " (76, 0.5),\n",
              " (76, 1.0),\n",
              " (76, 1.0),\n",
              " (74, 1.0),\n",
              " (76, 1.0),\n",
              " (74, 1.0),\n",
              " (76, 0.5)]"
            ]
          },
          "metadata": {
            "tags": []
          },
          "execution_count": 189
        }
      ]
    },
    {
      "metadata": {
        "id": "JXHeb5_XdL8b",
        "colab_type": "code",
        "colab": {},
        "outputId": "0124fd8d-17f3-4c40-d9bc-915e89ab5eb4"
      },
      "cell_type": "code",
      "source": [
        "from music21 import *\n",
        "sc = stream.Score()\n",
        "for t in nova_sequencia:\n",
        "    if t[1] == 0.0:\n",
        "        r = note.Rest(quarterLength = 0.25)\n",
        "        sc.append(r)\n",
        "    else:\n",
        "        n = note.Note(midi=t[0], quarterLength=t[1])\n",
        "        sc.append(n)\n",
        "sc.show()"
      ],
      "execution_count": 0,
      "outputs": [
        {
          "output_type": "display_data",
          "data": {
            "image/png": "[encoded data removed]",
            "text/plain": [
              "<IPython.core.display.Image object>"
            ]
          },
          "metadata": {
            "tags": [],
            "image/png": {
              "height": 49,
              "width": 748
            }
          }
        }
      ]
    },
    {
      "metadata": {
        "id": "JyTprYSydL8e",
        "colab_type": "code",
        "colab": {}
      },
      "cell_type": "code",
      "source": [
        "filename = \"gerada_\" + datetime.now().strftime(\"%Y%m%d-%H%M%S\"+\".mid\")"
      ],
      "execution_count": 0,
      "outputs": []
    },
    {
      "metadata": {
        "id": "99MwQ79ndL8i",
        "colab_type": "code",
        "colab": {}
      },
      "cell_type": "code",
      "source": [
        "from music21 import *\n",
        "mf = midi.translate.streamToMidiFile(sc)\n",
        "mf.open(filename, 'wb')\n",
        "mf.write()\n",
        "mf.close()"
      ],
      "execution_count": 0,
      "outputs": []
    },
    {
      "metadata": {
        "id": "lNZYNYppdL8l",
        "colab_type": "code",
        "colab": {},
        "outputId": "bfedef64-15c7-4192-88b2-56998bffec4c"
      },
      "cell_type": "code",
      "source": [
        "!ls gerada_20180627-011258.mid"
      ],
      "execution_count": 0,
      "outputs": [
        {
          "output_type": "stream",
          "text": [
            "gerada_20180627-011258.mid\r\n"
          ],
          "name": "stdout"
        }
      ]
    },
    {
      "metadata": {
        "id": "UrOQU7FSdL8q",
        "colab_type": "code",
        "colab": {},
        "outputId": "a465445f-c253-4514-cbd5-aaef6faddd92"
      },
      "cell_type": "code",
      "source": [
        "!pwd"
      ],
      "execution_count": 0,
      "outputs": [
        {
          "output_type": "stream",
          "text": [
            "/home/eurismar/notebooks/JohaNN\r\n"
          ],
          "name": "stdout"
        }
      ]
    },
    {
      "metadata": {
        "id": "4ZCLqDXfdL8v",
        "colab_type": "code",
        "colab": {}
      },
      "cell_type": "code",
      "source": [
        ""
      ],
      "execution_count": 0,
      "outputs": []
    }
  ]
}