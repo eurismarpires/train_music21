{
  "nbformat": 4,
  "nbformat_minor": 0,
  "metadata": {
    "colab": {
      "name": "Gan_teste.ipynb",
      "version": "0.3.2",
      "provenance": [],
      "collapsed_sections": [],
      "include_colab_link": true
    },
    "kernelspec": {
      "name": "python3",
      "display_name": "Python 3"
    },
    "accelerator": "GPU"
  },
  "cells": [
    {
      "cell_type": "markdown",
      "metadata": {
        "id": "view-in-github",
        "colab_type": "text"
      },
      "source": [
        "[View in Colaboratory](https://colab.research.google.com/github/eurismarpires/train_music21/blob/master/Gan_teste.ipynb)"
      ]
    },
    {
      "metadata": {
        "id": "XeFYUcOo2xML",
        "colab_type": "text"
      },
      "cell_type": "markdown",
      "source": [
        "# **Preparação do Ambiente**"
      ]
    },
    {
      "metadata": {
        "id": "pIhCfuloOST3",
        "colab_type": "text"
      },
      "cell_type": "markdown",
      "source": [
        "http://www.rricard.me/machine/learning/generative/adversarial/networks/keras/tensorflow/2017/04/05/gans-part2.html"
      ]
    },
    {
      "metadata": {
        "id": "Kh_XGB8pOmRF",
        "colab_type": "code",
        "colab": {
          "base_uri": "https://localhost:8080/",
          "height": 34
        },
        "outputId": "5ae10a29-c07a-4c8a-ed48-3a30ea932ecd"
      },
      "cell_type": "code",
      "source": [
        "!ls"
      ],
      "execution_count": 1,
      "outputs": [
        {
          "output_type": "stream",
          "text": [
            "datalab\r\n"
          ],
          "name": "stdout"
        }
      ]
    },
    {
      "metadata": {
        "id": "ZiG04xln1NE1",
        "colab_type": "code",
        "colab": {
          "base_uri": "https://localhost:8080/",
          "height": 377
        },
        "outputId": "da8a1cb7-c26d-4309-e3b6-4db1195da812"
      },
      "cell_type": "code",
      "source": [
        "!wget https://www.dropbox.com/s/jbo9n4vz8u7m9nf/Pop_Music_Midi.zip?dl=1"
      ],
      "execution_count": 2,
      "outputs": [
        {
          "output_type": "stream",
          "text": [
            "--2018-07-07 14:14:30--  https://www.dropbox.com/s/jbo9n4vz8u7m9nf/Pop_Music_Midi.zip?dl=1\n",
            "Resolving www.dropbox.com (www.dropbox.com)... 162.125.7.1, 2620:100:601f:1::a27d:901\n",
            "Connecting to www.dropbox.com (www.dropbox.com)|162.125.7.1|:443... connected.\n",
            "HTTP request sent, awaiting response... 301 Moved Permanently\n",
            "Location: /s/dl/jbo9n4vz8u7m9nf/Pop_Music_Midi.zip [following]\n",
            "--2018-07-07 14:14:30--  https://www.dropbox.com/s/dl/jbo9n4vz8u7m9nf/Pop_Music_Midi.zip\n",
            "Reusing existing connection to www.dropbox.com:443.\n",
            "HTTP request sent, awaiting response... 302 Found\n",
            "Location: https://uc03c041a42062e6504119390c90.dl.dropboxusercontent.com/cd/0/get/AKwCgNaa766jV3BXObIYR0QqyK1YB3c4a4nH9ACVMDLfrw12yrbnai47OvOtS3dBPSQCuO_EoyYLjX1AYB-T422gr0Vji00TLbNB9FeZlK1hYAnmA3gUUbSOo1GlgSBu7WyFSIoj4iPPGXnLqLsaTKv0aLPchMVxzU_A-yS9plozpBB8PqFxWPGUnZCMixTw-Lw/file?dl=1 [following]\n",
            "--2018-07-07 14:14:31--  https://uc03c041a42062e6504119390c90.dl.dropboxusercontent.com/cd/0/get/AKwCgNaa766jV3BXObIYR0QqyK1YB3c4a4nH9ACVMDLfrw12yrbnai47OvOtS3dBPSQCuO_EoyYLjX1AYB-T422gr0Vji00TLbNB9FeZlK1hYAnmA3gUUbSOo1GlgSBu7WyFSIoj4iPPGXnLqLsaTKv0aLPchMVxzU_A-yS9plozpBB8PqFxWPGUnZCMixTw-Lw/file?dl=1\n",
            "Resolving uc03c041a42062e6504119390c90.dl.dropboxusercontent.com (uc03c041a42062e6504119390c90.dl.dropboxusercontent.com)... 162.125.66.6, 2620:100:601f:6::a27d:906\n",
            "Connecting to uc03c041a42062e6504119390c90.dl.dropboxusercontent.com (uc03c041a42062e6504119390c90.dl.dropboxusercontent.com)|162.125.66.6|:443... connected.\n",
            "HTTP request sent, awaiting response... 200 OK\n",
            "Length: 72089 (70K) [application/zip]\n",
            "Saving to: ‘Pop_Music_Midi.zip?dl=1’\n",
            "\n",
            "Pop_Music_Midi.zip? 100%[===================>]  70.40K   345KB/s    in 0.2s    \n",
            "\n",
            "2018-07-07 14:14:32 (345 KB/s) - ‘Pop_Music_Midi.zip?dl=1’ saved [72089/72089]\n",
            "\n"
          ],
          "name": "stdout"
        }
      ]
    },
    {
      "metadata": {
        "id": "OWedZjFW1TO6",
        "colab_type": "code",
        "colab": {
          "base_uri": "https://localhost:8080/",
          "height": 2193
        },
        "outputId": "587d62ba-8af5-488f-fc1f-88a4f97e5e0a"
      },
      "cell_type": "code",
      "source": [
        "!unzip Pop_Music_Midi.zip?dl=1"
      ],
      "execution_count": 3,
      "outputs": [
        {
          "output_type": "stream",
          "text": [
            "Archive:  Pop_Music_Midi.zip?dl=1\r\n",
            "   creating: Pop_Music_Midi/\r\n",
            "  inflating: Pop_Music_Midi/All The Small Things - Chorus.midi  \r\n",
            "  inflating: Pop_Music_Midi/All The Small Things - Verse.midi  \r\n",
            "  inflating: Pop_Music_Midi/Around The World - Chorus.midi  \r\n",
            "  inflating: Pop_Music_Midi/Around The World - Verse.midi  \r\n",
            "  inflating: Pop_Music_Midi/Baby I'm Yours - Chorus.midi  \r\n",
            "  inflating: Pop_Music_Midi/Baby One More Time - Chorus.midi  \r\n",
            "  inflating: Pop_Music_Midi/Baby One More Time - Verse.midi  \r\n",
            "  inflating: Pop_Music_Midi/Barbie Girl - Chorus.midi  \r\n",
            "  inflating: Pop_Music_Midi/Barbie Girl - Verse.midi  \r\n",
            "  inflating: Pop_Music_Midi/Beautiful Life - Chorus.midi  \r\n",
            "  inflating: Pop_Music_Midi/Beautiful Life - Pre Chorus.midi  \r\n",
            "  inflating: Pop_Music_Midi/Beautiful Life - Verse.midi  \r\n",
            "  inflating: Pop_Music_Midi/Best Day Of My Life - Chorus.midi  \r\n",
            "  inflating: Pop_Music_Midi/Blank Space - Chorus.midi  \r\n",
            "  inflating: Pop_Music_Midi/Blank Space - Pre Chorus.midi  \r\n",
            "  inflating: Pop_Music_Midi/Blank Space - Verse.midi  \r\n",
            "  inflating: Pop_Music_Midi/California Gurls - Chorus.midi  \r\n",
            "  inflating: Pop_Music_Midi/California Gurls - Pre Chorus.midi  \r\n",
            "  inflating: Pop_Music_Midi/California Gurls - Verse.midi  \r\n",
            "  inflating: Pop_Music_Midi/Call Me Maybe - Chorus.midi  \r\n",
            "  inflating: Pop_Music_Midi/Can You Feel the Love Tonight - Chorus.midi  \r\n",
            "  inflating: Pop_Music_Midi/Can You Feel the Love Tonight - Verse.midi  \r\n",
            "  inflating: Pop_Music_Midi/Chasing Pavements - Chorus.midi  \r\n",
            "  inflating: Pop_Music_Midi/Clocks - Intro.midi  \r\n",
            "  inflating: Pop_Music_Midi/Clocks - Verse.midi  \r\n",
            "  inflating: Pop_Music_Midi/Dancing Queen - Chorus.midi  \r\n",
            "  inflating: Pop_Music_Midi/Dancing Queen - Verse.midi  \r\n",
            "  inflating: Pop_Music_Midi/Dark Horse - Chorus.midi  \r\n",
            "  inflating: Pop_Music_Midi/Dark Horse - Verse.midi  \r\n",
            "  inflating: Pop_Music_Midi/Die Young - Chorus.midi  \r\n",
            "  inflating: Pop_Music_Midi/Die Young - Verse.midi  \r\n",
            "  inflating: Pop_Music_Midi/Don't Trust Me - Chorus.midi  \r\n",
            "  inflating: Pop_Music_Midi/Every Time We Touch - Chorus.midi  \r\n",
            "  inflating: Pop_Music_Midi/Every Time We Touch - Verse.midi  \r\n",
            "  inflating: Pop_Music_Midi/Everybody - Chorus.midi  \r\n",
            "  inflating: Pop_Music_Midi/Ex's And Oh's - Chorus.midi  \r\n",
            "  inflating: Pop_Music_Midi/Feel So Close - Chorus.midi  \r\n",
            "  inflating: Pop_Music_Midi/Feel So Close - Verse.midi  \r\n",
            "  inflating: Pop_Music_Midi/Fix You - Chorus.midi  \r\n",
            "  inflating: Pop_Music_Midi/Fix You - Verse.midi  \r\n",
            "  inflating: Pop_Music_Midi/Genie In A Bottle - Chorus.midi  \r\n",
            "  inflating: Pop_Music_Midi/Genie in a Bottle - Verse.midi  \r\n",
            "  inflating: Pop_Music_Midi/Girl On Fire - Bridge.midi  \r\n",
            "  inflating: Pop_Music_Midi/Girl On Fire - Chorus.midi  \r\n",
            "  inflating: Pop_Music_Midi/Girl On Fire - Pre Chorus.midi  \r\n",
            "  inflating: Pop_Music_Midi/Girl On Fire - Verse.midi  \r\n",
            "  inflating: Pop_Music_Midi/Hot N Cold - Bridge.midi  \r\n",
            "  inflating: Pop_Music_Midi/Hot N Cold - Chorus.midi  \r\n",
            "  inflating: Pop_Music_Midi/Hot N Cold - Verse.midi  \r\n",
            "  inflating: Pop_Music_Midi/How Deep Is Your Love - Chorus.midi  \r\n",
            "  inflating: Pop_Music_Midi/I Gotta Feeling - Chorus.midi  \r\n",
            "  inflating: Pop_Music_Midi/I Kissed A Girl - Bridge.midi  \r\n",
            "  inflating: Pop_Music_Midi/I Kissed A Girl - Chorus.midi  \r\n",
            "  inflating: Pop_Music_Midi/I Kissed A Girl - Verse.midi  \r\n",
            "  inflating: Pop_Music_Midi/I Miss You - Chorus.midi  \r\n",
            "  inflating: Pop_Music_Midi/I Miss You - Verse.midi  \r\n",
            "  inflating: Pop_Music_Midi/I Need Your Love - Chorus.midi  \r\n",
            "  inflating: Pop_Music_Midi/I Need Your Love - Verse.midi  \r\n",
            "  inflating: Pop_Music_Midi/I Want It That Way - Chorus.midi  \r\n",
            "  inflating: Pop_Music_Midi/Irreplaceable - Chorus.midi  \r\n",
            "  inflating: Pop_Music_Midi/Let's Dance - Chorus.midi  \r\n",
            "  inflating: Pop_Music_Midi/Let's Go - Verse.midi  \r\n",
            "  inflating: Pop_Music_Midi/Locked Out Of Heaven - Chorus.midi  \r\n",
            "  inflating: Pop_Music_Midi/Locked Out Of Heaven - Pre Chorus.midi  \r\n",
            "  inflating: Pop_Music_Midi/Locked Out Of Heaven - Verse.midi  \r\n",
            "  inflating: Pop_Music_Midi/Love Me Harder ft The Weeknd - Chorus.midi  \r\n",
            "  inflating: Pop_Music_Midi/Love Me Harder ft The Weeknd - Pre Chorus.midi  \r\n",
            "  inflating: Pop_Music_Midi/Love Me Harder ft The Weeknd - Verse.midi  \r\n",
            "  inflating: Pop_Music_Midi/Love Story - Chorus.midi  \r\n",
            "  inflating: Pop_Music_Midi/Love Story - Verse.midi  \r\n",
            "  inflating: Pop_Music_Midi/Mr Saxobeat - Verse.midi  \r\n",
            "  inflating: Pop_Music_Midi/Outside feat Ellie Goulding - Chorus.midi  \r\n",
            "  inflating: Pop_Music_Midi/Piano man - Bridge.midi  \r\n",
            "  inflating: Pop_Music_Midi/Piano Man - Chorus.midi  \r\n",
            "  inflating: Pop_Music_Midi/Piano Man - Verse.midi  \r\n",
            "  inflating: Pop_Music_Midi/Pompeii - Bridge.midi  \r\n",
            "  inflating: Pop_Music_Midi/Pompeii - Chorus.midi  \r\n",
            "  inflating: Pop_Music_Midi/Pompeii - Intro.midi  \r\n",
            "  inflating: Pop_Music_Midi/Pompeii - Verse.midi  \r\n",
            "  inflating: Pop_Music_Midi/Put Your Records On - Chorus.midi  \r\n",
            "  inflating: Pop_Music_Midi/Put Your Records On - Verse.midi  \r\n",
            "  inflating: Pop_Music_Midi/Roar - Chorus.midi  \r\n",
            "  inflating: Pop_Music_Midi/Roar - Pre Chorus.midi  \r\n",
            "  inflating: Pop_Music_Midi/Roar - Verse.midi  \r\n",
            "  inflating: Pop_Music_Midi/Rock That Body - Chorus.midi  \r\n",
            "  inflating: Pop_Music_Midi/Rolling In The Deep - Chorus.midi  \r\n",
            "  inflating: Pop_Music_Midi/Rolling In The Deep - Pre Chorus.midi  \r\n",
            "  inflating: Pop_Music_Midi/Say My Name - Chorus.midi  \r\n",
            "  inflating: Pop_Music_Midi/Say My Name - Pre Chorus.midi  \r\n",
            "  inflating: Pop_Music_Midi/Say My Name - Verse.midi  \r\n",
            "  inflating: Pop_Music_Midi/Shake It Off - Chorus.midi  \r\n",
            "  inflating: Pop_Music_Midi/Shake It Off - Pre Chorus.midi  \r\n",
            "  inflating: Pop_Music_Midi/Shake It Off - Verse.midi  \r\n",
            "  inflating: Pop_Music_Midi/Sk8er Boi - Verse.midi  \r\n",
            "  inflating: Pop_Music_Midi/Someone Like You - Chorus.midi  \r\n",
            "  inflating: Pop_Music_Midi/Someone Like You - Verse.midi  \r\n",
            "  inflating: Pop_Music_Midi/Summer - Chorus.midi  \r\n",
            "  inflating: Pop_Music_Midi/Sweet Nothing - Chorus.midi  \r\n",
            "  inflating: Pop_Music_Midi/Sweet Nothing - Verse.midi  \r\n",
            "  inflating: Pop_Music_Midi/The Great Escape - Verse.midi  \r\n",
            "  inflating: Pop_Music_Midi/The Scientist - Intro.midi  \r\n",
            "  inflating: Pop_Music_Midi/The Scientist - Verse.midi  \r\n",
            "  inflating: Pop_Music_Midi/Thinking Out Loud - Chorus.midi  \r\n",
            "  inflating: Pop_Music_Midi/Timber - Chorus.midi  \r\n",
            "  inflating: Pop_Music_Midi/Timber - Verse.midi  \r\n",
            "  inflating: Pop_Music_Midi/Tiny Dancer - Chorus.midi  \r\n",
            "  inflating: Pop_Music_Midi/Tiny Dancer - Pre Chorus.midi  \r\n",
            "  inflating: Pop_Music_Midi/Tiny Dancer - Verse.midi  \r\n",
            "  inflating: Pop_Music_Midi/Titanium feat Sia - Chorus.midi  \r\n",
            "  inflating: Pop_Music_Midi/Titanium feat Sia - Verse.midi  \r\n",
            "  inflating: Pop_Music_Midi/Toxic - Chorus.midi  \r\n",
            "  inflating: Pop_Music_Midi/Toxic - Verse.midi  \r\n",
            "  inflating: Pop_Music_Midi/Treasure - Chorus.midi  \r\n",
            "  inflating: Pop_Music_Midi/Treasure - Verse.midi  \r\n",
            "  inflating: Pop_Music_Midi/Viva La Vida - Verse.midi  \r\n",
            "  inflating: Pop_Music_Midi/What A Girl Wants - Chorus.midi  \r\n",
            "  inflating: Pop_Music_Midi/When I Was Your Man - Chorus.midi  \r\n",
            "  inflating: Pop_Music_Midi/When I Was Your Man - Pre Chorus.midi  \r\n",
            "  inflating: Pop_Music_Midi/When I Was Your Man - Verse.midi  \r\n",
            "  inflating: Pop_Music_Midi/When Love Takes Over ft Kelly Rowland - Chorus.midi  \r\n",
            "  inflating: Pop_Music_Midi/White Flag - Chorus.midi  \r\n",
            "  inflating: Pop_Music_Midi/White Flag - Verse.midi  \r\n",
            "  inflating: Pop_Music_Midi/You Belong With Me - Chorus.midi  \r\n",
            "  inflating: Pop_Music_Midi/You Belong With Me - Pre Chorus.midi  \r\n",
            "  inflating: Pop_Music_Midi/You Belong With Me - Verse.midi  \r\n",
            "  inflating: Pop_Music_Midi/You Drive Me Crazy - Chorus.midi  \r\n"
          ],
          "name": "stdout"
        }
      ]
    },
    {
      "metadata": {
        "id": "PAvqzzsg1inx",
        "colab_type": "code",
        "colab": {}
      },
      "cell_type": "code",
      "source": [
        "!rm Pop_Music_Midi.zip?dl=1"
      ],
      "execution_count": 0,
      "outputs": []
    },
    {
      "metadata": {
        "id": "bKryi_gj1uX5",
        "colab_type": "code",
        "colab": {
          "base_uri": "https://localhost:8080/",
          "height": 34
        },
        "outputId": "9e46a1ee-60e6-420b-faf7-294b5b8b650b"
      },
      "cell_type": "code",
      "source": [
        "!ls"
      ],
      "execution_count": 5,
      "outputs": [
        {
          "output_type": "stream",
          "text": [
            "datalab  Pop_Music_Midi\r\n"
          ],
          "name": "stdout"
        }
      ]
    },
    {
      "metadata": {
        "id": "bfxaTqVh2US-",
        "colab_type": "code",
        "colab": {
          "base_uri": "https://localhost:8080/",
          "height": 122
        },
        "outputId": "3a565971-1338-4f44-b901-9ce1a939cb7d"
      },
      "cell_type": "code",
      "source": [
        "!pip install tqdm"
      ],
      "execution_count": 6,
      "outputs": [
        {
          "output_type": "stream",
          "text": [
            "Collecting tqdm\n",
            "\u001b[?25l  Downloading https://files.pythonhosted.org/packages/93/24/6ab1df969db228aed36a648a8959d1027099ce45fad67532b9673d533318/tqdm-4.23.4-py2.py3-none-any.whl (42kB)\n",
            "\u001b[K    100% |████████████████████████████████| 51kB 2.1MB/s \n",
            "\u001b[?25hInstalling collected packages: tqdm\n",
            "Successfully installed tqdm-4.23.4\n"
          ],
          "name": "stdout"
        }
      ]
    },
    {
      "metadata": {
        "id": "mtH4SdO92cgb",
        "colab_type": "code",
        "colab": {
          "base_uri": "https://localhost:8080/",
          "height": 190
        },
        "outputId": "32314e9c-8477-425e-f27d-9801f186b047"
      },
      "cell_type": "code",
      "source": [
        "!pip install music21"
      ],
      "execution_count": 7,
      "outputs": [
        {
          "output_type": "stream",
          "text": [
            "Collecting music21\n",
            "\u001b[?25l  Downloading https://files.pythonhosted.org/packages/79/76/af2d35fa133df7941fccebad7e7c609f8ea50fb63078b9e3d0b1522d0f84/music21-5.1.0.tar.gz (17.9MB)\n",
            "\u001b[K    100% |████████████████████████████████| 17.9MB 2.3MB/s \n",
            "\u001b[?25hBuilding wheels for collected packages: music21\n",
            "  Running setup.py bdist_wheel for music21 ... \u001b[?25l-\b \b\\\b \b|\b \b/\b \b-\b \b\\\b \b|\b \b/\b \b-\b \b\\\b \b|\b \b/\b \b-\b \b\\\b \b|\b \b/\b \b-\b \b\\\b \b|\b \b/\b \b-\b \b\\\b \b|\b \b/\b \b-\b \b\\\b \b|\b \b/\b \b-\b \b\\\b \b|\b \b/\b \b-\b \b\\\b \b|\b \b/\b \b-\b \b\\\b \b|\b \b/\b \b-\b \b\\\b \b|\b \b/\b \b-\b \b\\\b \b|\b \b/\b \b-\b \b\\\b \b|\b \b/\b \b-\b \b\\\b \b|\b \b/\b \b-\b \b\\\b \b|\b \b/\b \b-\b \b\\\b \b|\b \b/\b \b-\b \b\\\b \b|\b \b/\b \b-\b \b\\\b \b|\b \b/\b \b-\b \b\\\b \b|\b \b/\b \bdone\n",
            "\u001b[?25h  Stored in directory: /content/.cache/pip/wheels/66/0d/71/ed677f5bec1eca6f924423a317eeb7e4df4859353861d58d44\n",
            "Successfully built music21\n",
            "Installing collected packages: music21\n",
            "Successfully installed music21-5.1.0\n"
          ],
          "name": "stdout"
        }
      ]
    },
    {
      "metadata": {
        "id": "aG9cmLLk27MR",
        "colab_type": "text"
      },
      "cell_type": "markdown",
      "source": [
        "# **Aqui começa o código de fato**"
      ]
    },
    {
      "metadata": {
        "id": "3WyLa-gb23vq",
        "colab_type": "code",
        "colab": {}
      },
      "cell_type": "code",
      "source": [
        ""
      ],
      "execution_count": 0,
      "outputs": []
    },
    {
      "metadata": {
        "id": "_L521w9n2F-6",
        "colab_type": "code",
        "colab": {
          "base_uri": "https://localhost:8080/",
          "height": 34
        },
        "outputId": "3403c92e-0967-4590-8617-af48ccf3588d"
      },
      "cell_type": "code",
      "source": [
        "%matplotlib inline\n",
        "import os\n",
        "import random\n",
        "import numpy as np\n",
        "import pandas as pd\n",
        "import matplotlib.pyplot as plt\n",
        "import seaborn as sns\n",
        "from tqdm import tqdm_notebook as tqdm\n",
        "from keras.models import Model\n",
        "from keras.layers import Input, Reshape, TimeDistributed\n",
        "from keras.layers.core import Dense, Activation, Dropout, Flatten\n",
        "from keras.layers.normalization import BatchNormalization\n",
        "from keras.layers.convolutional import UpSampling1D, Conv1D\n",
        "from keras.layers.advanced_activations import LeakyReLU\n",
        "from keras.optimizers import Adam, SGD\n",
        "from keras.callbacks import TensorBoard\n",
        "from music21 import *\n",
        "import glob\n",
        "import numpy as np\n",
        "from keras.models import Sequential, load_model\n",
        "from keras.layers.core import Dense, Activation, Dropout\n",
        "from keras.layers.recurrent import LSTM\n",
        "from keras.callbacks import History, ModelCheckpoint\n",
        "from keras.optimizers import RMSprop\n",
        "from datetime import datetime"
      ],
      "execution_count": 8,
      "outputs": [
        {
          "output_type": "stream",
          "text": [
            "Using TensorFlow backend.\n"
          ],
          "name": "stderr"
        }
      ]
    },
    {
      "metadata": {
        "id": "mE_vrkeE10d5",
        "colab_type": "code",
        "colab": {}
      },
      "cell_type": "code",
      "source": [
        "path = 'Pop_Music_Midi/'"
      ],
      "execution_count": 0,
      "outputs": []
    },
    {
      "metadata": {
        "id": "Xv5eHuRp2CDo",
        "colab_type": "code",
        "colab": {}
      },
      "cell_type": "code",
      "source": [
        "files = glob.glob('{}/*.mid*'.format(path))"
      ],
      "execution_count": 0,
      "outputs": []
    },
    {
      "metadata": {
        "id": "nQkU4ARW2Dqm",
        "colab_type": "code",
        "colab": {}
      },
      "cell_type": "code",
      "source": [
        "KEY_SIG_OFFSET = 0 \n",
        "melody_corpus = []\n",
        "for i, file in enumerate(files[:2]):\n",
        "#for file in files:\n",
        "    midi_stream = converter.parse(file)\n",
        "    \n",
        "    part0 = midi_stream[0]\n",
        "    key_sig = part0.keySignature\n",
        "    midi_stream.transpose(KEY_SIG_OFFSET - key_sig.tonic.pitchClass, inPlace=True)\n",
        "    for m in part0.measures(1, None):\n",
        "        if hasattr(m, 'flat'):\n",
        "            for nr in m.flat.notesAndRests:\n",
        "                pitch = nr.pitch.midi  if isinstance(nr, note.Note) else 0\n",
        "                duration = float(nr.quarterLength)\n",
        "                note_repr = (pitch, duration)\n",
        "                melody_corpus.append(note_repr)"
      ],
      "execution_count": 0,
      "outputs": []
    },
    {
      "metadata": {
        "id": "Natrhi-W2slZ",
        "colab_type": "code",
        "colab": {}
      },
      "cell_type": "code",
      "source": [
        "melody_set = set(melody_corpus)"
      ],
      "execution_count": 0,
      "outputs": []
    },
    {
      "metadata": {
        "id": "3fV5OhBd2vFP",
        "colab_type": "code",
        "colab": {}
      },
      "cell_type": "code",
      "source": [
        "notes_indices = {note: i for i, note in enumerate(melody_set)}\n",
        "indices_notes = {i: note for i, note in enumerate(melody_set)}"
      ],
      "execution_count": 0,
      "outputs": []
    },
    {
      "metadata": {
        "id": "qG7BxsA-3GKQ",
        "colab_type": "code",
        "colab": {
          "base_uri": "https://localhost:8080/",
          "height": 34
        },
        "outputId": "ba756328-553a-4775-9a94-4e442b87144b"
      },
      "cell_type": "code",
      "source": [
        "corpus_size = len(melody_set)\n",
        "print(corpus_size)"
      ],
      "execution_count": 14,
      "outputs": [
        {
          "output_type": "stream",
          "text": [
            "18\n"
          ],
          "name": "stdout"
        }
      ]
    },
    {
      "metadata": {
        "id": "lIT3FU6f3HxY",
        "colab_type": "code",
        "colab": {}
      },
      "cell_type": "code",
      "source": [
        "phrase_len = 20\n",
        "step_size = 3"
      ],
      "execution_count": 0,
      "outputs": []
    },
    {
      "metadata": {
        "id": "jgIdmuQp3J0I",
        "colab_type": "code",
        "colab": {}
      },
      "cell_type": "code",
      "source": [
        "phrases = []\n",
        "next_notes = []"
      ],
      "execution_count": 0,
      "outputs": []
    },
    {
      "metadata": {
        "id": "SohX0l4U3LVB",
        "colab_type": "code",
        "colab": {
          "base_uri": "https://localhost:8080/",
          "height": 34
        },
        "outputId": "8a0cbf2a-0748-4234-a8b0-d50a2a055d47"
      },
      "cell_type": "code",
      "source": [
        "for i in range(0, len(melody_corpus) - phrase_len, step_size):\n",
        "    phrases.append(melody_corpus[i: i + phrase_len])\n",
        "    next_notes.append(melody_corpus[i + phrase_len])\n",
        "print('nb sequences:', len(phrases))"
      ],
      "execution_count": 17,
      "outputs": [
        {
          "output_type": "stream",
          "text": [
            "nb sequences: 25\n"
          ],
          "name": "stdout"
        }
      ]
    },
    {
      "metadata": {
        "id": "Fh6gH80M3My4",
        "colab_type": "code",
        "colab": {
          "base_uri": "https://localhost:8080/",
          "height": 51
        },
        "outputId": "543dece8-8803-4cef-d8cb-04a13245bf70"
      },
      "cell_type": "code",
      "source": [
        "# transform data into binary matrices\n",
        "X = np.zeros((len(phrases), phrase_len, corpus_size), dtype=np.bool)\n",
        "y = np.zeros((len(phrases), corpus_size), dtype=np.bool)\n",
        "print(X.shape)\n",
        "print(y.shape)"
      ],
      "execution_count": 18,
      "outputs": [
        {
          "output_type": "stream",
          "text": [
            "(25, 20, 18)\n",
            "(25, 18)\n"
          ],
          "name": "stdout"
        }
      ]
    },
    {
      "metadata": {
        "id": "JtLGU4rI3Pfw",
        "colab_type": "code",
        "colab": {}
      },
      "cell_type": "code",
      "source": [
        "for i, phrase in enumerate(phrases):\n",
        "    for j, note in enumerate(phrase):\n",
        "        X[i, j, notes_indices[note]] = 1\n",
        "    y[i, notes_indices[next_notes[i]]] = 1"
      ],
      "execution_count": 0,
      "outputs": []
    },
    {
      "metadata": {
        "id": "EmkY0Jep3RRI",
        "colab_type": "code",
        "colab": {}
      },
      "cell_type": "code",
      "source": [
        "layer_size=128\n",
        "batch_size = 128\n",
        "nb_epoch = 400"
      ],
      "execution_count": 0,
      "outputs": []
    },
    {
      "metadata": {
        "id": "-JB0cRgB3VIZ",
        "colab_type": "code",
        "colab": {
          "base_uri": "https://localhost:8080/",
          "height": 34
        },
        "outputId": "959d64d5-b15a-41c4-c001-4a4a87d39dda"
      },
      "cell_type": "code",
      "source": [
        "corpus_size"
      ],
      "execution_count": 21,
      "outputs": [
        {
          "output_type": "execute_result",
          "data": {
            "text/plain": [
              "18"
            ]
          },
          "metadata": {
            "tags": []
          },
          "execution_count": 21
        }
      ]
    },
    {
      "metadata": {
        "id": "VfeXuRHM3X6x",
        "colab_type": "code",
        "colab": {
          "base_uri": "https://localhost:8080/",
          "height": 34
        },
        "outputId": "fc234e24-a387-4303-c212-506c2a363045"
      },
      "cell_type": "code",
      "source": [
        "phrase_len"
      ],
      "execution_count": 22,
      "outputs": [
        {
          "output_type": "execute_result",
          "data": {
            "text/plain": [
              "20"
            ]
          },
          "metadata": {
            "tags": []
          },
          "execution_count": 22
        }
      ]
    },
    {
      "metadata": {
        "id": "R0TB1ll6AeJD",
        "colab_type": "code",
        "colab": {
          "base_uri": "https://localhost:8080/",
          "height": 374
        },
        "outputId": "d59c8bb3-04ea-42d3-8479-8ce69b6af2df"
      },
      "cell_type": "code",
      "source": [
        "def get_gen(G_in, phrase_len=phrase_len, corpus_size=corpus_size):\n",
        "    #G_in = Input(shape=(phrase_len, corpus_size))\n",
        "    layer = LSTM(layer_size, return_sequences=True)(G_in)\n",
        "    layer = Dropout(0.2)(layer)\n",
        "    layer = LSTM(layer_size, return_sequences=True)(layer)\n",
        "    layer = Dropout(0.2)(layer)\n",
        "    layer = TimeDistributed(Dense(corpus_size))(layer)\n",
        "    G_out = Activation('softmax')(layer)\n",
        "    LSTM_out = Activation('softmax')(layer)\n",
        "    G = Model(G_in, G_out)\n",
        "    G.compile(loss='categorical_crossentropy', optimizer=RMSprop(), metrics=['accuracy'])\n",
        "    return G, G_out\n",
        "G_in = Input(shape=(phrase_len, corpus_size))\n",
        "G, G_out = get_gen(G_in)\n",
        "G.summary()"
      ],
      "execution_count": 23,
      "outputs": [
        {
          "output_type": "stream",
          "text": [
            "_________________________________________________________________\n",
            "Layer (type)                 Output Shape              Param #   \n",
            "=================================================================\n",
            "input_1 (InputLayer)         (None, 20, 18)            0         \n",
            "_________________________________________________________________\n",
            "lstm_1 (LSTM)                (None, 20, 128)           75264     \n",
            "_________________________________________________________________\n",
            "dropout_1 (Dropout)          (None, 20, 128)           0         \n",
            "_________________________________________________________________\n",
            "lstm_2 (LSTM)                (None, 20, 128)           131584    \n",
            "_________________________________________________________________\n",
            "dropout_2 (Dropout)          (None, 20, 128)           0         \n",
            "_________________________________________________________________\n",
            "time_distributed_1 (TimeDist (None, 20, 18)            2322      \n",
            "_________________________________________________________________\n",
            "activation_1 (Activation)    (None, 20, 18)            0         \n",
            "=================================================================\n",
            "Total params: 209,170\n",
            "Trainable params: 209,170\n",
            "Non-trainable params: 0\n",
            "_________________________________________________________________\n"
          ],
          "name": "stdout"
        }
      ]
    },
    {
      "metadata": {
        "id": "oV1r6brnAfjz",
        "colab_type": "code",
        "colab": {}
      },
      "cell_type": "code",
      "source": [
        "def get_dis(D_in, phrase_len=phrase_len, corpus_size=corpus_size):\n",
        "    \n",
        "    #G_in = Input(shape=(phrase_len, corpus_size))\n",
        "    layer = LSTM(layer_size, return_sequences=True)(D_in)\n",
        "    layer = Dropout(0.2)(layer)\n",
        "    layer = LSTM(layer_size)(layer)\n",
        "    layer = Dropout(0.2)(layer)\n",
        "    layer = Dense(2)(layer)\n",
        "    D_out = Activation('sigmoid')(layer)\n",
        "    D = Model(D_in, D_out)\n",
        "    D.compile(loss='binary_crossentropy', optimizer=RMSprop(), metrics=['accuracy'])\n",
        "    return D, D_out"
      ],
      "execution_count": 0,
      "outputs": []
    },
    {
      "metadata": {
        "id": "g3rvjPEnFT5k",
        "colab_type": "code",
        "colab": {}
      },
      "cell_type": "code",
      "source": [
        "D_in = Input(shape=(phrase_len, corpus_size))"
      ],
      "execution_count": 0,
      "outputs": []
    },
    {
      "metadata": {
        "id": "y2GQJ_FTFVgU",
        "colab_type": "code",
        "colab": {
          "base_uri": "https://localhost:8080/",
          "height": 374
        },
        "outputId": "44b59919-ed5a-4da1-99e2-dcec858bc597"
      },
      "cell_type": "code",
      "source": [
        "D, D_out = get_dis(D_in)\n",
        "D.summary()"
      ],
      "execution_count": 26,
      "outputs": [
        {
          "output_type": "stream",
          "text": [
            "_________________________________________________________________\n",
            "Layer (type)                 Output Shape              Param #   \n",
            "=================================================================\n",
            "input_2 (InputLayer)         (None, 20, 18)            0         \n",
            "_________________________________________________________________\n",
            "lstm_3 (LSTM)                (None, 20, 128)           75264     \n",
            "_________________________________________________________________\n",
            "dropout_3 (Dropout)          (None, 20, 128)           0         \n",
            "_________________________________________________________________\n",
            "lstm_4 (LSTM)                (None, 128)               131584    \n",
            "_________________________________________________________________\n",
            "dropout_4 (Dropout)          (None, 128)               0         \n",
            "_________________________________________________________________\n",
            "dense_2 (Dense)              (None, 2)                 258       \n",
            "_________________________________________________________________\n",
            "activation_3 (Activation)    (None, 2)                 0         \n",
            "=================================================================\n",
            "Total params: 207,106\n",
            "Trainable params: 207,106\n",
            "Non-trainable params: 0\n",
            "_________________________________________________________________\n"
          ],
          "name": "stdout"
        }
      ]
    },
    {
      "metadata": {
        "id": "sPOFApbGFgZ7",
        "colab_type": "code",
        "colab": {}
      },
      "cell_type": "code",
      "source": [
        "def set_trainability(model, trainable=False):\n",
        "    model.trainable = trainable\n",
        "    for layer in model.layers:\n",
        "        layer.trainable = trainable"
      ],
      "execution_count": 0,
      "outputs": []
    },
    {
      "metadata": {
        "id": "rf2rWpnJFier",
        "colab_type": "code",
        "colab": {}
      },
      "cell_type": "code",
      "source": [
        "def make_gan(GAN_in, G, D):\n",
        "    set_trainability(D, False)\n",
        "    x = G(GAN_in) # ENTRADA DA GAN\n",
        "    GAN_out = D(x)\n",
        "    GAN = Model(GAN_in, GAN_out)\n",
        "    GAN.compile(loss='binary_crossentropy', optimizer=G.optimizer)\n",
        "    return GAN, GAN_out"
      ],
      "execution_count": 0,
      "outputs": []
    },
    {
      "metadata": {
        "id": "Qhw6M66KFm28",
        "colab_type": "code",
        "colab": {
          "base_uri": "https://localhost:8080/",
          "height": 238
        },
        "outputId": "3a3ac879-de93-49b5-d2ae-cdf5eefd72de"
      },
      "cell_type": "code",
      "source": [
        "GAN_in = Input(shape=(phrase_len, corpus_size))\n",
        "GAN, GAN_out = make_gan(GAN_in, G, D)\n",
        "GAN.summary()"
      ],
      "execution_count": 29,
      "outputs": [
        {
          "output_type": "stream",
          "text": [
            "_________________________________________________________________\n",
            "Layer (type)                 Output Shape              Param #   \n",
            "=================================================================\n",
            "input_3 (InputLayer)         (None, 20, 18)            0         \n",
            "_________________________________________________________________\n",
            "model_1 (Model)              (None, 20, 18)            209170    \n",
            "_________________________________________________________________\n",
            "model_2 (Model)              (None, 2)                 207106    \n",
            "=================================================================\n",
            "Total params: 416,276\n",
            "Trainable params: 209,170\n",
            "Non-trainable params: 207,106\n",
            "_________________________________________________________________\n"
          ],
          "name": "stdout"
        }
      ]
    },
    {
      "metadata": {
        "id": "ctA7KmpGPkNV",
        "colab_type": "code",
        "colab": {
          "base_uri": "https://localhost:8080/",
          "height": 34
        },
        "outputId": "4da3df01-f550-4a56-ce6a-04fdc028f643"
      },
      "cell_type": "code",
      "source": [
        "X.shape"
      ],
      "execution_count": 30,
      "outputs": [
        {
          "output_type": "execute_result",
          "data": {
            "text/plain": [
              "(25, 20, 18)"
            ]
          },
          "metadata": {
            "tags": []
          },
          "execution_count": 30
        }
      ]
    },
    {
      "metadata": {
        "id": "wbpe3gVIFqUt",
        "colab_type": "code",
        "colab": {}
      },
      "cell_type": "code",
      "source": [
        "n_samples = 10\n",
        "noise_dim = X.shape[2]"
      ],
      "execution_count": 0,
      "outputs": []
    },
    {
      "metadata": {
        "id": "YCW_iu5UFwRd",
        "colab_type": "code",
        "colab": {}
      },
      "cell_type": "code",
      "source": [
        "def sample_data_and_gen(G,n_samples=n_samples,noise_dim=noise_dim):\n",
        "    XT = X[:n_samples]\n",
        "    XN_noise = np.random.uniform(0, 1, size=[n_samples,phrase_len,noise_dim])\n",
        "    XN = G.predict(XN_noise)\n",
        "    print(XT.shape,XN.shape)\n",
        "    XX = np.concatenate((XT, XN))\n",
        "    yy = np.zeros((2*n_samples, 2))\n",
        "    yy[:n_samples, 1] = 1\n",
        "    yy[n_samples:, 0] = 1\n",
        "    return XX, yy"
      ],
      "execution_count": 0,
      "outputs": []
    },
    {
      "metadata": {
        "id": "E_-GX_SpFynG",
        "colab_type": "code",
        "colab": {}
      },
      "cell_type": "code",
      "source": [
        "def pretrain(G, D, noise_dim=10, n_samples=10000, batch_size=32):\n",
        "    X, y = sample_data_and_gen(G, n_samples=n_samples, noise_dim=noise_dim)\n",
        "    set_trainability(D, True)\n",
        "    D.fit(X, y, epochs=1, batch_size=batch_size)"
      ],
      "execution_count": 0,
      "outputs": []
    },
    {
      "metadata": {
        "id": "ElN43mSCF03s",
        "colab_type": "code",
        "colab": {
          "base_uri": "https://localhost:8080/",
          "height": 68
        },
        "outputId": "3d4f5992-707d-40db-c79c-b04d6c930732"
      },
      "cell_type": "code",
      "source": [
        "pretrain(G, D,noise_dim = noise_dim, n_samples=n_samples,batch_size=1)"
      ],
      "execution_count": 34,
      "outputs": [
        {
          "output_type": "stream",
          "text": [
            "(10, 20, 18) (10, 20, 18)\n",
            "Epoch 1/1\n",
            "20/20 [==============================] - 3s 148ms/step - loss: 0.5643 - acc: 0.7750\n"
          ],
          "name": "stdout"
        }
      ]
    },
    {
      "metadata": {
        "id": "X7cezHtWF25p",
        "colab_type": "code",
        "colab": {}
      },
      "cell_type": "code",
      "source": [
        "def sample_noise(G, noise_dim=10, n_samples=10000):\n",
        "    X = np.random.uniform(0, 1, size=[n_samples,phrase_len, noise_dim])\n",
        "    y = np.zeros((n_samples, 2))\n",
        "    y[:, 1] = 1\n",
        "    return X, y"
      ],
      "execution_count": 0,
      "outputs": []
    },
    {
      "metadata": {
        "id": "KeK0l2kIGXOU",
        "colab_type": "code",
        "colab": {}
      },
      "cell_type": "code",
      "source": [
        "d_loss = []\n",
        "g_loss = []"
      ],
      "execution_count": 0,
      "outputs": []
    },
    {
      "metadata": {
        "id": "YX7yY4rFGY_E",
        "colab_type": "code",
        "colab": {
          "base_uri": "https://localhost:8080/",
          "height": 85
        },
        "outputId": "d803af65-a5a3-4a29-a39a-bb30bc9107bf"
      },
      "cell_type": "code",
      "source": [
        "d_loss = []\n",
        "for epoch in range(2):\n",
        "    X, y = sample_data_and_gen(G, n_samples=10, noise_dim=noise_dim)\n",
        "    set_trainability(D, True)\n",
        "    d_loss.append(D.train_on_batch(X, y))\n",
        "    X, y = sample_noise(G, n_samples=n_samples, noise_dim=noise_dim)\n",
        "    set_trainability(D, False)\n",
        "    g_loss.append(GAN.train_on_batch(X, y))\n",
        "    print(\"Epoch #{}: Generative Loss: {}, Discriminative Loss: {}\".format(epoch + 1, g_loss[-1], d_loss[-1]))"
      ],
      "execution_count": 37,
      "outputs": [
        {
          "output_type": "stream",
          "text": [
            "(10, 20, 18) (10, 20, 18)\n",
            "Epoch #1: Generative Loss: 3.8601810932159424, Discriminative Loss: [0.08657917, 1.0]\n",
            "(10, 20, 18) (10, 20, 18)\n",
            "Epoch #2: Generative Loss: 2.866421937942505, Discriminative Loss: [2.1913166, 0.5]\n"
          ],
          "name": "stdout"
        }
      ]
    },
    {
      "metadata": {
        "id": "qr93IXbVGa6E",
        "colab_type": "code",
        "colab": {}
      },
      "cell_type": "code",
      "source": [
        ""
      ],
      "execution_count": 0,
      "outputs": []
    }
  ]
}