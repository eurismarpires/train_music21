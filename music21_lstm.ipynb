{
 "cells": [
  {
   "cell_type": "code",
   "execution_count": 418,
   "metadata": {},
   "outputs": [],
   "source": [
    "from music21 import *\n",
    "import pandas as pd\n",
    "import glob\n",
    "from sklearn.preprocessing import MultiLabelBinarizer\n",
    "from sklearn.preprocessing import StandardScaler\n",
    "import matplotlib.pyplot as plt\n",
    "import numpy as np\n",
    "from keras.models import Sequential\n",
    "from keras.layers import Dense\n",
    "from keras.layers import Dropout\n",
    "from keras.layers import LSTM\n",
    "from keras.optimizers import Adam"
   ]
  },
  {
   "cell_type": "code",
   "execution_count": 419,
   "metadata": {
    "collapsed": true
   },
   "outputs": [],
   "source": [
    "%matplotlib inline"
   ]
  },
  {
   "cell_type": "code",
   "execution_count": 420,
   "metadata": {},
   "outputs": [],
   "source": [
    "path = '/home/eurismar/notebooks/c-rnn-gan/datadir/classical/beethoven'"
   ]
  },
  {
   "cell_type": "code",
   "execution_count": 421,
   "metadata": {},
   "outputs": [],
   "source": [
    "files = glob.glob('{}/*.mid*'.format(path))"
   ]
  },
  {
   "cell_type": "code",
   "execution_count": 422,
   "metadata": {},
   "outputs": [
    {
     "data": {
      "text/plain": [
       "['/home/eurismar/notebooks/c-rnn-gan/datadir/classical/beethoven/212BeSon.mid',\n",
       " '/home/eurismar/notebooks/c-rnn-gan/datadir/classical/beethoven/beets3m3.mid',\n",
       " '/home/eurismar/notebooks/c-rnn-gan/datadir/classical/beethoven/1742bps26no23.mid',\n",
       " '/home/eurismar/notebooks/c-rnn-gan/datadir/classical/beethoven/pathet1.mid',\n",
       " '/home/eurismar/notebooks/c-rnn-gan/datadir/classical/beethoven/rondo.mid',\n",
       " '/home/eurismar/notebooks/c-rnn-gan/datadir/classical/beethoven/beeth9-3.mid',\n",
       " '/home/eurismar/notebooks/c-rnn-gan/datadir/classical/beethoven/1469no32variations.mid',\n",
       " '/home/eurismar/notebooks/c-rnn-gan/datadir/classical/beethoven/beeth9-2.mid',\n",
       " '/home/eurismar/notebooks/c-rnn-gan/datadir/classical/beethoven/2323andanteSteven.mid',\n",
       " '/home/eurismar/notebooks/c-rnn-gan/datadir/classical/beethoven/beet27m3.mid',\n",
       " '/home/eurismar/notebooks/c-rnn-gan/datadir/classical/beethoven/2264sechsSteven.mid',\n",
       " '/home/eurismar/notebooks/c-rnn-gan/datadir/classical/beethoven/frhlingssonataop24.mid',\n",
       " '/home/eurismar/notebooks/c-rnn-gan/datadir/classical/beethoven/1471beetpc5mov1.mid',\n",
       " '/home/eurismar/notebooks/c-rnn-gan/datadir/classical/beethoven/2266rondobeetSteven.mid',\n",
       " '/home/eurismar/notebooks/c-rnn-gan/datadir/classical/beethoven/pathet3.mid',\n",
       " '/home/eurismar/notebooks/c-rnn-gan/datadir/classical/beethoven/2042bagat1Steven.mid',\n",
       " '/home/eurismar/notebooks/c-rnn-gan/datadir/classical/beethoven/beets3m2.mid',\n",
       " '/home/eurismar/notebooks/c-rnn-gan/datadir/classical/beethoven/139.mid',\n",
       " '/home/eurismar/notebooks/c-rnn-gan/datadir/classical/beethoven/be_roman.mid',\n",
       " '/home/eurismar/notebooks/c-rnn-gan/datadir/classical/beethoven/133.mid',\n",
       " '/home/eurismar/notebooks/c-rnn-gan/datadir/classical/beethoven/beet27m2.mid',\n",
       " '/home/eurismar/notebooks/c-rnn-gan/datadir/classical/beethoven/515furelse1.mid',\n",
       " '/home/eurismar/notebooks/c-rnn-gan/datadir/classical/beethoven/beeth9-1.mid',\n",
       " '/home/eurismar/notebooks/c-rnn-gan/datadir/classical/beethoven/beeth4_3.mid',\n",
       " '/home/eurismar/notebooks/c-rnn-gan/datadir/classical/beethoven/2212bagat6Steven.mid',\n",
       " '/home/eurismar/notebooks/c-rnn-gan/datadir/classical/beethoven/2137bagat2Steven.mid',\n",
       " '/home/eurismar/notebooks/c-rnn-gan/datadir/classical/beethoven/131.mid',\n",
       " '/home/eurismar/notebooks/c-rnn-gan/datadir/classical/beethoven/941becm2.mid',\n",
       " '/home/eurismar/notebooks/c-rnn-gan/datadir/classical/beethoven/beeth25.mid',\n",
       " '/home/eurismar/notebooks/c-rnn-gan/datadir/classical/beethoven/1468no039.mid',\n",
       " '/home/eurismar/notebooks/c-rnn-gan/datadir/classical/beethoven/123.mid',\n",
       " '/home/eurismar/notebooks/c-rnn-gan/datadir/classical/beethoven/2355rondo51n2Steven.mid',\n",
       " '/home/eurismar/notebooks/c-rnn-gan/datadir/classical/beethoven/beet27m1.mid',\n",
       " '/home/eurismar/notebooks/c-rnn-gan/datadir/classical/beethoven/furelise.mid',\n",
       " '/home/eurismar/notebooks/c-rnn-gan/datadir/classical/beethoven/130.mid',\n",
       " '/home/eurismar/notebooks/c-rnn-gan/datadir/classical/beethoven/beeth7_2.mid',\n",
       " '/home/eurismar/notebooks/c-rnn-gan/datadir/classical/beethoven/138.mid',\n",
       " '/home/eurismar/notebooks/c-rnn-gan/datadir/classical/beethoven/135.mid',\n",
       " '/home/eurismar/notebooks/c-rnn-gan/datadir/classical/beethoven/30.mid',\n",
       " '/home/eurismar/notebooks/c-rnn-gan/datadir/classical/beethoven/184.mid',\n",
       " '/home/eurismar/notebooks/c-rnn-gan/datadir/classical/beethoven/129.mid',\n",
       " '/home/eurismar/notebooks/c-rnn-gan/datadir/classical/beethoven/2027beethovenoctet.mid',\n",
       " '/home/eurismar/notebooks/c-rnn-gan/datadir/classical/beethoven/3.mid',\n",
       " '/home/eurismar/notebooks/c-rnn-gan/datadir/classical/beethoven/309lvboct1.mid',\n",
       " '/home/eurismar/notebooks/c-rnn-gan/datadir/classical/beethoven/pathet2.mid',\n",
       " '/home/eurismar/notebooks/c-rnn-gan/datadir/classical/beethoven/brondo.mid',\n",
       " '/home/eurismar/notebooks/c-rnn-gan/datadir/classical/beethoven/2232bagat7Steven.mid',\n",
       " '/home/eurismar/notebooks/c-rnn-gan/datadir/classical/beethoven/121.mid',\n",
       " '/home/eurismar/notebooks/c-rnn-gan/datadir/classical/beethoven/1744bps32no2.mid',\n",
       " '/home/eurismar/notebooks/c-rnn-gan/datadir/classical/beethoven/coriolan.mid',\n",
       " '/home/eurismar/notebooks/c-rnn-gan/datadir/classical/beethoven/beeth3_2.mid',\n",
       " '/home/eurismar/notebooks/c-rnn-gan/datadir/classical/beethoven/2162bagat3Steven.mid',\n",
       " '/home/eurismar/notebooks/c-rnn-gan/datadir/classical/beethoven/btvn-rnd.mid',\n",
       " '/home/eurismar/notebooks/c-rnn-gan/datadir/classical/beethoven/1472beetpc5mov3.mid',\n",
       " '/home/eurismar/notebooks/c-rnn-gan/datadir/classical/beethoven/beets3m4.mid',\n",
       " '/home/eurismar/notebooks/c-rnn-gan/datadir/classical/beethoven/beetvc3.mid',\n",
       " '/home/eurismar/notebooks/c-rnn-gan/datadir/classical/beethoven/2626beethoven.mid',\n",
       " '/home/eurismar/notebooks/c-rnn-gan/datadir/classical/beethoven/142.mid',\n",
       " '/home/eurismar/notebooks/c-rnn-gan/datadir/classical/beethoven/beets3m1.mid',\n",
       " '/home/eurismar/notebooks/c-rnn-gan/datadir/classical/beethoven/1743bps32no1.mid',\n",
       " '/home/eurismar/notebooks/c-rnn-gan/datadir/classical/beethoven/2240equali.mid',\n",
       " '/home/eurismar/notebooks/c-rnn-gan/datadir/classical/beethoven/1470no3march.mid',\n",
       " '/home/eurismar/notebooks/c-rnn-gan/datadir/classical/beethoven/2467lvbminuet.mid',\n",
       " '/home/eurismar/notebooks/c-rnn-gan/datadir/classical/beethoven/140.mid',\n",
       " '/home/eurismar/notebooks/c-rnn-gan/datadir/classical/beethoven/2211bagat5Steven.mid',\n",
       " '/home/eurismar/notebooks/c-rnn-gan/datadir/classical/beethoven/132.mid',\n",
       " '/home/eurismar/notebooks/c-rnn-gan/datadir/classical/beethoven/1741bps26no1.mid',\n",
       " '/home/eurismar/notebooks/c-rnn-gan/datadir/classical/beethoven/2163bagat4Steven.mid']"
      ]
     },
     "execution_count": 422,
     "metadata": {},
     "output_type": "execute_result"
    }
   ],
   "source": [
    "files"
   ]
  },
  {
   "cell_type": "code",
   "execution_count": 423,
   "metadata": {
    "collapsed": true
   },
   "outputs": [],
   "source": [
    "coluna1 = []\n",
    "coluna2 = []\n",
    "for file in files:\n",
    "    midi = converter.parse(data_fn)\n",
    "    part0 = midi[0]\n",
    "    melodia = part0.getElementsByClass(note.Note)\n",
    "    notas = melodia.getElementsByClass(note.Note)\n",
    "    for nota in notas:\n",
    "        coluna1.append(nota.midi)\n",
    "        coluna2.append(nota.duration.quarterLength)"
   ]
  },
  {
   "cell_type": "code",
   "execution_count": 424,
   "metadata": {
    "collapsed": true
   },
   "outputs": [],
   "source": [
    "df = pd.DataFrame({\"nota\":coluna1,\n",
    "                   \"duracao\":coluna2})"
   ]
  },
  {
   "cell_type": "code",
   "execution_count": 425,
   "metadata": {},
   "outputs": [
    {
     "data": {
      "text/html": [
       "<div>\n",
       "<style>\n",
       "    .dataframe thead tr:only-child th {\n",
       "        text-align: right;\n",
       "    }\n",
       "\n",
       "    .dataframe thead th {\n",
       "        text-align: left;\n",
       "    }\n",
       "\n",
       "    .dataframe tbody tr th {\n",
       "        vertical-align: top;\n",
       "    }\n",
       "</style>\n",
       "<table border=\"1\" class=\"dataframe\">\n",
       "  <thead>\n",
       "    <tr style=\"text-align: right;\">\n",
       "      <th></th>\n",
       "      <th>duracao</th>\n",
       "      <th>nota</th>\n",
       "    </tr>\n",
       "  </thead>\n",
       "  <tbody>\n",
       "    <tr>\n",
       "      <th>0</th>\n",
       "      <td>0.25</td>\n",
       "      <td>50</td>\n",
       "    </tr>\n",
       "    <tr>\n",
       "      <th>1</th>\n",
       "      <td>4/3</td>\n",
       "      <td>50</td>\n",
       "    </tr>\n",
       "    <tr>\n",
       "      <th>2</th>\n",
       "      <td>0.25</td>\n",
       "      <td>50</td>\n",
       "    </tr>\n",
       "    <tr>\n",
       "      <th>3</th>\n",
       "      <td>4/3</td>\n",
       "      <td>53</td>\n",
       "    </tr>\n",
       "    <tr>\n",
       "      <th>4</th>\n",
       "      <td>0.25</td>\n",
       "      <td>53</td>\n",
       "    </tr>\n",
       "  </tbody>\n",
       "</table>\n",
       "</div>"
      ],
      "text/plain": [
       "  duracao  nota\n",
       "0    0.25    50\n",
       "1     4/3    50\n",
       "2    0.25    50\n",
       "3     4/3    53\n",
       "4    0.25    53"
      ]
     },
     "execution_count": 425,
     "metadata": {},
     "output_type": "execute_result"
    }
   ],
   "source": [
    "df.head()"
   ]
  },
  {
   "cell_type": "code",
   "execution_count": 426,
   "metadata": {},
   "outputs": [
    {
     "data": {
      "text/html": [
       "<div>\n",
       "<style>\n",
       "    .dataframe thead tr:only-child th {\n",
       "        text-align: right;\n",
       "    }\n",
       "\n",
       "    .dataframe thead th {\n",
       "        text-align: left;\n",
       "    }\n",
       "\n",
       "    .dataframe tbody tr th {\n",
       "        vertical-align: top;\n",
       "    }\n",
       "</style>\n",
       "<table border=\"1\" class=\"dataframe\">\n",
       "  <thead>\n",
       "    <tr style=\"text-align: right;\">\n",
       "      <th></th>\n",
       "      <th>duracao</th>\n",
       "      <th>nota</th>\n",
       "    </tr>\n",
       "  </thead>\n",
       "  <tbody>\n",
       "    <tr>\n",
       "      <th>7067</th>\n",
       "      <td>0</td>\n",
       "      <td>55</td>\n",
       "    </tr>\n",
       "    <tr>\n",
       "      <th>7068</th>\n",
       "      <td>0</td>\n",
       "      <td>57</td>\n",
       "    </tr>\n",
       "    <tr>\n",
       "      <th>7069</th>\n",
       "      <td>2/3</td>\n",
       "      <td>58</td>\n",
       "    </tr>\n",
       "    <tr>\n",
       "      <th>7070</th>\n",
       "      <td>0.25</td>\n",
       "      <td>60</td>\n",
       "    </tr>\n",
       "    <tr>\n",
       "      <th>7071</th>\n",
       "      <td>5/3</td>\n",
       "      <td>58</td>\n",
       "    </tr>\n",
       "  </tbody>\n",
       "</table>\n",
       "</div>"
      ],
      "text/plain": [
       "     duracao  nota\n",
       "7067       0    55\n",
       "7068       0    57\n",
       "7069     2/3    58\n",
       "7070    0.25    60\n",
       "7071     5/3    58"
      ]
     },
     "execution_count": 426,
     "metadata": {},
     "output_type": "execute_result"
    }
   ],
   "source": [
    "df.tail()"
   ]
  },
  {
   "cell_type": "code",
   "execution_count": 427,
   "metadata": {},
   "outputs": [
    {
     "data": {
      "text/html": [
       "<div>\n",
       "<style>\n",
       "    .dataframe thead tr:only-child th {\n",
       "        text-align: right;\n",
       "    }\n",
       "\n",
       "    .dataframe thead th {\n",
       "        text-align: left;\n",
       "    }\n",
       "\n",
       "    .dataframe tbody tr th {\n",
       "        vertical-align: top;\n",
       "    }\n",
       "</style>\n",
       "<table border=\"1\" class=\"dataframe\">\n",
       "  <thead>\n",
       "    <tr style=\"text-align: right;\">\n",
       "      <th></th>\n",
       "      <th>nota</th>\n",
       "    </tr>\n",
       "  </thead>\n",
       "  <tbody>\n",
       "    <tr>\n",
       "      <th>count</th>\n",
       "      <td>7072.000000</td>\n",
       "    </tr>\n",
       "    <tr>\n",
       "      <th>mean</th>\n",
       "      <td>54.413462</td>\n",
       "    </tr>\n",
       "    <tr>\n",
       "      <th>std</th>\n",
       "      <td>3.452140</td>\n",
       "    </tr>\n",
       "    <tr>\n",
       "      <th>min</th>\n",
       "      <td>46.000000</td>\n",
       "    </tr>\n",
       "    <tr>\n",
       "      <th>25%</th>\n",
       "      <td>53.000000</td>\n",
       "    </tr>\n",
       "    <tr>\n",
       "      <th>50%</th>\n",
       "      <td>55.000000</td>\n",
       "    </tr>\n",
       "    <tr>\n",
       "      <th>75%</th>\n",
       "      <td>57.000000</td>\n",
       "    </tr>\n",
       "    <tr>\n",
       "      <th>max</th>\n",
       "      <td>62.000000</td>\n",
       "    </tr>\n",
       "  </tbody>\n",
       "</table>\n",
       "</div>"
      ],
      "text/plain": [
       "              nota\n",
       "count  7072.000000\n",
       "mean     54.413462\n",
       "std       3.452140\n",
       "min      46.000000\n",
       "25%      53.000000\n",
       "50%      55.000000\n",
       "75%      57.000000\n",
       "max      62.000000"
      ]
     },
     "execution_count": 427,
     "metadata": {},
     "output_type": "execute_result"
    }
   ],
   "source": [
    "df.describe()"
   ]
  },
  {
   "cell_type": "code",
   "execution_count": 428,
   "metadata": {},
   "outputs": [
    {
     "data": {
      "text/plain": [
       "array([50, 53, 55, 51, 58, 48, 46, 52, 57, 60, 62])"
      ]
     },
     "execution_count": 428,
     "metadata": {},
     "output_type": "execute_result"
    }
   ],
   "source": [
    "df['nota'].unique()"
   ]
  },
  {
   "cell_type": "code",
   "execution_count": 429,
   "metadata": {},
   "outputs": [
    {
     "data": {
      "text/plain": [
       "array([0.25, Fraction(4, 3), Fraction(2, 3), 2.0, Fraction(1, 3), 1.0,\n",
       "       Fraction(7, 3), 0.0, 1.25, Fraction(8, 3), 2.75, 0.75,\n",
       "       Fraction(5, 3)], dtype=object)"
      ]
     },
     "execution_count": 429,
     "metadata": {},
     "output_type": "execute_result"
    }
   ],
   "source": [
    "df['duracao'].unique()"
   ]
  },
  {
   "cell_type": "code",
   "execution_count": 430,
   "metadata": {
    "collapsed": true
   },
   "outputs": [],
   "source": [
    "mlb = MultiLabelBinarizer()"
   ]
  },
  {
   "cell_type": "code",
   "execution_count": 431,
   "metadata": {},
   "outputs": [
    {
     "data": {
      "text/plain": [
       "MultiLabelBinarizer(classes=None, sparse_output=False)"
      ]
     },
     "execution_count": 431,
     "metadata": {},
     "output_type": "execute_result"
    }
   ],
   "source": [
    "mlb.fit(df.values)"
   ]
  },
  {
   "cell_type": "code",
   "execution_count": 432,
   "metadata": {
    "collapsed": true
   },
   "outputs": [],
   "source": [
    "classes = mlb.classes_"
   ]
  },
  {
   "cell_type": "code",
   "execution_count": 433,
   "metadata": {},
   "outputs": [
    {
     "data": {
      "text/plain": [
       "array([0.0, 0.25, Fraction(1, 3), Fraction(2, 3), 0.75, 1.0, 1.25,\n",
       "       Fraction(4, 3), Fraction(5, 3), 2.0, Fraction(7, 3),\n",
       "       Fraction(8, 3), 2.75, 46, 48, 50, 51, 52, 53, 55, 57, 58, 60, 62],\n",
       "      dtype=object)"
      ]
     },
     "execution_count": 433,
     "metadata": {},
     "output_type": "execute_result"
    }
   ],
   "source": [
    "classes"
   ]
  },
  {
   "cell_type": "code",
   "execution_count": 434,
   "metadata": {},
   "outputs": [
    {
     "data": {
      "text/plain": [
       "(24,)"
      ]
     },
     "execution_count": 434,
     "metadata": {},
     "output_type": "execute_result"
    }
   ],
   "source": [
    "classes.shape"
   ]
  },
  {
   "cell_type": "code",
   "execution_count": 435,
   "metadata": {
    "collapsed": true
   },
   "outputs": [],
   "source": [
    "labels = mlb.transform(df.values)"
   ]
  },
  {
   "cell_type": "code",
   "execution_count": 436,
   "metadata": {},
   "outputs": [
    {
     "data": {
      "text/plain": [
       "array([[0, 1, 0, ..., 0, 0, 0],\n",
       "       [0, 0, 0, ..., 0, 0, 0],\n",
       "       [0, 1, 0, ..., 0, 0, 0],\n",
       "       ...,\n",
       "       [0, 0, 0, ..., 1, 0, 0],\n",
       "       [0, 1, 0, ..., 0, 1, 0],\n",
       "       [0, 0, 0, ..., 1, 0, 0]])"
      ]
     },
     "execution_count": 436,
     "metadata": {},
     "output_type": "execute_result"
    }
   ],
   "source": [
    "labels"
   ]
  },
  {
   "cell_type": "code",
   "execution_count": 437,
   "metadata": {},
   "outputs": [
    {
     "data": {
      "text/plain": [
       "(7072, 24)"
      ]
     },
     "execution_count": 437,
     "metadata": {},
     "output_type": "execute_result"
    }
   ],
   "source": [
    "labels.shape"
   ]
  },
  {
   "cell_type": "code",
   "execution_count": 438,
   "metadata": {},
   "outputs": [],
   "source": [
    "array_notas = df['nota'].values.astype(int)"
   ]
  },
  {
   "cell_type": "code",
   "execution_count": 439,
   "metadata": {},
   "outputs": [
    {
     "data": {
      "text/plain": [
       "(7072,)"
      ]
     },
     "execution_count": 439,
     "metadata": {},
     "output_type": "execute_result"
    }
   ],
   "source": [
    "array_notas.shape"
   ]
  },
  {
   "cell_type": "code",
   "execution_count": 440,
   "metadata": {},
   "outputs": [],
   "source": [
    "array_duracao = df['duracao'].values.astype(float)"
   ]
  },
  {
   "cell_type": "code",
   "execution_count": 441,
   "metadata": {},
   "outputs": [
    {
     "name": "stderr",
     "output_type": "stream",
     "text": [
      "/home/eurismar/anaconda3/lib/python3.6/site-packages/sklearn/utils/validation.py:475: DataConversionWarning: Data with input dtype object was converted to float64 by StandardScaler.\n",
      "  warnings.warn(msg, DataConversionWarning)\n"
     ]
    }
   ],
   "source": [
    "scaler = StandardScaler()\n",
    "rawX = scaler.fit_transform(df.values)"
   ]
  },
  {
   "cell_type": "code",
   "execution_count": 442,
   "metadata": {},
   "outputs": [
    {
     "data": {
      "text/plain": [
       "array([[-0.76703884, -1.27856145],\n",
       "       [ 0.79007304, -1.27856145],\n",
       "       [-0.76703884, -1.27856145],\n",
       "       ...,\n",
       "       [-0.16814966,  1.03900528],\n",
       "       [-0.76703884,  1.61839696],\n",
       "       [ 1.26918439,  1.03900528]])"
      ]
     },
     "execution_count": 442,
     "metadata": {},
     "output_type": "execute_result"
    }
   ],
   "source": [
    "rawX"
   ]
  },
  {
   "cell_type": "code",
   "execution_count": 443,
   "metadata": {},
   "outputs": [
    {
     "data": {
      "text/plain": [
       "array([ 0.25, 50.  ])"
      ]
     },
     "execution_count": 443,
     "metadata": {},
     "output_type": "execute_result"
    }
   ],
   "source": [
    "scaler.inverse_transform(rawX[0])"
   ]
  },
  {
   "cell_type": "code",
   "execution_count": 444,
   "metadata": {},
   "outputs": [
    {
     "name": "stdout",
     "output_type": "stream",
     "text": [
      "Total Patterns:  6972\n"
     ]
    }
   ],
   "source": [
    "# prepare the dataset of input to output pairs encoded as integers\n",
    "seq_length = 100\n",
    "dataX = []\n",
    "dataY = []\n",
    "for i in range(0, rawX.shape[0] - seq_length, 1):\n",
    "\tseq_in = rawX[i:i + seq_length]\n",
    "\tseq_out = labels[i + seq_length]\n",
    "\tdataX.append(seq_in)\n",
    "\tdataY.append(seq_out)\n",
    "n_patterns = len(dataX)\n",
    "print(\"Total Patterns: \", n_patterns)"
   ]
  },
  {
   "cell_type": "code",
   "execution_count": 445,
   "metadata": {
    "collapsed": true
   },
   "outputs": [],
   "source": [
    "X = np.reshape(dataX, (len(dataX), seq_length, 2))\n",
    "y = np.asarray(dataY)"
   ]
  },
  {
   "cell_type": "code",
   "execution_count": 446,
   "metadata": {},
   "outputs": [
    {
     "data": {
      "text/plain": [
       "(6972, 100, 2)"
      ]
     },
     "execution_count": 446,
     "metadata": {},
     "output_type": "execute_result"
    }
   ],
   "source": [
    "X.shape"
   ]
  },
  {
   "cell_type": "code",
   "execution_count": 447,
   "metadata": {},
   "outputs": [
    {
     "data": {
      "text/plain": [
       "(6972, 24)"
      ]
     },
     "execution_count": 447,
     "metadata": {},
     "output_type": "execute_result"
    }
   ],
   "source": [
    "y.shape"
   ]
  },
  {
   "cell_type": "code",
   "execution_count": 448,
   "metadata": {},
   "outputs": [
    {
     "name": "stdout",
     "output_type": "stream",
     "text": [
      "_________________________________________________________________\n",
      "Layer (type)                 Output Shape              Param #   \n",
      "=================================================================\n",
      "lstm_9 (LSTM)                (None, 100, 256)          265216    \n",
      "_________________________________________________________________\n",
      "dropout_9 (Dropout)          (None, 100, 256)          0         \n",
      "_________________________________________________________________\n",
      "lstm_10 (LSTM)               (None, 256)               525312    \n",
      "_________________________________________________________________\n",
      "dropout_10 (Dropout)         (None, 256)               0         \n",
      "_________________________________________________________________\n",
      "dense_5 (Dense)              (None, 24)                6168      \n",
      "=================================================================\n",
      "Total params: 796,696\n",
      "Trainable params: 796,696\n",
      "Non-trainable params: 0\n",
      "_________________________________________________________________\n",
      "None\n"
     ]
    }
   ],
   "source": [
    "model = Sequential()\n",
    "model.add(LSTM(256, input_shape=(seq_length, 2),return_sequences=True))\n",
    "model.add(Dropout(0.2))\n",
    "model.add(LSTM(256))\n",
    "model.add(Dropout(0.2))\n",
    "model.add(Dense(y.shape[1], activation='sigmoid'))\n",
    "adam = Adam(lr=0.001)\n",
    "model.compile(loss='binary_crossentropy', optimizer=adam,metrics=['accuracy'])\n",
    "print(model.summary())"
   ]
  },
  {
   "cell_type": "code",
   "execution_count": 449,
   "metadata": {},
   "outputs": [
    {
     "name": "stdout",
     "output_type": "stream",
     "text": [
      "Epoch 1/10\n",
      "6972/6972 [==============================] - 74s - loss: 0.2665 - acc: 0.9050    \n",
      "Epoch 2/10\n",
      "6972/6972 [==============================] - 65s - loss: 0.2067 - acc: 0.9180    \n",
      "Epoch 3/10\n",
      "6972/6972 [==============================] - 66s - loss: 0.1484 - acc: 0.9326    \n",
      "Epoch 4/10\n",
      "6972/6972 [==============================] - 70s - loss: 0.0834 - acc: 0.9678    \n",
      "Epoch 5/10\n",
      "6972/6972 [==============================] - 70s - loss: 0.0285 - acc: 0.9956    \n",
      "Epoch 6/10\n",
      "6972/6972 [==============================] - 64s - loss: 0.0506 - acc: 0.9865    \n",
      "Epoch 7/10\n",
      "6972/6972 [==============================] - 62s - loss: 0.0861 - acc: 0.9698    \n",
      "Epoch 8/10\n",
      "6972/6972 [==============================] - 63s - loss: 0.0150 - acc: 0.9991    \n",
      "Epoch 9/10\n",
      "6972/6972 [==============================] - 62s - loss: 0.0068 - acc: 0.9999    \n",
      "Epoch 10/10\n",
      "6972/6972 [==============================] - 62s - loss: 0.0043 - acc: 1.0000    \n"
     ]
    }
   ],
   "source": [
    "history = model.fit(X, y, epochs=10,batch_size=32, verbose=1, shuffle=False)"
   ]
  },
  {
   "cell_type": "code",
   "execution_count": 450,
   "metadata": {},
   "outputs": [
    {
     "data": {
      "image/png": "[encoded data removed]",
      "text/plain": [
       "<matplotlib.figure.Figure at 0x7f51a4252e48>"
      ]
     },
     "metadata": {
      "image/png": {
       "height": 277,
       "width": 393
      }
     },
     "output_type": "display_data"
    },
    {
     "data": {
      "image/png": "[encoded data removed]",
      "text/plain": [
       "<matplotlib.figure.Figure at 0x7f51a681c828>"
      ]
     },
     "metadata": {
      "image/png": {
       "height": 277,
       "width": 393
      }
     },
     "output_type": "display_data"
    }
   ],
   "source": [
    "\n",
    "# summarize history for accuracy\n",
    "plt.plot(history.history['acc'])\n",
    "plt.title('model accuracy')\n",
    "plt.ylabel('accuracy')\n",
    "plt.xlabel('epoch')\n",
    "plt.legend(['train', 'test'], loc='upper left')\n",
    "plt.show()\n",
    "# summarize history for loss\n",
    "plt.plot(history.history['loss'])\n",
    "plt.title('model loss')\n",
    "plt.ylabel('loss')\n",
    "plt.xlabel('epoch')\n",
    "plt.legend(['train', 'test'], loc='upper left')\n",
    "plt.show()"
   ]
  },
  {
   "cell_type": "markdown",
   "metadata": {},
   "source": [
    "## **Prevendo somente uma label**"
   ]
  },
  {
   "cell_type": "code",
   "execution_count": 460,
   "metadata": {},
   "outputs": [
    {
     "name": "stdout",
     "output_type": "stream",
     "text": [
      "idxs: [20  2]\n",
      "antes sort: [57, Fraction(1, 3)]\n",
      "depois sort: [Fraction(1, 3), 57]\n",
      "[[Fraction(1, 3) 57]]\n",
      "[[-0.64726101  0.74930944]]\n"
     ]
    },
    {
     "name": "stderr",
     "output_type": "stream",
     "text": [
      "/home/eurismar/anaconda3/lib/python3.6/site-packages/sklearn/utils/validation.py:475: DataConversionWarning: Data with input dtype object was converted to float64 by StandardScaler.\n",
      "  warnings.warn(msg, DataConversionWarning)\n"
     ]
    }
   ],
   "source": [
    "start = np.random.randint(0, len(dataX)-1)\n",
    "pattern = dataX[start]\n",
    "p = np.reshape(pattern, (1, len(pattern), 2))\n",
    "prediction = model.predict(p, verbose=0)\n",
    "idxs = np.argsort(prediction[0])[::-1][:2]\n",
    "print('idxs:',idxs)\n",
    "new_pattern = [mlb.classes_[idxs[0]],mlb.classes_[idxs[1]]]\n",
    "print('antes sort:',new_pattern)\n",
    "new_pattern.sort()\n",
    "print('depois sort:',new_pattern)\n",
    "t = np.asarray(new_pattern)\n",
    "t1 = t.reshape(1,2)\n",
    "print(t1)\n",
    "pt = scaler.transform(t1)\n",
    "print(pt)"
   ]
  },
  {
   "cell_type": "markdown",
   "metadata": {},
   "source": [
    "## **Prevendo uma sequencia**"
   ]
  },
  {
   "cell_type": "code",
   "execution_count": 452,
   "metadata": {},
   "outputs": [
    {
     "data": {
      "text/plain": [
       "6972"
      ]
     },
     "execution_count": 452,
     "metadata": {},
     "output_type": "execute_result"
    }
   ],
   "source": [
    "len(dataX)"
   ]
  },
  {
   "cell_type": "code",
   "execution_count": null,
   "metadata": {
    "collapsed": true
   },
   "outputs": [],
   "source": []
  },
  {
   "cell_type": "code",
   "execution_count": 511,
   "metadata": {},
   "outputs": [
    {
     "name": "stderr",
     "output_type": "stream",
     "text": [
      "/home/eurismar/anaconda3/lib/python3.6/site-packages/sklearn/utils/validation.py:475: DataConversionWarning: Data with input dtype object was converted to float64 by StandardScaler.\n",
      "  warnings.warn(msg, DataConversionWarning)\n"
     ]
    }
   ],
   "source": [
    "start = np.random.randint(0, len(dataX)-1)\n",
    "pattern = dataX[start]\n",
    "for i in range(200):\n",
    "    p = np.reshape(pattern, (1, len(pattern), 2))\n",
    "    prediction = model.predict(p, verbose=0)\n",
    "    idxs = np.argsort(prediction[0])[::-1][:2]\n",
    "    new_pattern = [mlb.classes_[idxs[0]],mlb.classes_[idxs[1]]]\n",
    "    new_pattern.sort()\n",
    "    t = np.asarray(new_pattern).reshape(1,2)\n",
    "    pt = scaler.transform(t)\n",
    "    a = np.concatenate((pattern,pt))\n",
    "    b = a[1:len(a)]\n",
    "    pattern = b"
   ]
  },
  {
   "cell_type": "code",
   "execution_count": 512,
   "metadata": {},
   "outputs": [
    {
     "data": {
      "text/plain": [
       "array([[-0.76703884,  0.16991775],\n",
       "       [ 1.74829574,  1.03900528],\n",
       "       [ 0.31096169,  1.03900528],\n",
       "       [-0.76703884,  1.03900528],\n",
       "       [ 1.74829574,  2.19778864],\n",
       "       [ 0.79007304,  1.61839696],\n",
       "       [-0.76703884, -0.40947393],\n",
       "       [ 2.22740709,  1.03900528],\n",
       "       [-0.16814966,  0.74930944],\n",
       "       [-0.76703884,  0.16991775],\n",
       "       [ 2.70651844, -0.40947393],\n",
       "       [-1.12637236, -0.40947393],\n",
       "       [-1.12637236,  0.74930944],\n",
       "       [-0.16814966,  0.16991775],\n",
       "       [-0.76703884, -0.40947393],\n",
       "       [ 2.22740709, -0.40947393],\n",
       "       [-0.76703884,  1.03900528],\n",
       "       [ 2.82629628,  1.61839696],\n",
       "       [-0.64726101, -0.40947393],\n",
       "       [ 2.22740709,  2.19778864],\n",
       "       [-0.04837182,  1.61839696],\n",
       "       [ 0.67029521,  1.03900528],\n",
       "       [-0.64726101,  1.03900528],\n",
       "       [-0.64726101,  0.74930944],\n",
       "       [-1.12637236,  1.03900528],\n",
       "       [-1.12637236,  0.74930944],\n",
       "       [-1.12637236,  0.16991775],\n",
       "       [-1.12637236,  0.74930944],\n",
       "       [-0.16814966,  1.03900528],\n",
       "       [-0.76703884,  1.61839696],\n",
       "       [ 1.26918439,  1.03900528],\n",
       "       [-0.76703884, -1.27856145],\n",
       "       [ 0.79007304, -1.27856145],\n",
       "       [-0.76703884, -1.27856145],\n",
       "       [ 0.79007304, -0.40947393],\n",
       "       [-0.76703884, -0.40947393],\n",
       "       [-0.16814966,  0.16991775],\n",
       "       [-0.76703884,  0.16991775],\n",
       "       [-0.16814966, -0.98886561],\n",
       "       [-0.76703884,  0.16991775],\n",
       "       [ 1.74829574,  1.03900528],\n",
       "       [-0.64726101, -0.40947393],\n",
       "       [-0.76703884, -0.40947393],\n",
       "       [-0.16814966, -1.27856145],\n",
       "       [-0.76703884, -1.85795313],\n",
       "       [ 0.31096169, -2.43734482],\n",
       "       [-0.16814966, -1.27856145],\n",
       "       [-0.76703884, -0.98886561],\n",
       "       [ 0.31096169, -0.40947393],\n",
       "       [-0.16814966, -0.98886561],\n",
       "       [-0.76703884, -1.85795313],\n",
       "       [ 2.22740709, -2.43734482],\n",
       "       [ 0.31096169, -1.27856145],\n",
       "       [-0.16814966, -1.27856145],\n",
       "       [-0.76703884, -1.27856145],\n",
       "       [ 0.79007304, -0.40947393],\n",
       "       [-0.76703884, -0.40947393],\n",
       "       [-0.16814966,  0.16991775],\n",
       "       [-0.76703884,  0.16991775],\n",
       "       [-0.16814966, -0.98886561],\n",
       "       [-0.76703884,  0.16991775],\n",
       "       [ 1.74829574,  1.03900528],\n",
       "       [-0.64726101, -0.40947393],\n",
       "       [-0.76703884, -0.40947393],\n",
       "       [-0.16814966, -0.69916977],\n",
       "       [-0.76703884, -1.27856145],\n",
       "       [ 0.31096169,  0.74930944],\n",
       "       [-0.16814966, -0.40947393],\n",
       "       [-0.76703884,  0.16991775],\n",
       "       [-0.16814966,  0.74930944],\n",
       "       [-1.12637236,  1.61839696],\n",
       "       [-0.16814966,  1.03900528],\n",
       "       [-0.76703884,  0.74930944],\n",
       "       [ 1.74829574, -1.27856145],\n",
       "       [-0.76703884, -0.40947393],\n",
       "       [ 0.31096169, -0.40947393],\n",
       "       [ 0.31096169,  0.16991775],\n",
       "       [ 0.31096169, -1.85795313],\n",
       "       [ 0.31096169, -0.40947393],\n",
       "       [-0.16814966,  0.16991775],\n",
       "       [-0.76703884, -0.40947393],\n",
       "       [-0.16814966,  1.03900528],\n",
       "       [-0.76703884, -1.27856145],\n",
       "       [ 0.31096169,  0.16991775],\n",
       "       [-0.64726101, -0.40947393],\n",
       "       [-0.76703884, -0.40947393],\n",
       "       [ 0.31096169, -0.40947393],\n",
       "       [ 0.31096169,  0.16991775],\n",
       "       [ 0.31096169, -1.85795313],\n",
       "       [ 0.31096169, -0.40947393],\n",
       "       [-0.16814966,  0.16991775],\n",
       "       [-0.76703884, -0.40947393],\n",
       "       [-0.16814966,  1.03900528],\n",
       "       [-0.76703884, -1.27856145],\n",
       "       [ 0.67029521, -0.40947393],\n",
       "       [ 2.22740709,  1.03900528],\n",
       "       [-0.16814966,  0.74930944],\n",
       "       [-0.76703884,  0.16991775],\n",
       "       [ 1.74829574,  0.74930944],\n",
       "       [ 0.67029521,  0.74930944]])"
      ]
     },
     "execution_count": 512,
     "metadata": {},
     "output_type": "execute_result"
    }
   ],
   "source": [
    "pattern"
   ]
  },
  {
   "cell_type": "code",
   "execution_count": 513,
   "metadata": {},
   "outputs": [
    {
     "data": {
      "text/plain": [
       "(100, 2)"
      ]
     },
     "execution_count": 513,
     "metadata": {},
     "output_type": "execute_result"
    }
   ],
   "source": [
    "pattern.shape"
   ]
  },
  {
   "cell_type": "code",
   "execution_count": 514,
   "metadata": {
    "collapsed": true
   },
   "outputs": [],
   "source": [
    "inverso = scaler.inverse_transform(pattern)"
   ]
  },
  {
   "cell_type": "code",
   "execution_count": 515,
   "metadata": {},
   "outputs": [
    {
     "data": {
      "text/plain": [
       "array([[ 0.25      , 55.        ],\n",
       "       [ 2.        , 58.        ],\n",
       "       [ 1.        , 58.        ],\n",
       "       [ 0.25      , 58.        ],\n",
       "       [ 2.        , 62.        ],\n",
       "       [ 1.33333333, 60.        ],\n",
       "       [ 0.25      , 53.        ],\n",
       "       [ 2.33333333, 58.        ],\n",
       "       [ 0.66666667, 57.        ],\n",
       "       [ 0.25      , 55.        ],\n",
       "       [ 2.66666667, 53.        ],\n",
       "       [ 0.        , 53.        ],\n",
       "       [ 0.        , 57.        ],\n",
       "       [ 0.66666667, 55.        ],\n",
       "       [ 0.25      , 53.        ],\n",
       "       [ 2.33333333, 53.        ],\n",
       "       [ 0.25      , 58.        ],\n",
       "       [ 2.75      , 60.        ],\n",
       "       [ 0.33333333, 53.        ],\n",
       "       [ 2.33333333, 62.        ],\n",
       "       [ 0.75      , 60.        ],\n",
       "       [ 1.25      , 58.        ],\n",
       "       [ 0.33333333, 58.        ],\n",
       "       [ 0.33333333, 57.        ],\n",
       "       [ 0.        , 58.        ],\n",
       "       [ 0.        , 57.        ],\n",
       "       [ 0.        , 55.        ],\n",
       "       [ 0.        , 57.        ],\n",
       "       [ 0.66666667, 58.        ],\n",
       "       [ 0.25      , 60.        ],\n",
       "       [ 1.66666667, 58.        ],\n",
       "       [ 0.25      , 50.        ],\n",
       "       [ 1.33333333, 50.        ],\n",
       "       [ 0.25      , 50.        ],\n",
       "       [ 1.33333333, 53.        ],\n",
       "       [ 0.25      , 53.        ],\n",
       "       [ 0.66666667, 55.        ],\n",
       "       [ 0.25      , 55.        ],\n",
       "       [ 0.66666667, 51.        ],\n",
       "       [ 0.25      , 55.        ],\n",
       "       [ 2.        , 58.        ],\n",
       "       [ 0.33333333, 53.        ],\n",
       "       [ 0.25      , 53.        ],\n",
       "       [ 0.66666667, 50.        ],\n",
       "       [ 0.25      , 48.        ],\n",
       "       [ 1.        , 46.        ],\n",
       "       [ 0.66666667, 50.        ],\n",
       "       [ 0.25      , 51.        ],\n",
       "       [ 1.        , 53.        ],\n",
       "       [ 0.66666667, 51.        ],\n",
       "       [ 0.25      , 48.        ],\n",
       "       [ 2.33333333, 46.        ],\n",
       "       [ 1.        , 50.        ],\n",
       "       [ 0.66666667, 50.        ],\n",
       "       [ 0.25      , 50.        ],\n",
       "       [ 1.33333333, 53.        ],\n",
       "       [ 0.25      , 53.        ],\n",
       "       [ 0.66666667, 55.        ],\n",
       "       [ 0.25      , 55.        ],\n",
       "       [ 0.66666667, 51.        ],\n",
       "       [ 0.25      , 55.        ],\n",
       "       [ 2.        , 58.        ],\n",
       "       [ 0.33333333, 53.        ],\n",
       "       [ 0.25      , 53.        ],\n",
       "       [ 0.66666667, 52.        ],\n",
       "       [ 0.25      , 50.        ],\n",
       "       [ 1.        , 57.        ],\n",
       "       [ 0.66666667, 53.        ],\n",
       "       [ 0.25      , 55.        ],\n",
       "       [ 0.66666667, 57.        ],\n",
       "       [ 0.        , 60.        ],\n",
       "       [ 0.66666667, 58.        ],\n",
       "       [ 0.25      , 57.        ],\n",
       "       [ 2.        , 50.        ],\n",
       "       [ 0.25      , 53.        ],\n",
       "       [ 1.        , 53.        ],\n",
       "       [ 1.        , 55.        ],\n",
       "       [ 1.        , 48.        ],\n",
       "       [ 1.        , 53.        ],\n",
       "       [ 0.66666667, 55.        ],\n",
       "       [ 0.25      , 53.        ],\n",
       "       [ 0.66666667, 58.        ],\n",
       "       [ 0.25      , 50.        ],\n",
       "       [ 1.        , 55.        ],\n",
       "       [ 0.33333333, 53.        ],\n",
       "       [ 0.25      , 53.        ],\n",
       "       [ 1.        , 53.        ],\n",
       "       [ 1.        , 55.        ],\n",
       "       [ 1.        , 48.        ],\n",
       "       [ 1.        , 53.        ],\n",
       "       [ 0.66666667, 55.        ],\n",
       "       [ 0.25      , 53.        ],\n",
       "       [ 0.66666667, 58.        ],\n",
       "       [ 0.25      , 50.        ],\n",
       "       [ 1.25      , 53.        ],\n",
       "       [ 2.33333333, 58.        ],\n",
       "       [ 0.66666667, 57.        ],\n",
       "       [ 0.25      , 55.        ],\n",
       "       [ 2.        , 57.        ],\n",
       "       [ 1.25      , 57.        ]])"
      ]
     },
     "execution_count": 515,
     "metadata": {},
     "output_type": "execute_result"
    }
   ],
   "source": [
    "inverso"
   ]
  },
  {
   "cell_type": "markdown",
   "metadata": {},
   "source": [
    "### Exemplo de como criar uma nova nota e inserir no Stream"
   ]
  },
  {
   "cell_type": "code",
   "execution_count": 531,
   "metadata": {},
   "outputs": [
    {
     "data": {
      "image/png": "[encoded data removed]",
      "text/plain": [
       "<IPython.core.display.Image object>"
      ]
     },
     "metadata": {
      "image/png": {
       "height": 49,
       "width": 163
      }
     },
     "output_type": "display_data"
    }
   ],
   "source": [
    "s1 = stream.Stream()\n",
    "n1 = note.Note()\n",
    "n1.midi = 60\n",
    "n1.duration.quarterLength = 0.25\n",
    "s1.append(n1)\n",
    "s1.show()"
   ]
  },
  {
   "cell_type": "code",
   "execution_count": null,
   "metadata": {
    "collapsed": true
   },
   "outputs": [],
   "source": []
  },
  {
   "cell_type": "code",
   "execution_count": 569,
   "metadata": {},
   "outputs": [],
   "source": [
    "sc = stream.Score()\n",
    "for i in inverso:\n",
    "    n = note.Note(midi=i[1], quarterLength=i[0])\n",
    "    sc.append(n)"
   ]
  },
  {
   "cell_type": "code",
   "execution_count": 570,
   "metadata": {},
   "outputs": [
    {
     "data": {
      "image/png": "[encoded data removed]",
      "text/plain": [
       "<IPython.core.display.Image object>"
      ]
     },
     "metadata": {
      "image/png": {
       "height": 464,
       "width": 753
      }
     },
     "output_type": "display_data"
    }
   ],
   "source": [
    "sc.show()"
   ]
  },
  {
   "cell_type": "code",
   "execution_count": 575,
   "metadata": {
    "collapsed": true
   },
   "outputs": [],
   "source": [
    "from music21 import *"
   ]
  },
  {
   "cell_type": "code",
   "execution_count": 576,
   "metadata": {},
   "outputs": [],
   "source": [
    "mf = midi.translate.streamToMidiFile(sc)\n",
    "mf.open('gerado.mid', 'wb')\n",
    "mf.write()\n",
    "mf.close()"
   ]
  },
  {
   "cell_type": "code",
   "execution_count": 580,
   "metadata": {},
   "outputs": [
    {
     "name": "stdout",
     "output_type": "stream",
     "text": [
      "gerado.mid\r\n"
     ]
    }
   ],
   "source": [
    "!ls gerad*"
   ]
  },
  {
   "cell_type": "code",
   "execution_count": null,
   "metadata": {
    "collapsed": true
   },
   "outputs": [],
   "source": []
  }
 ],
 "metadata": {
  "kernelspec": {
   "display_name": "Python 3",
   "language": "python",
   "name": "python3"
  },
  "language_info": {
   "codemirror_mode": {
    "name": "ipython",
    "version": 3
   },
   "file_extension": ".py",
   "mimetype": "text/x-python",
   "name": "python",
   "nbconvert_exporter": "python",
   "pygments_lexer": "ipython3",
   "version": "3.6.3"
  }
 },
 "nbformat": 4,
 "nbformat_minor": 2
}
