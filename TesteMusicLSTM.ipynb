{
 "cells": [
  {
   "cell_type": "code",
   "execution_count": 12,
   "metadata": {},
   "outputs": [],
   "source": [
    "from music21 import *\n",
    "import pandas as pd\n",
    "import glob\n",
    "from sklearn.preprocessing import MultiLabelBinarizer\n",
    "from sklearn.preprocessing import MinMaxScaler\n",
    "import matplotlib.pyplot as plt\n",
    "import numpy as np\n",
    "from keras.models import Sequential\n",
    "from keras.layers import Dense\n",
    "from keras.layers import Dropout\n",
    "from keras.layers import LSTM\n",
    "from keras.optimizers import Adam\n",
    "from sklearn.model_selection import train_test_split\n",
    "# Small LSTM Network to Generate Text for Alice in Wonderland\n",
    "import numpy\n",
    "from keras.models import Sequential\n",
    "from keras.layers import Dense\n",
    "from keras.layers import Dropout\n",
    "from keras.layers import LSTM\n",
    "from keras.callbacks import ModelCheckpoint\n",
    "from keras.utils import np_utils\n",
    "import sys"
   ]
  },
  {
   "cell_type": "code",
   "execution_count": 13,
   "metadata": {
    "collapsed": true
   },
   "outputs": [],
   "source": [
    "%matplotlib inline"
   ]
  },
  {
   "cell_type": "code",
   "execution_count": 15,
   "metadata": {
    "collapsed": true
   },
   "outputs": [],
   "source": [
    "#path = '/home/eurismar/notebooks/Music_Generator_Demo/Pop_Music_Midi'\n",
    "path = '/home/eurismar/notebooks/c-rnn-gan/datadir/classical'"
   ]
  },
  {
   "cell_type": "code",
   "execution_count": 18,
   "metadata": {
    "collapsed": true
   },
   "outputs": [],
   "source": [
    "#files = glob.glob('{}/*.mid*'.format(path))\n",
    "files = glob.glob(path)"
   ]
  },
  {
   "cell_type": "code",
   "execution_count": 19,
   "metadata": {},
   "outputs": [
    {
     "data": {
      "text/plain": [
       "['/home/eurismar/notebooks/c-rnn-gan/datadir/classical']"
      ]
     },
     "execution_count": 19,
     "metadata": {},
     "output_type": "execute_result"
    }
   ],
   "source": [
    "files"
   ]
  },
  {
   "cell_type": "code",
   "execution_count": 22,
   "metadata": {
    "collapsed": true
   },
   "outputs": [],
   "source": [
    "import os"
   ]
  },
  {
   "cell_type": "code",
   "execution_count": 30,
   "metadata": {
    "collapsed": true
   },
   "outputs": [],
   "source": [
    "path = '/home/eurismar/notebooks/c-rnn-gan/datadir/classical'"
   ]
  },
  {
   "cell_type": "code",
   "execution_count": 31,
   "metadata": {},
   "outputs": [],
   "source": [
    "diretorios = [x for x in os.listdir(path)]"
   ]
  },
  {
   "cell_type": "code",
   "execution_count": 40,
   "metadata": {},
   "outputs": [
    {
     "data": {
      "text/plain": [
       "['mahler', 'bach_teste', 'meyerbeer', 'yradier', 'vivaldi']"
      ]
     },
     "execution_count": 40,
     "metadata": {},
     "output_type": "execute_result"
    }
   ],
   "source": [
    "diretorios[:5]"
   ]
  },
  {
   "cell_type": "code",
   "execution_count": 69,
   "metadata": {},
   "outputs": [
    {
     "name": "stdout",
     "output_type": "stream",
     "text": [
      "/home/eurismar/notebooks/c-rnn-gan/datadir/classical/mahler\n",
      "\n",
      "/home/eurismar/notebooks/c-rnn-gan/datadir/classical/bach_teste\n",
      "\n"
     ]
    }
   ],
   "source": [
    "files = []\n",
    "for x in diretorios[:2]:\n",
    "  a = path+'/'+x\n",
    "  files_part = glob.glob('{}/*.mid*'.format(a))\n",
    "  print(a+\"\\n\")\n",
    "  files = files + files_part"
   ]
  },
  {
   "cell_type": "code",
   "execution_count": 70,
   "metadata": {},
   "outputs": [
    {
     "data": {
      "text/plain": [
       "['/home/eurismar/notebooks/c-rnn-gan/datadir/classical/mahler/1396mahler55.mid',\n",
       " '/home/eurismar/notebooks/c-rnn-gan/datadir/classical/mahler/1394mahl4mov1.mid',\n",
       " '/home/eurismar/notebooks/c-rnn-gan/datadir/classical/mahler/1397sym1mov1.mid',\n",
       " '/home/eurismar/notebooks/c-rnn-gan/datadir/classical/mahler/1395mahl4mov3.mid',\n",
       " '/home/eurismar/notebooks/c-rnn-gan/datadir/classical/mahler/559symphonyno5.mid',\n",
       " '/home/eurismar/notebooks/c-rnn-gan/datadir/classical/mahler/1398sym1mov2.mid',\n",
       " '/home/eurismar/notebooks/c-rnn-gan/datadir/classical/bach_teste/air.mid',\n",
       " '/home/eurismar/notebooks/c-rnn-gan/datadir/classical/bach_teste/2467lvbminuet.mid']"
      ]
     },
     "execution_count": 70,
     "metadata": {},
     "output_type": "execute_result"
    }
   ],
   "source": [
    "files"
   ]
  },
  {
   "cell_type": "code",
   "execution_count": 71,
   "metadata": {
    "collapsed": true
   },
   "outputs": [],
   "source": [
    "#path = '/home/eurismar/notebooks/Music_Generator_Demo/Pop_Music_Midi'\n",
    "#files = glob.glob('{}/*.mid*'.format(path))"
   ]
  },
  {
   "cell_type": "code",
   "execution_count": 73,
   "metadata": {
    "collapsed": true
   },
   "outputs": [],
   "source": [
    "file = '/home/eurismar/notebooks/c-rnn-gan/datadir/classical/mahler/1396mahler55.mid'\n",
    "\n",
    "midi = converter.parse(file)"
   ]
  },
  {
   "cell_type": "code",
   "execution_count": null,
   "metadata": {
    "collapsed": true
   },
   "outputs": [],
   "source": []
  },
  {
   "cell_type": "code",
   "execution_count": null,
   "metadata": {
    "collapsed": true
   },
   "outputs": [],
   "source": []
  },
  {
   "cell_type": "code",
   "execution_count": null,
   "metadata": {
    "collapsed": true
   },
   "outputs": [],
   "source": []
  },
  {
   "cell_type": "code",
   "execution_count": 72,
   "metadata": {},
   "outputs": [
    {
     "name": "stdout",
     "output_type": "stream",
     "text": [
      "/home/eurismar/notebooks/c-rnn-gan/datadir/classical/mahler/1396mahler55.mid\n"
     ]
    },
    {
     "ename": "KeyboardInterrupt",
     "evalue": "",
     "output_type": "error",
     "traceback": [
      "\u001b[0;31m---------------------------------------------------------------------------\u001b[0m",
      "\u001b[0;31mKeyboardInterrupt\u001b[0m                         Traceback (most recent call last)",
      "\u001b[0;32m<ipython-input-72-b706d217ef3d>\u001b[0m in \u001b[0;36m<module>\u001b[0;34m()\u001b[0m\n\u001b[1;32m      4\u001b[0m \u001b[0;32mfor\u001b[0m \u001b[0mfile\u001b[0m \u001b[0;32min\u001b[0m \u001b[0mfiles\u001b[0m\u001b[0;34m:\u001b[0m\u001b[0;34m\u001b[0m\u001b[0m\n\u001b[1;32m      5\u001b[0m     \u001b[0mprint\u001b[0m\u001b[0;34m(\u001b[0m\u001b[0mfile\u001b[0m\u001b[0;34m)\u001b[0m\u001b[0;34m\u001b[0m\u001b[0m\n\u001b[0;32m----> 6\u001b[0;31m     \u001b[0mmidi\u001b[0m \u001b[0;34m=\u001b[0m \u001b[0mconverter\u001b[0m\u001b[0;34m.\u001b[0m\u001b[0mparse\u001b[0m\u001b[0;34m(\u001b[0m\u001b[0mfile\u001b[0m\u001b[0;34m)\u001b[0m\u001b[0;34m\u001b[0m\u001b[0m\n\u001b[0m\u001b[1;32m      7\u001b[0m     \u001b[0mpart0\u001b[0m \u001b[0;34m=\u001b[0m \u001b[0mmidi\u001b[0m\u001b[0;34m[\u001b[0m\u001b[0;36m0\u001b[0m\u001b[0;34m]\u001b[0m\u001b[0;34m\u001b[0m\u001b[0m\n\u001b[1;32m      8\u001b[0m \u001b[0;34m\u001b[0m\u001b[0m\n",
      "\u001b[0;32m~/anaconda3/lib/python3.6/site-packages/music21/converter/__init__.py\u001b[0m in \u001b[0;36mparse\u001b[0;34m(value, *args, **keywords)\u001b[0m\n\u001b[1;32m   1108\u001b[0m     \u001b[0;32melif\u001b[0m \u001b[0mos\u001b[0m\u001b[0;34m.\u001b[0m\u001b[0mpath\u001b[0m\u001b[0;34m.\u001b[0m\u001b[0mexists\u001b[0m\u001b[0;34m(\u001b[0m\u001b[0mvalue\u001b[0m\u001b[0;34m)\u001b[0m\u001b[0;34m:\u001b[0m\u001b[0;34m\u001b[0m\u001b[0m\n\u001b[1;32m   1109\u001b[0m         return parseFile(value, number=number, format=m21Format,\n\u001b[0;32m-> 1110\u001b[0;31m                          forceSource=forceSource, **keywords)\n\u001b[0m\u001b[1;32m   1111\u001b[0m     \u001b[0;32melif\u001b[0m \u001b[0mos\u001b[0m\u001b[0;34m.\u001b[0m\u001b[0mpath\u001b[0m\u001b[0;34m.\u001b[0m\u001b[0mexists\u001b[0m\u001b[0;34m(\u001b[0m\u001b[0mcommon\u001b[0m\u001b[0;34m.\u001b[0m\u001b[0mcleanpath\u001b[0m\u001b[0;34m(\u001b[0m\u001b[0mvalue\u001b[0m\u001b[0;34m)\u001b[0m\u001b[0;34m)\u001b[0m\u001b[0;34m:\u001b[0m\u001b[0;34m\u001b[0m\u001b[0m\n\u001b[1;32m   1112\u001b[0m         return parseFile(common.cleanpath(value), number=number, format=m21Format,\n",
      "\u001b[0;32m~/anaconda3/lib/python3.6/site-packages/music21/converter/__init__.py\u001b[0m in \u001b[0;36mparseFile\u001b[0;34m(fp, number, format, forceSource, **keywords)\u001b[0m\n\u001b[1;32m    996\u001b[0m     \u001b[0mv\u001b[0m \u001b[0;34m=\u001b[0m \u001b[0mConverter\u001b[0m\u001b[0;34m(\u001b[0m\u001b[0;34m)\u001b[0m\u001b[0;34m\u001b[0m\u001b[0m\n\u001b[1;32m    997\u001b[0m     \u001b[0mfp\u001b[0m \u001b[0;34m=\u001b[0m \u001b[0mcommon\u001b[0m\u001b[0;34m.\u001b[0m\u001b[0mcleanpath\u001b[0m\u001b[0;34m(\u001b[0m\u001b[0mfp\u001b[0m\u001b[0;34m)\u001b[0m\u001b[0;34m\u001b[0m\u001b[0m\n\u001b[0;32m--> 998\u001b[0;31m     \u001b[0mv\u001b[0m\u001b[0;34m.\u001b[0m\u001b[0mparseFile\u001b[0m\u001b[0;34m(\u001b[0m\u001b[0mfp\u001b[0m\u001b[0;34m,\u001b[0m \u001b[0mnumber\u001b[0m\u001b[0;34m=\u001b[0m\u001b[0mnumber\u001b[0m\u001b[0;34m,\u001b[0m \u001b[0mformat\u001b[0m\u001b[0;34m=\u001b[0m\u001b[0mformat\u001b[0m\u001b[0;34m,\u001b[0m \u001b[0mforceSource\u001b[0m\u001b[0;34m=\u001b[0m\u001b[0mforceSource\u001b[0m\u001b[0;34m,\u001b[0m \u001b[0;34m**\u001b[0m\u001b[0mkeywords\u001b[0m\u001b[0;34m)\u001b[0m\u001b[0;34m\u001b[0m\u001b[0m\n\u001b[0m\u001b[1;32m    999\u001b[0m     \u001b[0;32mreturn\u001b[0m \u001b[0mv\u001b[0m\u001b[0;34m.\u001b[0m\u001b[0mstream\u001b[0m\u001b[0;34m\u001b[0m\u001b[0m\n\u001b[1;32m   1000\u001b[0m \u001b[0;34m\u001b[0m\u001b[0m\n",
      "\u001b[0;32m~/anaconda3/lib/python3.6/site-packages/music21/converter/__init__.py\u001b[0m in \u001b[0;36mparseFile\u001b[0;34m(self, fp, number, format, forceSource, storePickle, **keywords)\u001b[0m\n\u001b[1;32m    531\u001b[0m         \u001b[0;32melse\u001b[0m\u001b[0;34m:\u001b[0m\u001b[0;34m\u001b[0m\u001b[0m\n\u001b[1;32m    532\u001b[0m             \u001b[0menvironLocal\u001b[0m\u001b[0;34m.\u001b[0m\u001b[0mprintDebug\u001b[0m\u001b[0;34m(\u001b[0m\u001b[0;34m\"Loading original version\"\u001b[0m\u001b[0;34m)\u001b[0m\u001b[0;34m\u001b[0m\u001b[0m\n\u001b[0;32m--> 533\u001b[0;31m             \u001b[0mself\u001b[0m\u001b[0;34m.\u001b[0m\u001b[0mparseFileNoPickle\u001b[0m\u001b[0;34m(\u001b[0m\u001b[0mfp\u001b[0m\u001b[0;34m,\u001b[0m \u001b[0mnumber\u001b[0m\u001b[0;34m,\u001b[0m \u001b[0mformat\u001b[0m\u001b[0;34m,\u001b[0m \u001b[0mforceSource\u001b[0m\u001b[0;34m,\u001b[0m \u001b[0;34m**\u001b[0m\u001b[0mkeywords\u001b[0m\u001b[0;34m)\u001b[0m\u001b[0;34m\u001b[0m\u001b[0m\n\u001b[0m\u001b[1;32m    534\u001b[0m             \u001b[0;32mif\u001b[0m \u001b[0mwritePickle\u001b[0m \u001b[0;32mis\u001b[0m \u001b[0;32mTrue\u001b[0m \u001b[0;32mand\u001b[0m \u001b[0mfpPickle\u001b[0m \u001b[0;32mis\u001b[0m \u001b[0;32mnot\u001b[0m \u001b[0;32mNone\u001b[0m \u001b[0;32mand\u001b[0m \u001b[0mstorePickle\u001b[0m \u001b[0;32mis\u001b[0m \u001b[0;32mTrue\u001b[0m\u001b[0;34m:\u001b[0m\u001b[0;34m\u001b[0m\u001b[0m\n\u001b[1;32m    535\u001b[0m                 \u001b[0;31m# save the stream to disk...\u001b[0m\u001b[0;34m\u001b[0m\u001b[0;34m\u001b[0m\u001b[0m\n",
      "\u001b[0;32m~/anaconda3/lib/python3.6/site-packages/music21/converter/__init__.py\u001b[0m in \u001b[0;36mparseFileNoPickle\u001b[0;34m(self, fp, number, format, forceSource, **keywords)\u001b[0m\n\u001b[1;32m    465\u001b[0m         \u001b[0mself\u001b[0m\u001b[0;34m.\u001b[0m\u001b[0msubConverter\u001b[0m\u001b[0;34m.\u001b[0m\u001b[0mkeywords\u001b[0m \u001b[0;34m=\u001b[0m \u001b[0mkeywords\u001b[0m\u001b[0;34m\u001b[0m\u001b[0m\n\u001b[1;32m    466\u001b[0m         \u001b[0;32mtry\u001b[0m\u001b[0;34m:\u001b[0m\u001b[0;34m\u001b[0m\u001b[0m\n\u001b[0;32m--> 467\u001b[0;31m             \u001b[0mself\u001b[0m\u001b[0;34m.\u001b[0m\u001b[0msubConverter\u001b[0m\u001b[0;34m.\u001b[0m\u001b[0mparseFile\u001b[0m\u001b[0;34m(\u001b[0m\u001b[0mfp\u001b[0m\u001b[0;34m,\u001b[0m \u001b[0mnumber\u001b[0m\u001b[0;34m=\u001b[0m\u001b[0mnumber\u001b[0m\u001b[0;34m,\u001b[0m \u001b[0;34m**\u001b[0m\u001b[0mkeywords\u001b[0m\u001b[0;34m)\u001b[0m\u001b[0;34m\u001b[0m\u001b[0m\n\u001b[0m\u001b[1;32m    468\u001b[0m         \u001b[0;32mexcept\u001b[0m \u001b[0mNotImplementedError\u001b[0m\u001b[0;34m:\u001b[0m\u001b[0;34m\u001b[0m\u001b[0m\n\u001b[1;32m    469\u001b[0m             \u001b[0;32mraise\u001b[0m \u001b[0mConverterFileException\u001b[0m\u001b[0;34m(\u001b[0m\u001b[0;34m'File is not in a correct format: %s'\u001b[0m \u001b[0;34m%\u001b[0m \u001b[0mfp\u001b[0m\u001b[0;34m)\u001b[0m\u001b[0;34m\u001b[0m\u001b[0m\n",
      "\u001b[0;32m~/anaconda3/lib/python3.6/site-packages/music21/converter/subConverters.py\u001b[0m in \u001b[0;36mparseFile\u001b[0;34m(self, fp, number, **keywords)\u001b[0m\n\u001b[1;32m    917\u001b[0m         '''\n\u001b[1;32m    918\u001b[0m         \u001b[0;32mfrom\u001b[0m \u001b[0mmusic21\u001b[0m\u001b[0;34m.\u001b[0m\u001b[0mmidi\u001b[0m \u001b[0;32mimport\u001b[0m \u001b[0mtranslate\u001b[0m \u001b[0;32mas\u001b[0m \u001b[0mmidiTranslate\u001b[0m\u001b[0;34m\u001b[0m\u001b[0m\n\u001b[0;32m--> 919\u001b[0;31m         \u001b[0mmidiTranslate\u001b[0m\u001b[0;34m.\u001b[0m\u001b[0mmidiFilePathToStream\u001b[0m\u001b[0;34m(\u001b[0m\u001b[0mfp\u001b[0m\u001b[0;34m,\u001b[0m \u001b[0mself\u001b[0m\u001b[0;34m.\u001b[0m\u001b[0mstream\u001b[0m\u001b[0;34m,\u001b[0m \u001b[0;34m**\u001b[0m\u001b[0mkeywords\u001b[0m\u001b[0;34m)\u001b[0m\u001b[0;34m\u001b[0m\u001b[0m\n\u001b[0m\u001b[1;32m    920\u001b[0m \u001b[0;34m\u001b[0m\u001b[0m\n\u001b[1;32m    921\u001b[0m     \u001b[0;32mdef\u001b[0m \u001b[0mwrite\u001b[0m\u001b[0;34m(\u001b[0m\u001b[0mself\u001b[0m\u001b[0;34m,\u001b[0m \u001b[0mobj\u001b[0m\u001b[0;34m,\u001b[0m \u001b[0mfmt\u001b[0m\u001b[0;34m,\u001b[0m \u001b[0mfp\u001b[0m\u001b[0;34m=\u001b[0m\u001b[0;32mNone\u001b[0m\u001b[0;34m,\u001b[0m \u001b[0msubformats\u001b[0m\u001b[0;34m=\u001b[0m\u001b[0;32mNone\u001b[0m\u001b[0;34m,\u001b[0m \u001b[0;34m**\u001b[0m\u001b[0mkeywords\u001b[0m\u001b[0;34m)\u001b[0m\u001b[0;34m:\u001b[0m \u001b[0;31m# pragma: no cover\u001b[0m\u001b[0;34m\u001b[0m\u001b[0m\n",
      "\u001b[0;32m~/anaconda3/lib/python3.6/site-packages/music21/midi/translate.py\u001b[0m in \u001b[0;36mmidiFilePathToStream\u001b[0;34m(filePath, inputM21, **keywords)\u001b[0m\n\u001b[1;32m   1950\u001b[0m     \u001b[0mmf\u001b[0m\u001b[0;34m.\u001b[0m\u001b[0mread\u001b[0m\u001b[0;34m(\u001b[0m\u001b[0;34m)\u001b[0m\u001b[0;34m\u001b[0m\u001b[0m\n\u001b[1;32m   1951\u001b[0m     \u001b[0mmf\u001b[0m\u001b[0;34m.\u001b[0m\u001b[0mclose\u001b[0m\u001b[0;34m(\u001b[0m\u001b[0;34m)\u001b[0m\u001b[0;34m\u001b[0m\u001b[0m\n\u001b[0;32m-> 1952\u001b[0;31m     \u001b[0;32mreturn\u001b[0m \u001b[0mmidiFileToStream\u001b[0m\u001b[0;34m(\u001b[0m\u001b[0mmf\u001b[0m\u001b[0;34m,\u001b[0m \u001b[0minputM21\u001b[0m\u001b[0;34m,\u001b[0m \u001b[0;34m**\u001b[0m\u001b[0mkeywords\u001b[0m\u001b[0;34m)\u001b[0m\u001b[0;34m\u001b[0m\u001b[0m\n\u001b[0m\u001b[1;32m   1953\u001b[0m \u001b[0;34m\u001b[0m\u001b[0m\n\u001b[1;32m   1954\u001b[0m \u001b[0;34m\u001b[0m\u001b[0m\n",
      "\u001b[0;32m~/anaconda3/lib/python3.6/site-packages/music21/midi/translate.py\u001b[0m in \u001b[0;36mmidiFileToStream\u001b[0;34m(mf, inputM21, quantizePost, **keywords)\u001b[0m\n\u001b[1;32m   2091\u001b[0m                             \u001b[0mquantizePost\u001b[0m\u001b[0;34m=\u001b[0m\u001b[0mquantizePost\u001b[0m\u001b[0;34m,\u001b[0m\u001b[0;34m\u001b[0m\u001b[0m\n\u001b[1;32m   2092\u001b[0m                             \u001b[0minputM21\u001b[0m\u001b[0;34m=\u001b[0m\u001b[0ms\u001b[0m\u001b[0;34m,\u001b[0m\u001b[0;34m\u001b[0m\u001b[0m\n\u001b[0;32m-> 2093\u001b[0;31m                             **keywords)\n\u001b[0m\u001b[1;32m   2094\u001b[0m         \u001b[0;31m#s._setMidiTracks(mf.tracks, mf.ticksPerQuarterNote)\u001b[0m\u001b[0;34m\u001b[0m\u001b[0;34m\u001b[0m\u001b[0m\n\u001b[1;32m   2095\u001b[0m \u001b[0;34m\u001b[0m\u001b[0m\n",
      "\u001b[0;32m~/anaconda3/lib/python3.6/site-packages/music21/midi/translate.py\u001b[0m in \u001b[0;36mmidiTracksToStreams\u001b[0;34m(midiTracks, ticksPerQuarter, quantizePost, inputM21, **keywords)\u001b[0m\n\u001b[1;32m   1852\u001b[0m             \u001b[0mstreamPart\u001b[0m \u001b[0;34m=\u001b[0m \u001b[0mstream\u001b[0m\u001b[0;34m.\u001b[0m\u001b[0mPart\u001b[0m\u001b[0;34m(\u001b[0m\u001b[0;34m)\u001b[0m \u001b[0;31m# create a part instance for each part\u001b[0m\u001b[0;34m\u001b[0m\u001b[0m\n\u001b[1;32m   1853\u001b[0m             midiTrackToStream(mt, ticksPerQuarter, quantizePost,\n\u001b[0;32m-> 1854\u001b[0;31m                               inputM21=streamPart, **keywords)\n\u001b[0m\u001b[1;32m   1855\u001b[0m \u001b[0;31m#             streamPart._setMidiTracksPart(mt,\u001b[0m\u001b[0;34m\u001b[0m\u001b[0;34m\u001b[0m\u001b[0m\n\u001b[1;32m   1856\u001b[0m \u001b[0;31m#                 ticksPerQuarter=ticksPerQuarter, quantizePost=quantizePost)\u001b[0m\u001b[0;34m\u001b[0m\u001b[0;34m\u001b[0m\u001b[0m\n",
      "\u001b[0;32m~/anaconda3/lib/python3.6/site-packages/music21/midi/translate.py\u001b[0m in \u001b[0;36mmidiTrackToStream\u001b[0;34m(mt, ticksPerQuarter, quantizePost, inputM21, **keywords)\u001b[0m\n\u001b[1;32m   1637\u001b[0m         \u001b[0;32mpass\u001b[0m\u001b[0;34m\u001b[0m\u001b[0m\n\u001b[1;32m   1638\u001b[0m         \u001b[0;31m# this procedure will make the appropriate rests\u001b[0m\u001b[0;34m\u001b[0m\u001b[0;34m\u001b[0m\u001b[0m\n\u001b[0;32m-> 1639\u001b[0;31m         \u001b[0ms\u001b[0m\u001b[0;34m.\u001b[0m\u001b[0mmakeVoices\u001b[0m\u001b[0;34m(\u001b[0m\u001b[0minPlace\u001b[0m\u001b[0;34m=\u001b[0m\u001b[0;32mTrue\u001b[0m\u001b[0;34m,\u001b[0m \u001b[0mfillGaps\u001b[0m\u001b[0;34m=\u001b[0m\u001b[0;32mTrue\u001b[0m\u001b[0;34m)\u001b[0m\u001b[0;34m\u001b[0m\u001b[0m\n\u001b[0m\u001b[1;32m   1640\u001b[0m     \u001b[0;32melse\u001b[0m\u001b[0;34m:\u001b[0m\u001b[0;34m\u001b[0m\u001b[0m\n\u001b[1;32m   1641\u001b[0m         \u001b[0;31m# always need to fill gaps, as rests are not found in any other way\u001b[0m\u001b[0;34m\u001b[0m\u001b[0;34m\u001b[0m\u001b[0m\n",
      "\u001b[0;32m~/anaconda3/lib/python3.6/site-packages/music21/stream/__init__.py\u001b[0m in \u001b[0;36mmakeVoices\u001b[0;34m(self, inPlace, fillGaps)\u001b[0m\n\u001b[1;32m   9807\u001b[0m         \u001b[0;32mif\u001b[0m \u001b[0;32mnot\u001b[0m \u001b[0mreturnObj\u001b[0m\u001b[0;34m.\u001b[0m\u001b[0misSorted\u001b[0m\u001b[0;34m:\u001b[0m\u001b[0;34m\u001b[0m\u001b[0m\n\u001b[1;32m   9808\u001b[0m             \u001b[0mreturnObj\u001b[0m\u001b[0;34m.\u001b[0m\u001b[0msort\u001b[0m\u001b[0;34m(\u001b[0m\u001b[0;34m)\u001b[0m\u001b[0;34m\u001b[0m\u001b[0m\n\u001b[0;32m-> 9809\u001b[0;31m         \u001b[0molDict\u001b[0m \u001b[0;34m=\u001b[0m \u001b[0mreturnObj\u001b[0m\u001b[0;34m.\u001b[0m\u001b[0mnotes\u001b[0m\u001b[0;34m.\u001b[0m\u001b[0mstream\u001b[0m\u001b[0;34m(\u001b[0m\u001b[0;34m)\u001b[0m\u001b[0;34m.\u001b[0m\u001b[0mgetOverlaps\u001b[0m\u001b[0;34m(\u001b[0m\u001b[0;34m)\u001b[0m\u001b[0;34m\u001b[0m\u001b[0m\n\u001b[0m\u001b[1;32m   9810\u001b[0m         \u001b[0;31m#environLocal.printDebug(['makeVoices(): olDict', olDict])\u001b[0m\u001b[0;34m\u001b[0m\u001b[0;34m\u001b[0m\u001b[0m\n\u001b[1;32m   9811\u001b[0m         \u001b[0;31m# find the max necessary voices by finding the max number\u001b[0m\u001b[0;34m\u001b[0m\u001b[0;34m\u001b[0m\u001b[0m\n",
      "\u001b[0;32m~/anaconda3/lib/python3.6/site-packages/music21/stream/__init__.py\u001b[0m in \u001b[0;36mgetOverlaps\u001b[0;34m(self)\u001b[0m\n\u001b[1;32m   9462\u001b[0m \u001b[0;34m\u001b[0m\u001b[0m\n\u001b[1;32m   9463\u001b[0m         '''\n\u001b[0;32m-> 9464\u001b[0;31m         \u001b[0moverlapMap\u001b[0m \u001b[0;34m=\u001b[0m \u001b[0mself\u001b[0m\u001b[0;34m.\u001b[0m\u001b[0m_findLayering\u001b[0m\u001b[0;34m(\u001b[0m\u001b[0;34m)\u001b[0m\u001b[0;34m\u001b[0m\u001b[0m\n\u001b[0m\u001b[1;32m   9465\u001b[0m         \u001b[0;31m#environLocal.printDebug(['overlapMap', overlapMap])\u001b[0m\u001b[0;34m\u001b[0m\u001b[0;34m\u001b[0m\u001b[0m\n\u001b[1;32m   9466\u001b[0m \u001b[0;34m\u001b[0m\u001b[0m\n",
      "\u001b[0;32m~/anaconda3/lib/python3.6/site-packages/music21/stream/__init__.py\u001b[0m in \u001b[0;36m_findLayering\u001b[0;34m(self)\u001b[0m\n\u001b[1;32m   9273\u001b[0m                 \u001b[0;31m# construct our own hash key.  If we miss (as with '0.0' vs '0') it is not\u001b[0m\u001b[0;34m\u001b[0m\u001b[0;34m\u001b[0m\u001b[0m\n\u001b[1;32m   9274\u001b[0m                 \u001b[0;31m# a big deal, since it's just a speedup\u001b[0m\u001b[0;34m\u001b[0m\u001b[0;34m\u001b[0m\u001b[0m\n\u001b[0;32m-> 9275\u001b[0;31m                 \u001b[0mhashKey\u001b[0m \u001b[0;34m=\u001b[0m \u001b[0mstr\u001b[0m\u001b[0;34m(\u001b[0m\u001b[0msrc\u001b[0m\u001b[0;34m[\u001b[0m\u001b[0;36m0\u001b[0m\u001b[0;34m]\u001b[0m\u001b[0;34m)\u001b[0m \u001b[0;34m+\u001b[0m \u001b[0;34m','\u001b[0m \u001b[0;34m+\u001b[0m \u001b[0mstr\u001b[0m\u001b[0;34m(\u001b[0m\u001b[0msrc\u001b[0m\u001b[0;34m[\u001b[0m\u001b[0;36m1\u001b[0m\u001b[0;34m]\u001b[0m\u001b[0;34m)\u001b[0m \u001b[0;34m+\u001b[0m \u001b[0;34m':'\u001b[0m \u001b[0;34m+\u001b[0m \u001b[0mstr\u001b[0m\u001b[0;34m(\u001b[0m\u001b[0mdst\u001b[0m\u001b[0;34m[\u001b[0m\u001b[0;36m0\u001b[0m\u001b[0;34m]\u001b[0m\u001b[0;34m)\u001b[0m \u001b[0;34m+\u001b[0m \u001b[0;34m','\u001b[0m \u001b[0;34m+\u001b[0m \u001b[0mstr\u001b[0m\u001b[0;34m(\u001b[0m\u001b[0mdst\u001b[0m\u001b[0;34m[\u001b[0m\u001b[0;36m1\u001b[0m\u001b[0;34m]\u001b[0m\u001b[0;34m)\u001b[0m\u001b[0;34m\u001b[0m\u001b[0m\n\u001b[0m\u001b[1;32m   9276\u001b[0m \u001b[0;34m\u001b[0m\u001b[0m\n\u001b[1;32m   9277\u001b[0m                 \u001b[0;32mtry\u001b[0m\u001b[0;34m:\u001b[0m\u001b[0;34m\u001b[0m\u001b[0m\n",
      "\u001b[0;31mKeyboardInterrupt\u001b[0m: "
     ]
    }
   ],
   "source": [
    "coluna1 = []\n",
    "coluna2 = []\n",
    "coluna3 = []\n",
    "for file in files:\n",
    "    print(file)\n",
    "    midi = converter.parse(file)\n",
    "    part0 = midi[0]\n",
    "\n",
    "    melodia = part0.getElementsByClass(note.Note)\n",
    "    notas = melodia.getElementsByClass(note.Note)\n",
    "    for nota in notas:\n",
    "        coluna1.append(nota.pitch.midi)\n",
    "        coluna2.append(nota.duration.quarterLength)\n",
    "        coluna3.append(str(nota.pitch.midi)+\",\"+str(nota.duration.quarterLength))"
   ]
  },
  {
   "cell_type": "code",
   "execution_count": null,
   "metadata": {
    "collapsed": true
   },
   "outputs": [],
   "source": [
    "df = pd.DataFrame({\"nota\":coluna1,\"duracao\":coluna2,\"nota_duracao\":coluna3})"
   ]
  },
  {
   "cell_type": "code",
   "execution_count": null,
   "metadata": {},
   "outputs": [],
   "source": [
    "df.head()"
   ]
  },
  {
   "cell_type": "code",
   "execution_count": 8,
   "metadata": {
    "collapsed": true
   },
   "outputs": [],
   "source": [
    "nota_duracao = df.values[::,2]"
   ]
  },
  {
   "cell_type": "code",
   "execution_count": 9,
   "metadata": {},
   "outputs": [
    {
     "data": {
      "text/plain": [
       "(5893,)"
      ]
     },
     "execution_count": 9,
     "metadata": {},
     "output_type": "execute_result"
    }
   ],
   "source": [
    "nota_duracao.shape"
   ]
  },
  {
   "cell_type": "code",
   "execution_count": 10,
   "metadata": {
    "collapsed": true
   },
   "outputs": [],
   "source": [
    "# create mapping of unique chars to integers\n",
    "chars = sorted(list(set(nota_duracao)))\n",
    "char_to_int = dict((c, i) for i, c in enumerate(chars))"
   ]
  },
  {
   "cell_type": "code",
   "execution_count": 11,
   "metadata": {},
   "outputs": [
    {
     "name": "stdout",
     "output_type": "stream",
     "text": [
      "Total Characters:  5893\n",
      "Total Vocab:  237\n"
     ]
    }
   ],
   "source": [
    "n_chars = len(nota_duracao)\n",
    "n_vocab = len(chars)\n",
    "print(\"Total Characters: \", n_chars)\n",
    "print(\"Total Vocab: \", n_vocab)"
   ]
  },
  {
   "cell_type": "code",
   "execution_count": 12,
   "metadata": {},
   "outputs": [
    {
     "name": "stdout",
     "output_type": "stream",
     "text": [
      "Total Patterns:  5793\n"
     ]
    }
   ],
   "source": [
    "# prepare the dataset of input to output pairs encoded as integers\n",
    "seq_length = 100\n",
    "dataX = []\n",
    "dataY = []\n",
    "for i in range(0, n_chars - seq_length, 1):\n",
    "\tseq_in = nota_duracao[i:i + seq_length]\n",
    "\tseq_out = nota_duracao[i + seq_length]\n",
    "\tdataX.append([char_to_int[char] for char in seq_in])\n",
    "\tdataY.append(char_to_int[seq_out])\n",
    "n_patterns = len(dataX)\n",
    "print(\"Total Patterns: \", n_patterns)"
   ]
  },
  {
   "cell_type": "code",
   "execution_count": 13,
   "metadata": {
    "collapsed": true
   },
   "outputs": [],
   "source": [
    "# reshape X to be [samples, time steps, features]\n",
    "X = numpy.reshape(dataX, (n_patterns, seq_length, 1))\n",
    "# normalize\n",
    "X = X / float(n_vocab)\n",
    "# one hot encode the output variable\n",
    "y = np_utils.to_categorical(dataY)"
   ]
  },
  {
   "cell_type": "code",
   "execution_count": 14,
   "metadata": {
    "collapsed": true
   },
   "outputs": [],
   "source": [
    "X_train, X_test, y_train, y_test = train_test_split(X, y, test_size=0.30, random_state=42,shuffle=False)"
   ]
  },
  {
   "cell_type": "code",
   "execution_count": 39,
   "metadata": {
    "collapsed": true
   },
   "outputs": [],
   "source": [
    "# define the LSTM model\n",
    "model = Sequential()\n",
    "model.add(LSTM(256, input_shape=(X.shape[1], X.shape[2])))\n",
    "#model.add(LSTM(256, input_shape=(X.shape[1], X.shape[2]),return_sequences=True))\n",
    "#model.add(Dropout(0.2))\n",
    "#model.add(LSTM(512))\n",
    "#model.add(Dropout(0.2))\n",
    "model.add(Dense(y.shape[1], activation='softmax'))\n",
    "adam = Adam(lr=0.01)\n",
    "model.compile(loss='categorical_crossentropy', optimizer=adam,metrics=['accuracy'])"
   ]
  },
  {
   "cell_type": "code",
   "execution_count": 40,
   "metadata": {},
   "outputs": [
    {
     "name": "stdout",
     "output_type": "stream",
     "text": [
      "_________________________________________________________________\n",
      "Layer (type)                 Output Shape              Param #   \n",
      "=================================================================\n",
      "lstm_9 (LSTM)                (None, 100, 256)          264192    \n",
      "_________________________________________________________________\n",
      "dropout_9 (Dropout)          (None, 100, 256)          0         \n",
      "_________________________________________________________________\n",
      "lstm_10 (LSTM)               (None, 512)               1574912   \n",
      "_________________________________________________________________\n",
      "dropout_10 (Dropout)         (None, 512)               0         \n",
      "_________________________________________________________________\n",
      "dense_6 (Dense)              (None, 237)               121581    \n",
      "=================================================================\n",
      "Total params: 1,960,685\n",
      "Trainable params: 1,960,685\n",
      "Non-trainable params: 0\n",
      "_________________________________________________________________\n"
     ]
    }
   ],
   "source": [
    "model.summary()"
   ]
  },
  {
   "cell_type": "code",
   "execution_count": 45,
   "metadata": {
    "collapsed": true
   },
   "outputs": [],
   "source": [
    "!rm weights-improvemen*"
   ]
  },
  {
   "cell_type": "code",
   "execution_count": 42,
   "metadata": {
    "collapsed": true
   },
   "outputs": [],
   "source": [
    "# define the checkpoint\n",
    "filepath=\"weights-improvement-{epoch:02d}-{loss:.4f}.hdf5\"\n",
    "checkpoint = ModelCheckpoint(filepath, monitor='loss', verbose=1, save_best_only=True, mode='min')\n",
    "callbacks_list = [checkpoint]"
   ]
  },
  {
   "cell_type": "code",
   "execution_count": 43,
   "metadata": {},
   "outputs": [
    {
     "name": "stdout",
     "output_type": "stream",
     "text": [
      "Train on 5793 samples, validate on 580 samples\n",
      "Epoch 1/20\n",
      "5760/5793 [============================>.] - ETA: 0s - loss: 5.8766 - acc: 0.0337Epoch 00000: loss improved from inf to 5.86454, saving model to weights-improvement-00-5.8645.hdf5\n",
      "5793/5793 [==============================] - 36s - loss: 5.8645 - acc: 0.0337 - val_loss: 5.5173 - val_acc: 0.0517\n",
      "Epoch 2/20\n",
      "5760/5793 [============================>.] - ETA: 0s - loss: 5.4369 - acc: 0.0373Epoch 00001: loss improved from 5.86454 to 5.42695, saving model to weights-improvement-01-5.4270.hdf5\n",
      "5793/5793 [==============================] - 40s - loss: 5.4270 - acc: 0.0371 - val_loss: 5.4309 - val_acc: 0.0517\n",
      "Epoch 3/20\n",
      "5760/5793 [============================>.] - ETA: 0s - loss: 5.4363 - acc: 0.0378Epoch 00002: loss improved from 5.42695 to 5.42671, saving model to weights-improvement-02-5.4267.hdf5\n",
      "5793/5793 [==============================] - 35s - loss: 5.4267 - acc: 0.0378 - val_loss: 5.4438 - val_acc: 0.0517\n",
      "Epoch 4/20\n",
      "5760/5793 [============================>.] - ETA: 0s - loss: 5.4577 - acc: 0.0375Epoch 00003: loss did not improve\n",
      "5793/5793 [==============================] - 37s - loss: 5.4480 - acc: 0.0373 - val_loss: 5.4778 - val_acc: 0.0517\n",
      "Epoch 5/20\n",
      "5760/5793 [============================>.] - ETA: 0s - loss: 5.4547 - acc: 0.0340Epoch 00004: loss did not improve\n",
      "5793/5793 [==============================] - 38s - loss: 5.4450 - acc: 0.0342 - val_loss: 5.4599 - val_acc: 0.0517\n",
      "Epoch 6/20\n",
      "5760/5793 [============================>.] - ETA: 0s - loss: 5.4592 - acc: 0.0363Epoch 00005: loss did not improve\n",
      "5793/5793 [==============================] - 34s - loss: 5.4483 - acc: 0.0364 - val_loss: 5.4822 - val_acc: 0.0517\n",
      "Epoch 7/20\n",
      "5760/5793 [============================>.] - ETA: 0s - loss: 5.4711 - acc: 0.0352Epoch 00006: loss did not improve\n",
      "5793/5793 [==============================] - 35s - loss: 5.4605 - acc: 0.0352 - val_loss: 5.4506 - val_acc: 0.0517\n",
      "Epoch 8/20\n",
      "5760/5793 [============================>.] - ETA: 0s - loss: 5.4558 - acc: 0.0382Epoch 00007: loss did not improve\n",
      "5793/5793 [==============================] - 34s - loss: 5.4454 - acc: 0.0380 - val_loss: 5.4702 - val_acc: 0.0517\n",
      "Epoch 9/20\n",
      "5760/5793 [============================>.] - ETA: 0s - loss: 5.4528 - acc: 0.0370Epoch 00008: loss did not improve\n",
      "5793/5793 [==============================] - 34s - loss: 5.4423 - acc: 0.0368 - val_loss: 5.4469 - val_acc: 0.0517\n",
      "Epoch 10/20\n",
      "5760/5793 [============================>.] - ETA: 0s - loss: 5.4539 - acc: 0.0377Epoch 00009: loss did not improve\n",
      "5793/5793 [==============================] - 34s - loss: 5.4432 - acc: 0.0376 - val_loss: 5.4766 - val_acc: 0.0517\n",
      "Epoch 11/20\n",
      "5760/5793 [============================>.] - ETA: 0s - loss: 5.4623 - acc: 0.0365Epoch 00010: loss did not improve\n",
      "5793/5793 [==============================] - 34s - loss: 5.4518 - acc: 0.0366 - val_loss: 5.4537 - val_acc: 0.0517\n",
      "Epoch 12/20\n",
      "5760/5793 [============================>.] - ETA: 0s - loss: 5.4547 - acc: 0.0389Epoch 00011: loss did not improve\n",
      "5793/5793 [==============================] - 34s - loss: 5.4448 - acc: 0.0387 - val_loss: 5.4920 - val_acc: 0.0517\n",
      "Epoch 13/20\n",
      "5760/5793 [============================>.] - ETA: 0s - loss: 5.4558 - acc: 0.0375Epoch 00012: loss did not improve\n",
      "5793/5793 [==============================] - 34s - loss: 5.4454 - acc: 0.0375 - val_loss: 5.4562 - val_acc: 0.0517\n",
      "Epoch 14/20\n",
      "5760/5793 [============================>.] - ETA: 0s - loss: 5.4579 - acc: 0.0391Epoch 00013: loss did not improve\n",
      "5793/5793 [==============================] - 34s - loss: 5.4476 - acc: 0.0388 - val_loss: 5.4763 - val_acc: 0.0517\n",
      "Epoch 15/20\n",
      "5760/5793 [============================>.] - ETA: 0s - loss: 5.4610 - acc: 0.0372Epoch 00014: loss did not improve\n",
      "5793/5793 [==============================] - 34s - loss: 5.4505 - acc: 0.0369 - val_loss: 5.4866 - val_acc: 0.0517\n",
      "Epoch 16/20\n",
      "5760/5793 [============================>.] - ETA: 0s - loss: 5.4569 - acc: 0.0380Epoch 00015: loss did not improve\n",
      "5793/5793 [==============================] - 34s - loss: 5.4461 - acc: 0.0378 - val_loss: 5.4832 - val_acc: 0.0517\n",
      "Epoch 17/20\n",
      "5760/5793 [============================>.] - ETA: 0s - loss: 5.4577 - acc: 0.0365Epoch 00016: loss did not improve\n",
      "5793/5793 [==============================] - 34s - loss: 5.4466 - acc: 0.0363 - val_loss: 5.4781 - val_acc: 0.0517\n",
      "Epoch 18/20\n",
      "5760/5793 [============================>.] - ETA: 0s - loss: 5.4609 - acc: 0.0363Epoch 00017: loss did not improve\n",
      "5793/5793 [==============================] - 34s - loss: 5.4506 - acc: 0.0364 - val_loss: 5.4835 - val_acc: 0.0517\n",
      "Epoch 19/20\n",
      "5760/5793 [============================>.] - ETA: 0s - loss: 5.4624 - acc: 0.0368Epoch 00018: loss did not improve\n",
      "5793/5793 [==============================] - 34s - loss: 5.4519 - acc: 0.0366 - val_loss: 5.4947 - val_acc: 0.0517\n",
      "Epoch 20/20\n",
      "5760/5793 [============================>.] - ETA: 0s - loss: 5.4630 - acc: 0.0375Epoch 00019: loss did not improve\n",
      "5793/5793 [==============================] - 34s - loss: 5.4526 - acc: 0.0373 - val_loss: 5.4778 - val_acc: 0.0517\n"
     ]
    }
   ],
   "source": [
    "history = model.fit(X, y,validation_data=(X_test,y_test), epochs=20, batch_size=128, callbacks=callbacks_list,shuffle=False)"
   ]
  },
  {
   "cell_type": "code",
   "execution_count": 44,
   "metadata": {},
   "outputs": [
    {
     "name": "stdout",
     "output_type": "stream",
     "text": [
      "dict_keys(['val_loss', 'val_acc', 'loss', 'acc'])\n"
     ]
    },
    {
     "data": {
      "image/png": "[encoded data removed]",
      "text/plain": [
       "<matplotlib.figure.Figure at 0x7f82b2853f98>"
      ]
     },
     "metadata": {
      "image/png": {
       "height": 277,
       "width": 406
      }
     },
     "output_type": "display_data"
    },
    {
     "data": {
      "text/plain": [
       "<matplotlib.legend.Legend at 0x7f82b27f5ef0>"
      ]
     },
     "execution_count": 44,
     "metadata": {},
     "output_type": "execute_result"
    },
    {
     "data": {
      "image/png": "[encoded data removed]",
      "text/plain": [
       "<matplotlib.figure.Figure at 0x7f82b282bf60>"
      ]
     },
     "metadata": {
      "image/png": {
       "height": 277,
       "width": 387
      }
     },
     "output_type": "display_data"
    }
   ],
   "source": [
    "\n",
    "# list all data in history\n",
    "print(history.history.keys())\n",
    "# summarize history for accuracy\n",
    "plt.plot(history.history['acc'])\n",
    "plt.plot(history.history['val_acc'])\n",
    "plt.title('model accuracy')\n",
    "plt.ylabel('accuracy')\n",
    "plt.xlabel('epoch')\n",
    "plt.legend(['train', 'test'], loc='upper left')\n",
    "plt.show()\n",
    "# summarize history for loss\n",
    "plt.plot(history.history['loss'])\n",
    "plt.plot(history.history['val_loss'])\n",
    "plt.title('model loss')\n",
    "plt.ylabel('loss')\n",
    "plt.xlabel('epoch')\n",
    "plt.legend(['train', 'test'], loc='upper left')\n",
    "\n",
    "\n",
    "# summarize history for loss\n",
    "plt.plot(history.history['loss'])\n",
    "plt.plot(history.history['val_loss'])\n",
    "plt.title('model loss')\n",
    "plt.ylabel('loss')\n",
    "plt.xlabel('epoch')\n",
    "plt.legend(['train', 'test'], loc='upper left')"
   ]
  },
  {
   "cell_type": "code",
   "execution_count": 25,
   "metadata": {
    "collapsed": true
   },
   "outputs": [],
   "source": [
    "# load the network weights\n",
    "filename = \"weights-improvement-19-3.5428.hdf5\"\n",
    "model.load_weights(filename)\n",
    "model.compile(loss='categorical_crossentropy', optimizer='adam')"
   ]
  },
  {
   "cell_type": "code",
   "execution_count": 26,
   "metadata": {
    "collapsed": true
   },
   "outputs": [],
   "source": [
    "int_to_char = dict((i, c) for i, c in enumerate(chars))"
   ]
  },
  {
   "cell_type": "code",
   "execution_count": 27,
   "metadata": {},
   "outputs": [
    {
     "name": "stdout",
     "output_type": "stream",
     "text": [
      "Seed:\n",
      "\" 60,3.564,0.567,1.067,1.064,1.065,1.064,0.562,2.564,0.567,1.067,1.064,0.564,0.565,0.564,1.062,2.560,2.062,2.064,2.065,1.065,1.064,4.067,1.065,0.564,1.057,0.559,0.2560,0.7562,0.2560,0.555,0.7557,0.559,0.2560,0.562,0.560,1.2557,0.559,0.2560,0.7560,0.2562,0.2560,0.2555,0.564,0.7565,0.564,0.2562,0.7564,0.2560,0.2562,1.057,0.559,0.2560,0.562,0.7560,0.2555,0.7557,0.559,0.2560,0.562,0.560,1.2557,0.559,0.2560,0.555,0.2555,0.567,0.564,0.560,0.2557,0.7565,0.564,0.2562,0.7564,0.2562,1.055,0.2560,0.2560,0.2560,0.2560,0.2560,0.2560,0.2562,0.564,1.060,0.2560,0.2560,0.2560,0.2560,0.564,0.559,0.559,0.560,0.560,0.2560,0.2560,0.2560,0.2560,0.2560,0.2562,0.5 \"\n",
      "-------------------------------------\n",
      "60,0.560,0.560,0.560,0.560,0.560,0.560,0.560,0.560,0.560,0.560,0.560,0.560,0.560,0.560,0.560,0.560,0.560,0.560,0.560,0.560,0.560,0.560,0.560,0.560,0.560,0.560,0.560,0.560,0.560,0.560,0.560,0.560,0.560,0.560,0.560,0.560,0.560,0.560,0.560,0.560,0.560,0.560,0.560,0.560,0.560,0.560,0.560,0.560,0.560,0.560,0.560,0.560,0.560,0.560,0.560,0.560,0.560,0.560,0.560,0.560,0.560,0.560,0.560,0.560,0.560,0.560,0.560,0.560,0.560,0.560,0.560,0.560,0.560,0.560,0.560,0.560,0.560,0.560,0.560,0.560,0.560,0.560,0.560,0.560,0.560,0.560,0.560,0.560,0.560,0.560,0.560,0.560,0.560,0.560,0.560,0.560,0.560,0.560,0.560,0.560,0.560,0.560,0.560,0.560,0.560,0.560,0.560,0.560,0.560,0.560,0.560,0.560,0.560,0.560,0.560,0.560,0.560,0.560,0.560,0.560,0.560,0.560,0.560,0.560,0.560,0.560,0.560,0.560,0.560,0.560,0.560,0.560,0.560,0.560,0.560,0.560,0.560,0.560,0.560,0.560,0.560,0.560,0.560,0.560,0.560,0.560,0.560,0.560,0.560,0.560,0.560,0.560,0.560,0.560,0.560,0.560,0.560,0.560,0.560,0.560,0.560,0.560,0.560,0.560,0.560,0.560,0.560,0.560,0.560,0.560,0.560,0.560,0.560,0.560,0.560,0.560,0.560,0.560,0.560,0.560,0.560,0.560,0.560,0.560,0.560,0.560,0.560,0.560,0.560,0.560,0.560,0.560,0.560,0.560,0.560,0.560,0.560,0.560,0.560,0.560,0.560,0.560,0.560,0.560,0.560,0.560,0.560,0.560,0.560,0.560,0.560,0.560,0.560,0.560,0.560,0.560,0.560,0.560,0.560,0.560,0.560,0.560,0.560,0.560,0.560,0.560,0.560,0.560,0.560,0.560,0.560,0.560,0.560,0.560,0.560,0.560,0.560,0.560,0.560,0.560,0.560,0.560,0.560,0.560,0.560,0.560,0.560,0.560,0.560,0.560,0.560,0.560,0.560,0.560,0.560,0.560,0.560,0.560,0.560,0.560,0.560,0.560,0.560,0.560,0.560,0.560,0.560,0.560,0.560,0.560,0.560,0.560,0.560,0.560,0.560,0.560,0.560,0.560,0.560,0.560,0.560,0.560,0.560,0.560,0.560,0.560,0.560,0.560,0.560,0.560,0.560,0.560,0.560,0.560,0.560,0.560,0.560,0.560,0.560,0.560,0.560,0.560,0.560,0.560,0.560,0.560,0.560,0.560,0.560,0.560,0.560,0.560,0.560,0.560,0.560,0.560,0.560,0.560,0.560,0.560,0.560,0.560,0.560,0.560,0.560,0.560,0.560,0.560,0.560,0.560,0.560,0.560,0.560,0.560,0.560,0.560,0.560,0.560,0.560,0.560,0.560,0.560,0.560,0.560,0.560,0.560,0.560,0.560,0.560,0.560,0.560,0.560,0.560,0.560,0.560,0.560,0.560,0.560,0.560,0.560,0.560,0.560,0.560,0.560,0.560,0.560,0.560,0.560,0.560,0.560,0.560,0.560,0.560,0.560,0.560,0.560,0.560,0.560,0.560,0.560,0.560,0.560,0.560,0.560,0.560,0.560,0.560,0.560,0.560,0.560,0.560,0.560,0.560,0.560,0.560,0.560,0.560,0.560,0.560,0.560,0.560,0.560,0.560,0.560,0.560,0.560,0.560,0.560,0.560,0.560,0.560,0.560,0.560,0.560,0.560,0.560,0.560,0.560,0.560,0.560,0.560,0.560,0.560,0.560,0.560,0.560,0.560,0.560,0.560,0.560,0.560,0.560,0.560,0.560,0.560,0.560,0.560,0.560,0.560,0.560,0.560,0.560,0.560,0.560,0.560,0.560,0.560,0.560,0.560,0.560,0.560,0.560,0.560,0.560,0.560,0.560,0.560,0.560,0.560,0.560,0.560,0.560,0.560,0.560,0.560,0.560,0.560,0.560,0.560,0.560,0.560,0.560,0.560,0.560,0.560,0.560,0.560,0.560,0.560,0.560,0.560,0.560,0.560,0.560,0.560,0.560,0.560,0.560,0.560,0.560,0.560,0.560,0.560,0.560,0.560,0.560,0.560,0.560,0.560,0.560,0.560,0.560,0.560,0.560,0.560,0.560,0.560,0.560,0.560,0.560,0.560,0.560,0.560,0.560,0.560,0.560,0.560,0.560,0.560,0.560,0.560,0.560,0.560,0.560,0.560,0.560,0.560,0.560,0.560,0.560,0.560,0.560,0.560,0.560,0.560,0.560,0.560,0.560,0.560,0.560,0.560,0.560,0.560,0.560,0.560,0.560,0.560,0.560,0.560,0.560,0.560,0.560,0.560,0.560,0.560,0.560,0.560,0.560,0.560,0.560,0.560,0.560,0.560,0.560,0.560,0.560,0.560,0.560,0.560,0.560,0.560,0.560,0.560,0.560,0.560,0.560,0.560,0.560,0.560,0.560,0.560,0.560,0.560,0.560,0.560,0.560,0.560,0.560,0.560,0.560,0.560,0.560,0.560,0.560,0.560,0.560,0.560,0.560,0.560,0.560,0.560,0.560,0.560,0.560,0.560,0.560,0.560,0.560,0.560,0.560,0.560,0.560,0.560,0.560,0.560,0.560,0.560,0.560,0.560,0.560,0.560,0.560,0.560,0.560,0.560,0.560,0.560,0.560,0.560,0.560,0.560,0.560,0.560,0.560,0.560,0.560,0.560,0.560,0.560,0.560,0.560,0.560,0.560,0.560,0.560,0.560,0.560,0.560,0.560,0.560,0.560,0.560,0.560,0.560,0.560,0.560,0.560,0.560,0.560,0.560,0.560,0.560,0.560,0.560,0.560,0.560,0.560,0.560,0.560,0.560,0.560,0.560,0.560,0.560,0.560,0.560,0.560,0.560,0.560,0.560,0.560,0.560,0.560,0.560,0.560,0.560,0.560,0.560,0.560,0.560,0.560,0.560,0.560,0.560,0.560,0.560,0.560,0.560,0.560,0.560,0.560,0.560,0.560,0.560,0.560,0.560,0.560,0.560,0.560,0.560,0.560,0.560,0.560,0.560,0.560,0.560,0.560,0.560,0.560,0.560,0.560,0.560,0.560,0.560,0.560,0.560,0.560,0.560,0.560,0.560,0.560,0.560,0.560,0.560,0.560,0.560,0.560,0.560,0.560,0.560,0.560,0.560,0.560,0.560,0.560,0.560,0.560,0.560,0.560,0.560,0.560,0.560,0.560,0.560,0.560,0.560,0.560,0.560,0.560,0.560,0.560,0.560,0.560,0.560,0.560,0.560,0.560,0.560,0.560,0.560,0.560,0.560,0.560,0.560,0.560,0.560,0.560,0.560,0.560,0.560,0.560,0.560,0.560,0.560,0.560,0.560,0.560,0.560,0.560,0.560,0.560,0.560,0.560,0.560,0.560,0.560,0.560,0.560,0.560,0.560,0.560,0.560,0.560,0.560,0.560,0.560,0.560,0.560,0.560,0.560,0.560,0.560,0.560,0.560,0.560,0.560,0.560,0.560,0.560,0.560,0.560,0.560,0.560,0.560,0.560,0.560,0.560,0.560,0.560,0.560,0.560,0.560,0.560,0.560,0.560,0.560,0.560,0.560,0.560,0.560,0.560,0.560,0.560,0.560,0.560,0.560,0.560,0.560,0.560,0.560,0.560,0.560,0.560,0.560,0.560,0.560,0.560,0.560,0.560,0.560,0.560,0.560,0.560,0.560,0.560,0.560,0.560,0.560,0.560,0.560,0.560,0.560,0.560,0.560,0.560,0.560,0.560,0.560,0.560,0.560,0.560,0.560,0.560,0.560,0.560,0.560,0.560,0.560,0.560,0.560,0.560,0.560,0.560,0.560,0.560,0.560,0.560,0.560,0.560,0.560,0.560,0.560,0.560,0.560,0.560,0.560,0.560,0.560,0.560,0.560,0.560,0.560,0.560,0.560,0.560,0.560,0.560,0.560,0.560,0.560,0.560,0.560,0.560,0.560,0.560,0.560,0.560,0.560,0.560,0.560,0.560,0.560,0.560,0.560,0.560,0.560,0.560,0.560,0.560,0.560,0.560,0.560,0.560,0.560,0.560,0.560,0.560,0.560,0.560,0.560,0.560,0.560,0.560,0.560,0.560,0.560,0.560,0.560,0.560,0.560,0.560,0.560,0.560,0.560,0.560,0.560,0.560,0.560,0.560,0.560,0.560,0.560,0.560,0.560,0.560,0.560,0.560,0.560,0.560,0.560,0.560,0.560,0.560,0.560,0.560,0.560,0.560,0.560,0.560,0.560,0.560,0.560,0.560,0.560,0.560,0.560,0.560,0.560,0.560,0.5\n",
      "Done.\n"
     ]
    }
   ],
   "source": [
    "# pick a random seed\n",
    "start = numpy.random.randint(0, len(dataX)-1)\n",
    "pattern = dataX[start]\n",
    "print(\"Seed:\")\n",
    "print(\"\\\"\", ''.join([int_to_char[value] for value in pattern]), \"\\\"\")\n",
    "print('-------------------------------------')\n",
    "# generate characters\n",
    "for i in range(1000):\n",
    "\tx = numpy.reshape(pattern, (1, len(pattern), 1))\n",
    "\tx = x / float(n_vocab)\n",
    "\tprediction = model.predict(x, verbose=0)\n",
    "\tindex = numpy.argmax(prediction)\n",
    "\tresult = int_to_char[index]\n",
    "\tseq_in = [int_to_char[value] for value in pattern]\n",
    "\tsys.stdout.write(result)\n",
    "\tpattern.append(index)\n",
    "\tpattern = pattern[1:len(pattern)]\n",
    "print(\"\\nDone.\")"
   ]
  },
  {
   "cell_type": "code",
   "execution_count": null,
   "metadata": {
    "collapsed": true
   },
   "outputs": [],
   "source": []
  },
  {
   "cell_type": "code",
   "execution_count": null,
   "metadata": {
    "collapsed": true
   },
   "outputs": [],
   "source": []
  },
  {
   "cell_type": "code",
   "execution_count": null,
   "metadata": {
    "collapsed": true
   },
   "outputs": [],
   "source": []
  }
 ],
 "metadata": {
  "kernelspec": {
   "display_name": "Python 3",
   "language": "python",
   "name": "python3"
  },
  "language_info": {
   "codemirror_mode": {
    "name": "ipython",
    "version": 3
   },
   "file_extension": ".py",
   "mimetype": "text/x-python",
   "name": "python",
   "nbconvert_exporter": "python",
   "pygments_lexer": "ipython3",
   "version": "3.6.3"
  }
 },
 "nbformat": 4,
 "nbformat_minor": 2
}
